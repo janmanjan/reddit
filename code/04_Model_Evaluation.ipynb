{
 "cells": [
  {
   "cell_type": "markdown",
   "id": "52096d0e-25a9-44ba-9c23-08a6fea173d2",
   "metadata": {
    "tags": []
   },
   "source": [
    "### Imports"
   ]
  },
  {
   "cell_type": "code",
   "execution_count": 4,
   "id": "fc6ec0e3-fcf5-49af-b1f4-f60ab91a12e2",
   "metadata": {
    "tags": []
   },
   "outputs": [],
   "source": [
    "import numpy as np\n",
    "import matplotlib.pyplot as plt\n",
    "import pandas as pd\n",
    "import seaborn as sns\n",
    "\n",
    "import regex\n",
    "import pickle\n",
    "from sklearn.pipeline import Pipeline\n",
    "from sklearn.model_selection import train_test_split, cross_val_score\n",
    "from sklearn.feature_extraction.text import CountVectorizer, TfidfVectorizer\n",
    "from sklearn.naive_bayes import MultinomialNB\n",
    "from nltk.stem import WordNetLemmatizer\n",
    "from nltk.stem.porter import PorterStemmer\n",
    "from nltk.tokenize import sent_tokenize, word_tokenize, RegexpTokenizer\n",
    "from sklearn.linear_model import LogisticRegression\n",
    "from sklearn.neighbors import KNeighborsClassifier\n",
    "from sklearn.svm import SVC\n",
    "from sklearn.metrics import confusion_matrix, plot_confusion_matrix\n",
    "from skopt import BayesSearchCV\n",
    "from scipy.stats import uniform, loguniform\n",
    "from skopt.space import Integer, Real, Categorical\n",
    "from sklearn.metrics import (confusion_matrix, plot_confusion_matrix,\n",
    "    accuracy_score, plot_roc_curve, roc_auc_score, recall_score, precision_score, f1_score, classification_report)"
   ]
  },
  {
   "cell_type": "code",
   "execution_count": 5,
   "id": "fee77254-428c-4e3d-9c12-6b4bfd5deea8",
   "metadata": {},
   "outputs": [],
   "source": [
    "subreddits = pd.read_csv('C:/Users/mmoli/GA/projects/project_3/data/subreddits_cleaned.csv')"
   ]
  },
  {
   "cell_type": "code",
   "execution_count": 6,
   "id": "07b9f9db-779d-4c62-804a-ef09c33015a6",
   "metadata": {
    "tags": []
   },
   "outputs": [
    {
     "data": {
      "text/plain": [
       "(122978, 5)"
      ]
     },
     "execution_count": 6,
     "metadata": {},
     "output_type": "execute_result"
    }
   ],
   "source": [
    "subreddits.shape"
   ]
  },
  {
   "cell_type": "code",
   "execution_count": 7,
   "id": "62a010e3-eb2b-4f11-8881-3ca04472f65e",
   "metadata": {},
   "outputs": [],
   "source": [
    "# Run for production Model\n",
    "import re\n",
    "\n",
    "def decontracted(phrase):\n",
    "    # specific\n",
    "    phrase = re.sub(r\"won\\'t\", \"will not\", phrase)\n",
    "    phrase = re.sub(r\"can\\'t\", \"can not\", phrase)\n",
    "    phrase = re.sub(r\"it\\'s\", \"its\", phrase)\n",
    "    phrase = re.sub(r\"What\\'s\", \"What is\", phrase)\n",
    "\n",
    "    # general\n",
    "    phrase = re.sub(r\"n\\'t\", \" not\", phrase)\n",
    "    phrase = re.sub(r\"\\'re\", \" are\", phrase)\n",
    "    # phrase = re.sub(r\"\\'s\", \" is\", phrase)\n",
    "    phrase = re.sub(r\"\\'d\", \" would\", phrase)\n",
    "    phrase = re.sub(r\"\\'ll\", \" will\", phrase)\n",
    "    phrase = re.sub(r\"\\'t\", \" not\", phrase)\n",
    "    phrase = re.sub(r\"\\'ve\", \" have\", phrase)\n",
    "    phrase = re.sub(r\"\\'m\", \" am\", phrase)\n",
    "    return phrase\n",
    "\n",
    "# https://stackoverflow.com/questions/19790188/expanding-english-language-contractions-in-python\n",
    "\n",
    "def mytokenizing_stem(column):\n",
    "    words = ''\n",
    "    for elements in column:\n",
    "        words += elements\n",
    "    tokenizer = RegexpTokenizer(r'\\w+')\n",
    "    words_tokens = tokenizer.tokenize(words)\n",
    "    p_stemmer = PorterStemmer()\n",
    "    words_tokens_stem = [p_stemmer.stem(token) for token in words_tokens]\n",
    "    return words_tokens_stem\n",
    "\n",
    "# expanding contracted text\n",
    "for col in ['text']:\n",
    "    subreddits['text'] = [decontracted(each) for each in subreddits[col]]"
   ]
  },
  {
   "cell_type": "code",
   "execution_count": 15,
   "id": "7de591e5-e004-4e3c-b1c2-d6836d3a2af1",
   "metadata": {},
   "outputs": [
    {
     "data": {
      "text/plain": [
       "0    0.506147\n",
       "1    0.493853\n",
       "Name: subreddit_nsq, dtype: float64"
      ]
     },
     "execution_count": 15,
     "metadata": {},
     "output_type": "execute_result"
    }
   ],
   "source": [
    "subreddits['subreddit_nsq'].value_counts(normalize=True)"
   ]
  },
  {
   "cell_type": "markdown",
   "id": "d8f68557-8b2b-402e-a000-f2a8d9b8bb5a",
   "metadata": {
    "tags": []
   },
   "source": [
    "### Comparison MNB Model"
   ]
  },
  {
   "cell_type": "code",
   "execution_count": 75,
   "id": "08701e7c-e9d7-4829-98eb-d865b7a88dd3",
   "metadata": {},
   "outputs": [],
   "source": [
    "X = subreddits['text']\n",
    "y = subreddits['subreddit_nsq']"
   ]
  },
  {
   "cell_type": "code",
   "execution_count": 76,
   "id": "023bbada-4ae8-4a30-a54c-ff4fcc5fe5fe",
   "metadata": {},
   "outputs": [],
   "source": [
    "# train test split\n",
    "X_train, X_test, y_train, y_test = train_test_split(X, y, random_state=24, stratify=y)"
   ]
  },
  {
   "cell_type": "code",
   "execution_count": 59,
   "id": "f10a689a-3099-4d7b-98fb-f68c4b7b2b9b",
   "metadata": {},
   "outputs": [
    {
     "data": {
      "text/plain": [
       "(0.7091930220203181, 0.689120182143438)"
      ]
     },
     "execution_count": 59,
     "metadata": {},
     "output_type": "execute_result"
    }
   ],
   "source": [
    "pipe = Pipeline([\n",
    "    ('cv', CountVectorizer(min_df=2, tokenizer=mytokenizing_stem, max_features=9_000)),\n",
    "    ('mnb', MultinomialNB(alpha=.5))\n",
    "])\n",
    "\n",
    "pipe.fit(X_train, y_train)\n",
    "pipe.score(X_train, y_train), pipe.score(X_test, y_test)"
   ]
  },
  {
   "cell_type": "code",
   "execution_count": 60,
   "id": "685e87b0-6945-428e-a27c-b9983c410517",
   "metadata": {},
   "outputs": [
    {
     "data": {
      "image/png": "[encoded data removed]",
      "text/plain": [
       "<Figure size 432x288 with 2 Axes>"
      ]
     },
     "metadata": {
      "needs_background": "light"
     },
     "output_type": "display_data"
    }
   ],
   "source": [
    "plot_confusion_matrix(pipe, X_test, y_test, cmap=\"Blues\");\n",
    "\n",
    "plt.title('Confusion Matrix for MNB');\n",
    "plt.xticks(ticks=[0, 1], labels=['TATA', 'NSQ'])\n",
    "plt.yticks(ticks=[0, 1], labels=['TATA', 'NSQ'])\n",
    "\n",
    "plt.ylabel('True')\n",
    "plt.xlabel('Predicted');"
   ]
  },
  {
   "cell_type": "markdown",
   "id": "75d23fa5-f901-440c-a017-ff0f61b19673",
   "metadata": {
    "tags": []
   },
   "source": [
    "### Production Logistic Regression Model"
   ]
  },
  {
   "cell_type": "code",
   "execution_count": 39,
   "id": "f915c3b3-1f97-46c0-961a-bc3ce64bd420",
   "metadata": {},
   "outputs": [
    {
     "name": "stderr",
     "output_type": "stream",
     "text": [
      "[Parallel(n_jobs=1)]: Using backend SequentialBackend with 1 concurrent workers.\n",
      "[Parallel(n_jobs=1)]: Done   1 out of   1 | elapsed:    3.6s finished\n"
     ]
    },
    {
     "data": {
      "text/plain": [
       "(0.7136708119653487, 0.6923402179216133)"
      ]
     },
     "execution_count": 39,
     "metadata": {},
     "output_type": "execute_result"
    }
   ],
   "source": [
    "pipe = Pipeline([\n",
    "    ('cv', CountVectorizer(min_df=2, tokenizer=mytokenizing_stem, max_df=.95)), \n",
    "    ('logreg', LogisticRegression(C=.004, random_state=24, max_iter=600, class_weight='balanced', verbose=1))\n",
    "])\n",
    "\n",
    "pipe.fit(X_train, y_train)\n",
    "pipe.score(X_train, y_train), pipe.score(X_test, y_test)"
   ]
  },
  {
   "cell_type": "code",
   "execution_count": 18,
   "id": "aa0407dc-45f7-4e2b-81da-992643702875",
   "metadata": {},
   "outputs": [],
   "source": [
    "with open('C:/Users/mmoli/GA/projects/project_3/data/pickles/logreg.pkl', 'wb') as pickle_out:\n",
    "    pickle.dump(pipe, pickle_out)"
   ]
  },
  {
   "cell_type": "code",
   "execution_count": 8,
   "id": "80fa9174-3e9d-4986-8ce8-14b178a33568",
   "metadata": {},
   "outputs": [
    {
     "name": "stderr",
     "output_type": "stream",
     "text": [
      "C:\\Users\\mmoli\\anaconda3\\lib\\site-packages\\sklearn\\base.py:329: UserWarning: Trying to unpickle estimator CountVectorizer from version 0.24.2 when using version 1.0.2. This might lead to breaking code or invalid results. Use at your own risk. For more info please refer to:\n",
      "https://scikit-learn.org/stable/modules/model_persistence.html#security-maintainability-limitations\n",
      "  warnings.warn(\n",
      "C:\\Users\\mmoli\\anaconda3\\lib\\site-packages\\sklearn\\base.py:329: UserWarning: Trying to unpickle estimator LogisticRegression from version 0.24.2 when using version 1.0.2. This might lead to breaking code or invalid results. Use at your own risk. For more info please refer to:\n",
      "https://scikit-learn.org/stable/modules/model_persistence.html#security-maintainability-limitations\n",
      "  warnings.warn(\n",
      "C:\\Users\\mmoli\\anaconda3\\lib\\site-packages\\sklearn\\base.py:329: UserWarning: Trying to unpickle estimator Pipeline from version 0.24.2 when using version 1.0.2. This might lead to breaking code or invalid results. Use at your own risk. For more info please refer to:\n",
      "https://scikit-learn.org/stable/modules/model_persistence.html#security-maintainability-limitations\n",
      "  warnings.warn(\n"
     ]
    }
   ],
   "source": [
    "with open ('C:/Users/mmoli/GA/projects/project_3/data/pickles/logreg.pkl', mode='rb') as pickle_in:\n",
    "    logreg = pickle.load(pickle_in)"
   ]
  },
  {
   "cell_type": "code",
   "execution_count": 5,
   "id": "5d7f4b9d-558e-480d-96fb-f800f3f8d69e",
   "metadata": {},
   "outputs": [],
   "source": [
    "X = subreddits['text']\n",
    "y = subreddits['subreddit_nsq']\n",
    "\n",
    "X_train, X_test, y_train, y_test = train_test_split(X, y, random_state=24, stratify=y)"
   ]
  },
  {
   "cell_type": "code",
   "execution_count": 6,
   "id": "2a17f294-e76f-4aa0-bac4-9be4947200b9",
   "metadata": {},
   "outputs": [
    {
     "name": "stderr",
     "output_type": "stream",
     "text": [
      "C:\\Users\\mmoli\\anaconda3\\lib\\site-packages\\sklearn\\feature_extraction\\text.py:489: UserWarning: The parameter 'token_pattern' will not be used since 'tokenizer' is not None'\n",
      "  warnings.warn(\"The parameter 'token_pattern' will not be used\"\n"
     ]
    }
   ],
   "source": [
    "cv = CountVectorizer(min_df=2, tokenizer=mytokenizing_stem, max_df=.95)\n",
    "cv.fit(X_train)\n",
    "X_train_cv = cv.transform(X_train)\n",
    "X_test_cv = cv.transform(X_test)"
   ]
  },
  {
   "cell_type": "code",
   "execution_count": 7,
   "id": "7a16ea61-15c9-4dd3-8b26-a180f8159d58",
   "metadata": {},
   "outputs": [
    {
     "name": "stderr",
     "output_type": "stream",
     "text": [
      "[Parallel(n_jobs=1)]: Using backend SequentialBackend with 1 concurrent workers.\n",
      "[Parallel(n_jobs=1)]: Done   1 out of   1 | elapsed:    3.8s finished\n"
     ]
    },
    {
     "data": {
      "text/plain": [
       "LogisticRegression(C=0.004, class_weight='balanced', max_iter=600,\n",
       "                   random_state=24, verbose=1)"
      ]
     },
     "execution_count": 7,
     "metadata": {},
     "output_type": "execute_result"
    }
   ],
   "source": [
    "logreg = LogisticRegression(C=.004, random_state=24, max_iter=600, class_weight='balanced', verbose=1)\n",
    "logreg.fit(X_train_cv, y_train)"
   ]
  },
  {
   "cell_type": "code",
   "execution_count": 8,
   "id": "e2fa8c27-5c13-49de-8889-af3a054ed54c",
   "metadata": {},
   "outputs": [
    {
     "data": {
      "text/plain": [
       "0.6923402179216133"
      ]
     },
     "execution_count": 8,
     "metadata": {},
     "output_type": "execute_result"
    }
   ],
   "source": [
    "logreg.score(X_test_cv, y_test)"
   ]
  },
  {
   "cell_type": "code",
   "execution_count": 54,
   "id": "b45d6488-0a8e-44aa-80c2-49119b795a1d",
   "metadata": {},
   "outputs": [
    {
     "name": "stderr",
     "output_type": "stream",
     "text": [
      "[Parallel(n_jobs=1)]: Using backend SequentialBackend with 1 concurrent workers.\n",
      "[Parallel(n_jobs=1)]: Done   1 out of   1 | elapsed:    0.6s finished\n",
      "[Parallel(n_jobs=1)]: Using backend SequentialBackend with 1 concurrent workers.\n",
      "[Parallel(n_jobs=1)]: Done   1 out of   1 | elapsed:    1.0s finished\n",
      "[Parallel(n_jobs=1)]: Using backend SequentialBackend with 1 concurrent workers.\n",
      "[Parallel(n_jobs=1)]: Done   1 out of   1 | elapsed:    0.8s finished\n",
      "[Parallel(n_jobs=1)]: Using backend SequentialBackend with 1 concurrent workers.\n",
      "[Parallel(n_jobs=1)]: Done   1 out of   1 | elapsed:    0.7s finished\n",
      "[Parallel(n_jobs=1)]: Using backend SequentialBackend with 1 concurrent workers.\n"
     ]
    },
    {
     "name": "stdout",
     "output_type": "stream",
     "text": [
      "[0.67718328 0.67946007 0.6674256  0.67864693 0.67832168]\n",
      "0.6762075134168157\n"
     ]
    },
    {
     "name": "stderr",
     "output_type": "stream",
     "text": [
      "[Parallel(n_jobs=1)]: Done   1 out of   1 | elapsed:    0.8s finished\n"
     ]
    }
   ],
   "source": [
    "logreg_scores = cross_val_score(logreg, X_test_cv, y_test)\n",
    "print(logreg_scores)\n",
    "print(logreg_scores.mean())"
   ]
  },
  {
   "cell_type": "code",
   "execution_count": 67,
   "id": "9b79dfa2-0096-44b6-9789-ba125dd01d28",
   "metadata": {},
   "outputs": [],
   "source": [
    "X_eda = pd.DataFrame(X_train_cv.todense(), columns=cv.get_feature_names())"
   ]
  },
  {
   "cell_type": "code",
   "execution_count": 89,
   "id": "7075ca00-d624-4c67-8a61-ceacfdb150a7",
   "metadata": {},
   "outputs": [
    {
     "data": {
      "text/plain": [
       "(92233, 24352)"
      ]
     },
     "execution_count": 89,
     "metadata": {},
     "output_type": "execute_result"
    }
   ],
   "source": [
    "X_eda.shape"
   ]
  },
  {
   "cell_type": "code",
   "execution_count": 54,
   "id": "7e6c2744-32a4-450e-82d0-52ee64cc66ad",
   "metadata": {},
   "outputs": [],
   "source": [
    "# table of most influential words\n",
    "\n",
    "coefficent_list = pd.DataFrame(logreg.coef_.ravel(), cv.get_feature_names())\n",
    "\n",
    "coefficent_list= coefficent_list.rename(columns={0: 'Coefficients'})"
   ]
  },
  {
   "cell_type": "code",
   "execution_count": 87,
   "id": "37ac7b46-05fb-4d8d-84b3-9d2b4c533276",
   "metadata": {},
   "outputs": [
    {
     "data": {
      "text/html": [
       "<div>\n",
       "<style scoped>\n",
       "    .dataframe tbody tr th:only-of-type {\n",
       "        vertical-align: middle;\n",
       "    }\n",
       "\n",
       "    .dataframe tbody tr th {\n",
       "        vertical-align: top;\n",
       "    }\n",
       "\n",
       "    .dataframe thead th {\n",
       "        text-align: right;\n",
       "    }\n",
       "</style>\n",
       "<table border=\"1\" class=\"dataframe\">\n",
       "  <thead>\n",
       "    <tr style=\"text-align: right;\">\n",
       "      <th></th>\n",
       "      <th>Coefficients</th>\n",
       "    </tr>\n",
       "  </thead>\n",
       "  <tbody>\n",
       "    <tr>\n",
       "      <th>http</th>\n",
       "      <td>0.645365</td>\n",
       "    </tr>\n",
       "    <tr>\n",
       "      <th>com</th>\n",
       "      <td>0.372753</td>\n",
       "    </tr>\n",
       "    <tr>\n",
       "      <th>tran</th>\n",
       "      <td>0.340516</td>\n",
       "    </tr>\n",
       "    <tr>\n",
       "      <th>christma</th>\n",
       "      <td>0.316943</td>\n",
       "    </tr>\n",
       "    <tr>\n",
       "      <th>www</th>\n",
       "      <td>0.267278</td>\n",
       "    </tr>\n",
       "  </tbody>\n",
       "</table>\n",
       "</div>"
      ],
      "text/plain": [
       "          Coefficients\n",
       "http          0.645365\n",
       "com           0.372753\n",
       "tran          0.340516\n",
       "christma      0.316943\n",
       "www           0.267278"
      ]
     },
     "execution_count": 87,
     "metadata": {},
     "output_type": "execute_result"
    }
   ],
   "source": [
    "h_coef_nsq = coefficent_list.sort_values(by='Coefficients', ascending=False).head(5)\n",
    "h_coef_nsq"
   ]
  },
  {
   "cell_type": "code",
   "execution_count": 86,
   "id": "6fc6655f-1cb5-4073-96c1-310ddfff891b",
   "metadata": {},
   "outputs": [
    {
     "data": {
      "text/plain": [
       "6432"
      ]
     },
     "execution_count": 86,
     "metadata": {},
     "output_type": "execute_result"
    }
   ],
   "source": [
    "X_eda[h_coef_nsq.index].sum().sum()"
   ]
  },
  {
   "cell_type": "markdown",
   "id": "74ea574a-d26f-46ff-8256-34cbc2652a24",
   "metadata": {},
   "source": [
    "* Words that had the most impact for predicting NSQ however had a very low count of occurrence at 6432; not enough to create a big impact across the entire dataset of 92233"
   ]
  },
  {
   "cell_type": "code",
   "execution_count": 88,
   "id": "0d513f75-0bb3-43b0-8f9d-658cd608472e",
   "metadata": {},
   "outputs": [
    {
     "data": {
      "text/html": [
       "<div>\n",
       "<style scoped>\n",
       "    .dataframe tbody tr th:only-of-type {\n",
       "        vertical-align: middle;\n",
       "    }\n",
       "\n",
       "    .dataframe tbody tr th {\n",
       "        vertical-align: top;\n",
       "    }\n",
       "\n",
       "    .dataframe thead th {\n",
       "        text-align: right;\n",
       "    }\n",
       "</style>\n",
       "<table border=\"1\" class=\"dataframe\">\n",
       "  <thead>\n",
       "    <tr style=\"text-align: right;\">\n",
       "      <th></th>\n",
       "      <th>Coefficients</th>\n",
       "    </tr>\n",
       "  </thead>\n",
       "  <tbody>\n",
       "    <tr>\n",
       "      <th>vaccin</th>\n",
       "      <td>-0.582380</td>\n",
       "    </tr>\n",
       "    <tr>\n",
       "      <th>suicid</th>\n",
       "      <td>-0.569539</td>\n",
       "    </tr>\n",
       "    <tr>\n",
       "      <th>flair</th>\n",
       "      <td>-0.501484</td>\n",
       "    </tr>\n",
       "    <tr>\n",
       "      <th>afraid</th>\n",
       "      <td>-0.488932</td>\n",
       "    </tr>\n",
       "    <tr>\n",
       "      <th>rape</th>\n",
       "      <td>-0.415993</td>\n",
       "    </tr>\n",
       "  </tbody>\n",
       "</table>\n",
       "</div>"
      ],
      "text/plain": [
       "        Coefficients\n",
       "vaccin     -0.582380\n",
       "suicid     -0.569539\n",
       "flair      -0.501484\n",
       "afraid     -0.488932\n",
       "rape       -0.415993"
      ]
     },
     "execution_count": 88,
     "metadata": {},
     "output_type": "execute_result"
    }
   ],
   "source": [
    "h_coef_tata = coefficent_list.sort_values(by='Coefficients', ascending=False).tail(5).sort_values(by='Coefficients')\n",
    "h_coef_tata"
   ]
  },
  {
   "cell_type": "code",
   "execution_count": 85,
   "id": "6063f5dd-9a44-4c65-982c-f7a93df5ba94",
   "metadata": {},
   "outputs": [
    {
     "data": {
      "text/plain": [
       "7941"
      ]
     },
     "execution_count": 85,
     "metadata": {},
     "output_type": "execute_result"
    }
   ],
   "source": [
    "X_eda[h_coef_tata.index].sum().sum()"
   ]
  },
  {
   "cell_type": "markdown",
   "id": "31bb401f-2dc7-48af-8224-5588b6c014e1",
   "metadata": {},
   "source": [
    "* Words that had the most impact for predicting TATA however had a very low count of occurence at 7941; not enough to create a big impact across the entire dataset of 92233"
   ]
  },
  {
   "cell_type": "code",
   "execution_count": 20,
   "id": "6152a1a1-a8a5-467d-9b8d-973b96dfe9dc",
   "metadata": {},
   "outputs": [
    {
     "data": {
      "image/png": "[encoded data removed]",
      "text/plain": [
       "<Figure size 432x288 with 2 Axes>"
      ]
     },
     "metadata": {
      "needs_background": "light"
     },
     "output_type": "display_data"
    }
   ],
   "source": [
    "plot_confusion_matrix(logreg, X_test, y_test, cmap=\"Blues\");\n",
    "\n",
    "plt.title('Confusion Matrix for Logisitic Regression');\n",
    "plt.xticks(ticks=[0, 1], labels=['TATA', 'NSQ'])\n",
    "plt.yticks(ticks=[0, 1], labels=['TATA', 'NSQ'])\n",
    "\n",
    "plt.ylabel('True')\n",
    "plt.xlabel('Predicted');"
   ]
  },
  {
   "cell_type": "markdown",
   "id": "102a8f74-d0ac-4272-9155-308d861d51f0",
   "metadata": {},
   "source": [
    "* Larger rate of false positives; look to optimize; better at predicting NSQ"
   ]
  },
  {
   "cell_type": "code",
   "execution_count": 93,
   "id": "290a3bc7-c87b-4a06-b979-3c563ca68165",
   "metadata": {},
   "outputs": [
    {
     "name": "stdout",
     "output_type": "stream",
     "text": [
      "Accuracy is 0.6923402179216133\n",
      "Misclassification is 0.30765978207838673\n",
      "Recall is 0.7573602054929855\n",
      "Precision is 0.6656825286557833\n",
      "F1 score is 0.7085682595433959\n"
     ]
    }
   ],
   "source": [
    "print(f'Accuracy is {accuracy_score(y_test, preds)}')\n",
    "print(f'Misclassification is {1-accuracy_score(y_test, preds)}')\n",
    "print(f'Recall is {recall_score(y_test, preds, pos_label=1)}')\n",
    "print(f'Precision is {precision_score(y_test, preds, pos_label=1)}')\n",
    "print(f'F1 score is {f1_score(y_test, preds, pos_label=1)}')"
   ]
  },
  {
   "cell_type": "code",
   "execution_count": 93,
   "id": "9d0912dd-ae76-4f1a-817f-4afd08074581",
   "metadata": {},
   "outputs": [],
   "source": [
    "preds = logreg.predict(X_test_cv)"
   ]
  },
  {
   "cell_type": "code",
   "execution_count": 94,
   "id": "8b794581-b009-494a-be12-7699ee1b22eb",
   "metadata": {},
   "outputs": [],
   "source": [
    "nsq_probabilities = logreg.predict_proba(X_test_cv)[:, 1]"
   ]
  },
  {
   "cell_type": "code",
   "execution_count": 95,
   "id": "31b5ed93-a2f1-4d4e-b115-a93de5d96295",
   "metadata": {},
   "outputs": [],
   "source": [
    "y_test_convert ={\n",
    "    1: 'nsq',\n",
    "    0: 'tata'\n",
    "}\n",
    "y_test = y_test.map(y_test_convert)"
   ]
  },
  {
   "cell_type": "code",
   "execution_count": 96,
   "id": "4550ccc4-0ba5-4ada-a9ca-64149b1b92fb",
   "metadata": {},
   "outputs": [],
   "source": [
    "pred_df = pd.DataFrame({\n",
    "    'true_values': y_test,\n",
    "    'pred_probs': nsq_probabilities\n",
    "})"
   ]
  },
  {
   "cell_type": "code",
   "execution_count": 97,
   "id": "8b47bbb4-704b-4d96-94e1-7d7142b2a0f9",
   "metadata": {},
   "outputs": [
    {
     "data": {
      "text/html": [
       "<div>\n",
       "<style scoped>\n",
       "    .dataframe tbody tr th:only-of-type {\n",
       "        vertical-align: middle;\n",
       "    }\n",
       "\n",
       "    .dataframe tbody tr th {\n",
       "        vertical-align: top;\n",
       "    }\n",
       "\n",
       "    .dataframe thead th {\n",
       "        text-align: right;\n",
       "    }\n",
       "</style>\n",
       "<table border=\"1\" class=\"dataframe\">\n",
       "  <thead>\n",
       "    <tr style=\"text-align: right;\">\n",
       "      <th></th>\n",
       "      <th>pred_probs</th>\n",
       "    </tr>\n",
       "    <tr>\n",
       "      <th>true_values</th>\n",
       "      <th></th>\n",
       "    </tr>\n",
       "  </thead>\n",
       "  <tbody>\n",
       "    <tr>\n",
       "      <th>nsq</th>\n",
       "      <td>0.586750</td>\n",
       "    </tr>\n",
       "    <tr>\n",
       "      <th>tata</th>\n",
       "      <td>0.415804</td>\n",
       "    </tr>\n",
       "  </tbody>\n",
       "</table>\n",
       "</div>"
      ],
      "text/plain": [
       "             pred_probs\n",
       "true_values            \n",
       "nsq            0.586750\n",
       "tata           0.415804"
      ]
     },
     "execution_count": 97,
     "metadata": {},
     "output_type": "execute_result"
    }
   ],
   "source": [
    "pred_df.groupby(by='true_values').mean()"
   ]
  },
  {
   "cell_type": "code",
   "execution_count": 81,
   "id": "87811b8d-d6b6-4033-8824-8cccb69e2090",
   "metadata": {},
   "outputs": [
    {
     "data": {
      "text/plain": [
       "<matplotlib.legend.Legend at 0x150210890a0>"
      ]
     },
     "execution_count": 81,
     "metadata": {},
     "output_type": "execute_result"
    },
    {
     "data": {
      "image/png": "[encoded data removed]",
      "text/plain": [
       "<Figure size 432x288 with 1 Axes>"
      ]
     },
     "metadata": {
      "needs_background": "light"
     },
     "output_type": "display_data"
    }
   ],
   "source": [
    "# ROC curve\n",
    "plot_roc_curve(pipe, X_test, y_test)\n",
    "\n",
    "# add worst case scenario line\n",
    "plt.plot([0,1], [0,1], label='baseline', linestyle='--')\n",
    "\n",
    "# add a legend\n",
    "plt.legend()"
   ]
  },
  {
   "cell_type": "code",
   "execution_count": 100,
   "id": "38995787-d196-4cca-b513-f4652ec551f8",
   "metadata": {},
   "outputs": [
    {
     "data": {
      "text/plain": [
       "0.23919147713916436"
      ]
     },
     "execution_count": 100,
     "metadata": {},
     "output_type": "execute_result"
    }
   ],
   "source": [
    "roc_auc_score(y_test, logreg.predict_proba(X_test_cv)[:,1])"
   ]
  },
  {
   "cell_type": "markdown",
   "id": "511bed03-732e-4b08-9404-b5d7bac249c1",
   "metadata": {},
   "source": [
    "* The graph confirms that the model isn't the best but isn't the worst when trying to separate the datasets"
   ]
  },
  {
   "cell_type": "code",
   "execution_count": 129,
   "id": "e83ae038-b08f-4334-90ce-65557e87d294",
   "metadata": {},
   "outputs": [
    {
     "data": {
      "image/png": "[encoded data removed]",
      "text/plain": [
       "<Figure size 432x432 with 1 Axes>"
      ]
     },
     "metadata": {
      "needs_background": "light"
     },
     "output_type": "display_data"
    }
   ],
   "source": [
    "plt.figure(figsize=(6, 6))\n",
    "\n",
    "tata_subset = pred_df[pred_df['true_values'] == 'tata']\n",
    "plt.hist(tata_subset['pred_probs'], label='tata', bins=20, alpha=.8)\n",
    "\n",
    "nsq_subset = pred_df[pred_df['true_values'] == 'nsq']\n",
    "plt.hist(nsq_subset['pred_probs'], label='nsq', bins=20, alpha=.8)\n",
    "\n",
    "plt.axvline(.5511, color='black', linestyle='--')\n",
    "plt.xlabel('Predicted probability of outcome = nsq')\n",
    "\n",
    "plt.legend();"
   ]
  },
  {
   "cell_type": "markdown",
   "id": "4dc13282-8ddb-4b41-8d81-376197916ccc",
   "metadata": {},
   "source": [
    "* The histogram indicates that the model can definitely parse out the data for NSQ and TATA however this still quite a large overlap; corroborates with roc auc curve"
   ]
  },
  {
   "cell_type": "code",
   "execution_count": 98,
   "id": "91d38646-4d36-49a6-922c-d97f86f59b0d",
   "metadata": {},
   "outputs": [],
   "source": [
    "def class_from_prob(probabilities, threshold):\n",
    "    return ['tata' if prob < threshold else 'nsq' for prob in probabilities]"
   ]
  },
  {
   "cell_type": "code",
   "execution_count": 99,
   "id": "a5aaf7b6-2e1f-4ada-92ad-1202609e9b03",
   "metadata": {},
   "outputs": [],
   "source": [
    "class_from_prob(pred_df['pred_probs'], threshold=.65);"
   ]
  },
  {
   "cell_type": "code",
   "execution_count": 101,
   "id": "f9a89cd6-08ba-4b5a-8931-d6647ab5aca6",
   "metadata": {},
   "outputs": [
    {
     "name": "stdout",
     "output_type": "stream",
     "text": [
      "For threshold=0.5,\n",
      "        accuracy=0.6923402179216133,\n",
      "        sensitivity=0.6289037398791929\n",
      "        \n",
      "For threshold=0.55,\n",
      "        accuracy=0.6956903561554725,\n",
      "        sensitivity=0.7409715974810436\n",
      "        \n",
      "For threshold=0.5511,\n",
      "        accuracy=0.6961131891364449,\n",
      "        sensitivity=0.7436704793728313\n",
      "        \n",
      "For threshold=0.64,\n",
      "        accuracy=0.6435517970401692,\n",
      "        sensitivity=0.9029687700809664\n",
      "        \n"
     ]
    }
   ],
   "source": [
    "threshold_list = [.5, .55, .5511, .64]\n",
    "\n",
    "for threshold in threshold_list:\n",
    "    predicted_classes = class_from_prob(pred_df['pred_probs'], threshold)\n",
    "    acc = accuracy_score(y_test, predicted_classes)\n",
    "    sens = recall_score(y_test, predicted_classes, pos_label='tata')\n",
    "    print(f'''For threshold={threshold},\n",
    "        accuracy={acc},\n",
    "        sensitivity={sens}\n",
    "        ''')"
   ]
  },
  {
   "cell_type": "markdown",
   "id": "1ff87cb0-bd7e-4e4d-a115-4d61e6a8666a",
   "metadata": {},
   "source": [
    "* Changing the threshold to .5511 increases accuracy however not by much\n",
    "* Overall the model is able to classify some of the text for NSQ and TATA however there is still a large overlap"
   ]
  },
  {
   "cell_type": "code",
   "execution_count": null,
   "id": "d3d06e4a-d9a7-407b-b771-b0f93f5dc5bf",
   "metadata": {},
   "outputs": [],
   "source": []
  }
 ],
 "metadata": {
  "kernelspec": {
   "display_name": "Python 3 (ipykernel)",
   "language": "python",
   "name": "python3"
  },
  "language_info": {
   "codemirror_mode": {
    "name": "ipython",
    "version": 3
   },
   "file_extension": ".py",
   "mimetype": "text/x-python",
   "name": "python",
   "nbconvert_exporter": "python",
   "pygments_lexer": "ipython3",
   "version": "3.9.7"
  }
 },
 "nbformat": 4,
 "nbformat_minor": 5
}
