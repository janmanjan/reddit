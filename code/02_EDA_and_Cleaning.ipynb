{
 "cells": [
  {
   "cell_type": "markdown",
   "id": "89a7515f-63aa-46e9-9df2-21d05583f1e0",
   "metadata": {
    "tags": []
   },
   "source": [
    "### Imports"
   ]
  },
  {
   "cell_type": "markdown",
   "id": "4918e203-0544-400e-9544-ceec0eea6112",
   "metadata": {
    "tags": []
   },
   "source": [
    "##### Initial imports"
   ]
  },
  {
   "cell_type": "code",
   "execution_count": 1,
   "id": "c91d3f2f-b61e-48ee-8878-e348230496cb",
   "metadata": {},
   "outputs": [],
   "source": [
    "import numpy as np\n",
    "import matplotlib.pyplot as plt\n",
    "import pandas as pd\n",
    "import seaborn as sns\n",
    "\n",
    "import pickle\n",
    "from sklearn.ensemble import RandomForestClassifier, ExtraTreesClassifier\n",
    "from sklearn.pipeline import Pipeline\n",
    "from sklearn.model_selection import train_test_split, cross_val_score\n",
    "from sklearn.feature_extraction.text import CountVectorizer, TfidfVectorizer\n",
    "from sklearn.naive_bayes import MultinomialNB\n",
    "from sklearn.metrics import (confusion_matrix, plot_confusion_matrix,\n",
    "    accuracy_score, plot_roc_curve, roc_auc_score, recall_score,\n",
    "    precision_score, f1_score, classification_report)\n",
    "from nltk.tokenize import sent_tokenize, word_tokenize, RegexpTokenizer\n",
    "from nltk.stem.porter import PorterStemmer"
   ]
  },
  {
   "cell_type": "markdown",
   "id": "8b8a6102-2abb-4858-a1dc-348dbd7d77fc",
   "metadata": {
    "tags": []
   },
   "source": [
    "### Data Cleaning"
   ]
  },
  {
   "cell_type": "markdown",
   "id": "3e0ff45f-5c1c-4bc7-9945-f034b741c6b6",
   "metadata": {
    "tags": []
   },
   "source": [
    "##### Cleaning"
   ]
  },
  {
   "cell_type": "code",
   "execution_count": 11,
   "id": "f17af09b-cd86-4ab1-80b0-6c0a4dd391b3",
   "metadata": {},
   "outputs": [],
   "source": [
    "# reading in the subbreddit csv\n",
    "subreddits = pd.read_csv('C:/Users/mmoli/GA/projects/project_3/data/subreddits_raw.csv')"
   ]
  },
  {
   "cell_type": "code",
   "execution_count": 14,
   "id": "69420ed3-026e-473e-95f1-2b6acfb40847",
   "metadata": {},
   "outputs": [
    {
     "data": {
      "text/html": [
       "<div>\n",
       "<style scoped>\n",
       "    .dataframe tbody tr th:only-of-type {\n",
       "        vertical-align: middle;\n",
       "    }\n",
       "\n",
       "    .dataframe tbody tr th {\n",
       "        vertical-align: top;\n",
       "    }\n",
       "\n",
       "    .dataframe thead th {\n",
       "        text-align: right;\n",
       "    }\n",
       "</style>\n",
       "<table border=\"1\" class=\"dataframe\">\n",
       "  <thead>\n",
       "    <tr style=\"text-align: right;\">\n",
       "      <th></th>\n",
       "      <th>subreddit</th>\n",
       "      <th>title</th>\n",
       "      <th>selftext</th>\n",
       "      <th>created_utc</th>\n",
       "    </tr>\n",
       "  </thead>\n",
       "  <tbody>\n",
       "    <tr>\n",
       "      <th>0</th>\n",
       "      <td>NoStupidQuestions</td>\n",
       "      <td>What is the peak number density of spiders, wi...</td>\n",
       "      <td>NaN</td>\n",
       "      <td>1641836873</td>\n",
       "    </tr>\n",
       "    <tr>\n",
       "      <th>1</th>\n",
       "      <td>NoStupidQuestions</td>\n",
       "      <td>Can a white lady find it funny when she sees a...</td>\n",
       "      <td>NaN</td>\n",
       "      <td>1641836746</td>\n",
       "    </tr>\n",
       "    <tr>\n",
       "      <th>2</th>\n",
       "      <td>NoStupidQuestions</td>\n",
       "      <td>Where do STI's originate from?</td>\n",
       "      <td>If no one is born with them, and they are tran...</td>\n",
       "      <td>1641836722</td>\n",
       "    </tr>\n",
       "    <tr>\n",
       "      <th>3</th>\n",
       "      <td>NoStupidQuestions</td>\n",
       "      <td>What makes something an NFT?</td>\n",
       "      <td>[removed]</td>\n",
       "      <td>1641836669</td>\n",
       "    </tr>\n",
       "    <tr>\n",
       "      <th>4</th>\n",
       "      <td>NoStupidQuestions</td>\n",
       "      <td>Does a baby in the womb share the same blood t...</td>\n",
       "      <td>A baby is a combination of cells grown in thei...</td>\n",
       "      <td>1641836631</td>\n",
       "    </tr>\n",
       "    <tr>\n",
       "      <th>...</th>\n",
       "      <td>...</td>\n",
       "      <td>...</td>\n",
       "      <td>...</td>\n",
       "      <td>...</td>\n",
       "    </tr>\n",
       "    <tr>\n",
       "      <th>199732</th>\n",
       "      <td>TooAfraidToAsk</td>\n",
       "      <td>Is it true 97% of women have suffered sexual a...</td>\n",
       "      <td>There is this current movement in instagram af...</td>\n",
       "      <td>1615538487</td>\n",
       "    </tr>\n",
       "    <tr>\n",
       "      <th>199733</th>\n",
       "      <td>TooAfraidToAsk</td>\n",
       "      <td>When you put your hands over your ears, are yo...</td>\n",
       "      <td>NaN</td>\n",
       "      <td>1615538363</td>\n",
       "    </tr>\n",
       "    <tr>\n",
       "      <th>199734</th>\n",
       "      <td>TooAfraidToAsk</td>\n",
       "      <td>“Whyte” with a “y”?</td>\n",
       "      <td>At first I thought it was a typo, but I’m seei...</td>\n",
       "      <td>1615536956</td>\n",
       "    </tr>\n",
       "    <tr>\n",
       "      <th>199735</th>\n",
       "      <td>TooAfraidToAsk</td>\n",
       "      <td>Why do people have children if they know life ...</td>\n",
       "      <td>NaN</td>\n",
       "      <td>1615536873</td>\n",
       "    </tr>\n",
       "    <tr>\n",
       "      <th>199736</th>\n",
       "      <td>TooAfraidToAsk</td>\n",
       "      <td>Widowed spouses of Reddit who later married an...</td>\n",
       "      <td>NaN</td>\n",
       "      <td>1615536380</td>\n",
       "    </tr>\n",
       "  </tbody>\n",
       "</table>\n",
       "<p>199737 rows × 4 columns</p>\n",
       "</div>"
      ],
      "text/plain": [
       "                subreddit                                              title  \\\n",
       "0       NoStupidQuestions  What is the peak number density of spiders, wi...   \n",
       "1       NoStupidQuestions  Can a white lady find it funny when she sees a...   \n",
       "2       NoStupidQuestions                     Where do STI's originate from?   \n",
       "3       NoStupidQuestions                       What makes something an NFT?   \n",
       "4       NoStupidQuestions  Does a baby in the womb share the same blood t...   \n",
       "...                   ...                                                ...   \n",
       "199732     TooAfraidToAsk  Is it true 97% of women have suffered sexual a...   \n",
       "199733     TooAfraidToAsk  When you put your hands over your ears, are yo...   \n",
       "199734     TooAfraidToAsk                                “Whyte” with a “y”?   \n",
       "199735     TooAfraidToAsk  Why do people have children if they know life ...   \n",
       "199736     TooAfraidToAsk  Widowed spouses of Reddit who later married an...   \n",
       "\n",
       "                                                 selftext  created_utc  \n",
       "0                                                     NaN   1641836873  \n",
       "1                                                     NaN   1641836746  \n",
       "2       If no one is born with them, and they are tran...   1641836722  \n",
       "3                                               [removed]   1641836669  \n",
       "4       A baby is a combination of cells grown in thei...   1641836631  \n",
       "...                                                   ...          ...  \n",
       "199732  There is this current movement in instagram af...   1615538487  \n",
       "199733                                                NaN   1615538363  \n",
       "199734  At first I thought it was a typo, but I’m seei...   1615536956  \n",
       "199735                                                NaN   1615536873  \n",
       "199736                                                NaN   1615536380  \n",
       "\n",
       "[199737 rows x 4 columns]"
      ]
     },
     "execution_count": 14,
     "metadata": {},
     "output_type": "execute_result"
    }
   ],
   "source": [
    "subreddits"
   ]
  },
  {
   "cell_type": "code",
   "execution_count": 8,
   "id": "311821f6-5659-4242-a550-12aa0db2224a",
   "metadata": {},
   "outputs": [],
   "source": [
    "# rename subreddit column to subreddit_nsq\n",
    "subreddits = subreddits.rename(columns={'subreddit': 'subreddit_nsq'})\n",
    "\n",
    "# binarizing subreddit column\n",
    "subreddit_binarize ={\n",
    "    'NoStupidQuestions': 1,\n",
    "    'TooAfraidToAsk': 0\n",
    "}\n",
    "\n",
    "subreddits['subreddit_nsq'] = subreddits['subreddit_nsq'].map(subreddit_binarize)"
   ]
  },
  {
   "cell_type": "code",
   "execution_count": 5,
   "id": "43b325b5-888a-4927-b72e-b11725eaf130",
   "metadata": {},
   "outputs": [
    {
     "ename": "ValueError",
     "evalue": "a must be greater than 0 unless no samples are taken",
     "output_type": "error",
     "traceback": [
      "\u001b[1;31m---------------------------------------------------------------------------\u001b[0m",
      "\u001b[1;31mValueError\u001b[0m                                Traceback (most recent call last)",
      "\u001b[1;32m~\\AppData\\Local\\Temp/ipykernel_21104/1884272390.py\u001b[0m in \u001b[0;36m<module>\u001b[1;34m\u001b[0m\n\u001b[0;32m      8\u001b[0m \u001b[0msubreddits\u001b[0m \u001b[1;33m=\u001b[0m \u001b[0msubreddits\u001b[0m\u001b[1;33m[\u001b[0m\u001b[0msubreddits\u001b[0m\u001b[1;33m[\u001b[0m\u001b[1;34m'selftext'\u001b[0m\u001b[1;33m]\u001b[0m\u001b[1;33m!=\u001b[0m\u001b[1;34m'[deleted]'\u001b[0m\u001b[1;33m]\u001b[0m\u001b[1;33m\u001b[0m\u001b[1;33m\u001b[0m\u001b[0m\n\u001b[0;32m      9\u001b[0m \u001b[1;33m\u001b[0m\u001b[0m\n\u001b[1;32m---> 10\u001b[1;33m \u001b[0msubreddits_sample\u001b[0m \u001b[1;33m=\u001b[0m \u001b[0msubreddits\u001b[0m\u001b[1;33m.\u001b[0m\u001b[0msample\u001b[0m\u001b[1;33m(\u001b[0m\u001b[0mn\u001b[0m\u001b[1;33m=\u001b[0m\u001b[1;36m40000\u001b[0m\u001b[1;33m,\u001b[0m \u001b[0mrandom_state\u001b[0m\u001b[1;33m=\u001b[0m\u001b[1;36m24\u001b[0m\u001b[1;33m)\u001b[0m\u001b[1;33m\u001b[0m\u001b[1;33m\u001b[0m\u001b[0m\n\u001b[0m",
      "\u001b[1;32m~\\anaconda3\\lib\\site-packages\\pandas\\core\\generic.py\u001b[0m in \u001b[0;36msample\u001b[1;34m(self, n, frac, replace, weights, random_state, axis, ignore_index)\u001b[0m\n\u001b[0;32m   5363\u001b[0m             )\n\u001b[0;32m   5364\u001b[0m \u001b[1;33m\u001b[0m\u001b[0m\n\u001b[1;32m-> 5365\u001b[1;33m         \u001b[0mlocs\u001b[0m \u001b[1;33m=\u001b[0m \u001b[0mrs\u001b[0m\u001b[1;33m.\u001b[0m\u001b[0mchoice\u001b[0m\u001b[1;33m(\u001b[0m\u001b[0maxis_length\u001b[0m\u001b[1;33m,\u001b[0m \u001b[0msize\u001b[0m\u001b[1;33m=\u001b[0m\u001b[0mn\u001b[0m\u001b[1;33m,\u001b[0m \u001b[0mreplace\u001b[0m\u001b[1;33m=\u001b[0m\u001b[0mreplace\u001b[0m\u001b[1;33m,\u001b[0m \u001b[0mp\u001b[0m\u001b[1;33m=\u001b[0m\u001b[0mweights\u001b[0m\u001b[1;33m)\u001b[0m\u001b[1;33m\u001b[0m\u001b[1;33m\u001b[0m\u001b[0m\n\u001b[0m\u001b[0;32m   5366\u001b[0m         \u001b[0mresult\u001b[0m \u001b[1;33m=\u001b[0m \u001b[0mself\u001b[0m\u001b[1;33m.\u001b[0m\u001b[0mtake\u001b[0m\u001b[1;33m(\u001b[0m\u001b[0mlocs\u001b[0m\u001b[1;33m,\u001b[0m \u001b[0maxis\u001b[0m\u001b[1;33m=\u001b[0m\u001b[0maxis\u001b[0m\u001b[1;33m)\u001b[0m\u001b[1;33m\u001b[0m\u001b[1;33m\u001b[0m\u001b[0m\n\u001b[0;32m   5367\u001b[0m         \u001b[1;32mif\u001b[0m \u001b[0mignore_index\u001b[0m\u001b[1;33m:\u001b[0m\u001b[1;33m\u001b[0m\u001b[1;33m\u001b[0m\u001b[0m\n",
      "\u001b[1;32mmtrand.pyx\u001b[0m in \u001b[0;36mnumpy.random.mtrand.RandomState.choice\u001b[1;34m()\u001b[0m\n",
      "\u001b[1;31mValueError\u001b[0m: a must be greater than 0 unless no samples are taken"
     ]
    }
   ],
   "source": [
    "# remove selftexts that are removed\n",
    "subreddits = subreddits[subreddits['selftext']!='[removed]']\n",
    "\n",
    "# drop nulls\n",
    "subreddits = subreddits.dropna()\n",
    "\n",
    "# drop deleted selftexts\n",
    "subreddits = subreddits[subreddits['selftext']!='[deleted]']\n",
    "\n",
    "subreddits_sample = subreddits.sample(n=40000, random_state=24)"
   ]
  },
  {
   "cell_type": "code",
   "execution_count": 9,
   "id": "606e11c6-3ed5-4793-b9e6-79e8be1492e5",
   "metadata": {
    "collapsed": true,
    "jupyter": {
     "outputs_hidden": true
    },
    "tags": []
   },
   "outputs": [
    {
     "data": {
      "text/html": [
       "<div>\n",
       "<style scoped>\n",
       "    .dataframe tbody tr th:only-of-type {\n",
       "        vertical-align: middle;\n",
       "    }\n",
       "\n",
       "    .dataframe tbody tr th {\n",
       "        vertical-align: top;\n",
       "    }\n",
       "\n",
       "    .dataframe thead th {\n",
       "        text-align: right;\n",
       "    }\n",
       "</style>\n",
       "<table border=\"1\" class=\"dataframe\">\n",
       "  <thead>\n",
       "    <tr style=\"text-align: right;\">\n",
       "      <th></th>\n",
       "      <th>subreddit_nsq</th>\n",
       "      <th>title</th>\n",
       "      <th>selftext</th>\n",
       "      <th>created_utc</th>\n",
       "    </tr>\n",
       "  </thead>\n",
       "  <tbody>\n",
       "    <tr>\n",
       "      <th>13847</th>\n",
       "      <td>1</td>\n",
       "      <td>How to fix reddit auto play video?</td>\n",
       "      <td>I use reddit app and then like 4~5 min the pos...</td>\n",
       "      <td>1641153430</td>\n",
       "    </tr>\n",
       "    <tr>\n",
       "      <th>15553</th>\n",
       "      <td>1</td>\n",
       "      <td>How common is auto repair caused by mice livin...</td>\n",
       "      <td>Saw this as one of the diagnostic checks on a ...</td>\n",
       "      <td>1641070911</td>\n",
       "    </tr>\n",
       "    <tr>\n",
       "      <th>28081</th>\n",
       "      <td>1</td>\n",
       "      <td>About auto upvotes</td>\n",
       "      <td>I noticed that many disable this - so here it ...</td>\n",
       "      <td>1640364477</td>\n",
       "    </tr>\n",
       "    <tr>\n",
       "      <th>29420</th>\n",
       "      <td>1</td>\n",
       "      <td>Where Does an Auto Loan Down Payment go?</td>\n",
       "      <td>First time car buyer here.\\n\\nI got approval f...</td>\n",
       "      <td>1640284474</td>\n",
       "    </tr>\n",
       "    <tr>\n",
       "      <th>31174</th>\n",
       "      <td>1</td>\n",
       "      <td>Why is it that when you have cash on hand the ...</td>\n",
       "      <td>We went to a dealership, asked if there was an...</td>\n",
       "      <td>1640183203</td>\n",
       "    </tr>\n",
       "    <tr>\n",
       "      <th>31967</th>\n",
       "      <td>1</td>\n",
       "      <td>Why don't auto insurance policies cover routin...</td>\n",
       "      <td>Wouldn't the justification be similar from a b...</td>\n",
       "      <td>1640128580</td>\n",
       "    </tr>\n",
       "    <tr>\n",
       "      <th>40999</th>\n",
       "      <td>1</td>\n",
       "      <td>If someone invented a machine that forced cosm...</td>\n",
       "      <td>Question is as stated , so basically this cosm...</td>\n",
       "      <td>1639596257</td>\n",
       "    </tr>\n",
       "    <tr>\n",
       "      <th>43333</th>\n",
       "      <td>1</td>\n",
       "      <td>I was rear ended, should I say this on auto in...</td>\n",
       "      <td>I was driving my mother's car, she was the nam...</td>\n",
       "      <td>1639448942</td>\n",
       "    </tr>\n",
       "    <tr>\n",
       "      <th>50046</th>\n",
       "      <td>1</td>\n",
       "      <td>Why does auto correct really struggle if you a...</td>\n",
       "      <td>Like colossally. I spent several seconds typin...</td>\n",
       "      <td>1639044244</td>\n",
       "    </tr>\n",
       "    <tr>\n",
       "      <th>58063</th>\n",
       "      <td>1</td>\n",
       "      <td>If I tell an auto sales associate's manager th...</td>\n",
       "      <td>Tldr: sales associate answered my questions di...</td>\n",
       "      <td>1638592744</td>\n",
       "    </tr>\n",
       "    <tr>\n",
       "      <th>59222</th>\n",
       "      <td>1</td>\n",
       "      <td>Besides the 1970s and the late 2000s financial...</td>\n",
       "      <td>**</td>\n",
       "      <td>1638531243</td>\n",
       "    </tr>\n",
       "    <tr>\n",
       "      <th>66230</th>\n",
       "      <td>1</td>\n",
       "      <td>Can anyone explain why my post keeps getting A...</td>\n",
       "      <td>My post is this: \"For animals who live in the ...</td>\n",
       "      <td>1638152032</td>\n",
       "    </tr>\n",
       "    <tr>\n",
       "      <th>79838</th>\n",
       "      <td>1</td>\n",
       "      <td>Why don't auto makers produce updated versions...</td>\n",
       "      <td>Like why doesn't Toyota mass produce the 1968 ...</td>\n",
       "      <td>1637359693</td>\n",
       "    </tr>\n",
       "    <tr>\n",
       "      <th>80411</th>\n",
       "      <td>1</td>\n",
       "      <td>Why is nothing being done about the insane con...</td>\n",
       "      <td>Just recently FCA became a part of Stellantis,...</td>\n",
       "      <td>1637329376</td>\n",
       "    </tr>\n",
       "    <tr>\n",
       "      <th>82498</th>\n",
       "      <td>1</td>\n",
       "      <td>In auto racing (specifically F1), how are cars...</td>\n",
       "      <td>I'm talking about what's shown [here.](https:/...</td>\n",
       "      <td>1637198539</td>\n",
       "    </tr>\n",
       "    <tr>\n",
       "      <th>82955</th>\n",
       "      <td>1</td>\n",
       "      <td>Are there any good auto money transfer apps th...</td>\n",
       "      <td>1. Transfer change after spending from a check...</td>\n",
       "      <td>1637176338</td>\n",
       "    </tr>\n",
       "    <tr>\n",
       "      <th>84092</th>\n",
       "      <td>1</td>\n",
       "      <td>Is it just me or are there fewer auto parts st...</td>\n",
       "      <td>At least 4 stores within a 5 mile radius of my...</td>\n",
       "      <td>1637105236</td>\n",
       "    </tr>\n",
       "    <tr>\n",
       "      <th>84842</th>\n",
       "      <td>1</td>\n",
       "      <td>Can an auto insurance company force you to get...</td>\n",
       "      <td>This is a really dumb question, I probably jus...</td>\n",
       "      <td>1637067393</td>\n",
       "    </tr>\n",
       "    <tr>\n",
       "      <th>87682</th>\n",
       "      <td>1</td>\n",
       "      <td>Why do major bowsers do not have an option to ...</td>\n",
       "      <td>I used to use Chrome and switched over to Edge...</td>\n",
       "      <td>1636910413</td>\n",
       "    </tr>\n",
       "    <tr>\n",
       "      <th>91354</th>\n",
       "      <td>1</td>\n",
       "      <td>If we have self driving cars, why can't auto p...</td>\n",
       "      <td>So by behave I mean monitor everything essenti...</td>\n",
       "      <td>1636694810</td>\n",
       "    </tr>\n",
       "    <tr>\n",
       "      <th>105375</th>\n",
       "      <td>0</td>\n",
       "      <td>I'm a mall cop and I carry a semi auto rifle. ...</td>\n",
       "      <td>Punk kids loitering near the food court are hi...</td>\n",
       "      <td>1641069683</td>\n",
       "    </tr>\n",
       "    <tr>\n",
       "      <th>108897</th>\n",
       "      <td>0</td>\n",
       "      <td>Why do people hate auto tune so much?</td>\n",
       "      <td>I don't understand why people hate on artists ...</td>\n",
       "      <td>1640473838</td>\n",
       "    </tr>\n",
       "    <tr>\n",
       "      <th>116930</th>\n",
       "      <td>0</td>\n",
       "      <td>Do employers on indeed auto post jobs?</td>\n",
       "      <td>I'm 18 years old and I'm looking for a part-ti...</td>\n",
       "      <td>1638744338</td>\n",
       "    </tr>\n",
       "    <tr>\n",
       "      <th>134820</th>\n",
       "      <td>0</td>\n",
       "      <td>Let's see the Auto mod block this post?</td>\n",
       "      <td>So no matter what way I word my title the Auto...</td>\n",
       "      <td>1634660582</td>\n",
       "    </tr>\n",
       "    <tr>\n",
       "      <th>148145</th>\n",
       "      <td>0</td>\n",
       "      <td>Why do auto places hire anyone?</td>\n",
       "      <td>I'm not trying to hate on someone's job, by an...</td>\n",
       "      <td>1631481046</td>\n",
       "    </tr>\n",
       "    <tr>\n",
       "      <th>152658</th>\n",
       "      <td>0</td>\n",
       "      <td>Am I being scammed? Or is regular auto mainten...</td>\n",
       "      <td>I got a coupon for a free oil change at a new ...</td>\n",
       "      <td>1630436836</td>\n",
       "    </tr>\n",
       "    <tr>\n",
       "      <th>161288</th>\n",
       "      <td>0</td>\n",
       "      <td>If Grand Theft Auto games had to have a female...</td>\n",
       "      <td>I am not saying that women gamers don't play t...</td>\n",
       "      <td>1628532178</td>\n",
       "    </tr>\n",
       "    <tr>\n",
       "      <th>182291</th>\n",
       "      <td>0</td>\n",
       "      <td>When it comes to sexual charges, why is the ma...</td>\n",
       "      <td>I do not victim blame here, but I dont auto tr...</td>\n",
       "      <td>1622034123</td>\n",
       "    </tr>\n",
       "  </tbody>\n",
       "</table>\n",
       "</div>"
      ],
      "text/plain": [
       "        subreddit_nsq                                              title  \\\n",
       "13847               1                 How to fix reddit auto play video?   \n",
       "15553               1  How common is auto repair caused by mice livin...   \n",
       "28081               1                                 About auto upvotes   \n",
       "29420               1           Where Does an Auto Loan Down Payment go?   \n",
       "31174               1  Why is it that when you have cash on hand the ...   \n",
       "31967               1  Why don't auto insurance policies cover routin...   \n",
       "40999               1  If someone invented a machine that forced cosm...   \n",
       "43333               1  I was rear ended, should I say this on auto in...   \n",
       "50046               1  Why does auto correct really struggle if you a...   \n",
       "58063               1  If I tell an auto sales associate's manager th...   \n",
       "59222               1  Besides the 1970s and the late 2000s financial...   \n",
       "66230               1  Can anyone explain why my post keeps getting A...   \n",
       "79838               1  Why don't auto makers produce updated versions...   \n",
       "80411               1  Why is nothing being done about the insane con...   \n",
       "82498               1  In auto racing (specifically F1), how are cars...   \n",
       "82955               1  Are there any good auto money transfer apps th...   \n",
       "84092               1  Is it just me or are there fewer auto parts st...   \n",
       "84842               1  Can an auto insurance company force you to get...   \n",
       "87682               1  Why do major bowsers do not have an option to ...   \n",
       "91354               1  If we have self driving cars, why can't auto p...   \n",
       "105375              0  I'm a mall cop and I carry a semi auto rifle. ...   \n",
       "108897              0              Why do people hate auto tune so much?   \n",
       "116930              0             Do employers on indeed auto post jobs?   \n",
       "134820              0            Let's see the Auto mod block this post?   \n",
       "148145              0                    Why do auto places hire anyone?   \n",
       "152658              0  Am I being scammed? Or is regular auto mainten...   \n",
       "161288              0  If Grand Theft Auto games had to have a female...   \n",
       "182291              0  When it comes to sexual charges, why is the ma...   \n",
       "\n",
       "                                                 selftext  created_utc  \n",
       "13847   I use reddit app and then like 4~5 min the pos...   1641153430  \n",
       "15553   Saw this as one of the diagnostic checks on a ...   1641070911  \n",
       "28081   I noticed that many disable this - so here it ...   1640364477  \n",
       "29420   First time car buyer here.\\n\\nI got approval f...   1640284474  \n",
       "31174   We went to a dealership, asked if there was an...   1640183203  \n",
       "31967   Wouldn't the justification be similar from a b...   1640128580  \n",
       "40999   Question is as stated , so basically this cosm...   1639596257  \n",
       "43333   I was driving my mother's car, she was the nam...   1639448942  \n",
       "50046   Like colossally. I spent several seconds typin...   1639044244  \n",
       "58063   Tldr: sales associate answered my questions di...   1638592744  \n",
       "59222                                                  **   1638531243  \n",
       "66230   My post is this: \"For animals who live in the ...   1638152032  \n",
       "79838   Like why doesn't Toyota mass produce the 1968 ...   1637359693  \n",
       "80411   Just recently FCA became a part of Stellantis,...   1637329376  \n",
       "82498   I'm talking about what's shown [here.](https:/...   1637198539  \n",
       "82955   1. Transfer change after spending from a check...   1637176338  \n",
       "84092   At least 4 stores within a 5 mile radius of my...   1637105236  \n",
       "84842   This is a really dumb question, I probably jus...   1637067393  \n",
       "87682   I used to use Chrome and switched over to Edge...   1636910413  \n",
       "91354   So by behave I mean monitor everything essenti...   1636694810  \n",
       "105375  Punk kids loitering near the food court are hi...   1641069683  \n",
       "108897  I don't understand why people hate on artists ...   1640473838  \n",
       "116930  I'm 18 years old and I'm looking for a part-ti...   1638744338  \n",
       "134820  So no matter what way I word my title the Auto...   1634660582  \n",
       "148145  I'm not trying to hate on someone's job, by an...   1631481046  \n",
       "152658  I got a coupon for a free oil change at a new ...   1630436836  \n",
       "161288  I am not saying that women gamers don't play t...   1628532178  \n",
       "182291  I do not victim blame here, but I dont auto tr...   1622034123  "
      ]
     },
     "execution_count": 9,
     "metadata": {},
     "output_type": "execute_result"
    }
   ],
   "source": [
    "# check for bots\n",
    "subreddits[subreddits['title'].str.contains(' auto ', case=False, na=False)]\n",
    "\n",
    "# credit to classmate Brock"
   ]
  },
  {
   "cell_type": "markdown",
   "id": "ffd98fe3-e82b-4e3d-9623-583e8721ef7c",
   "metadata": {},
   "source": [
    "* No bots found; most looked like legitimate questions"
   ]
  },
  {
   "cell_type": "code",
   "execution_count": 96,
   "id": "f88ce717-4996-4990-9db9-6754b5fe805e",
   "metadata": {
    "tags": []
   },
   "outputs": [
    {
     "data": {
      "text/plain": [
       "(122978, 4)"
      ]
     },
     "execution_count": 96,
     "metadata": {},
     "output_type": "execute_result"
    }
   ],
   "source": [
    "subreddits.shape"
   ]
  },
  {
   "cell_type": "code",
   "execution_count": 97,
   "id": "4563d682-9355-4e91-9770-0b075c8093a8",
   "metadata": {},
   "outputs": [
    {
     "data": {
      "text/plain": [
       "0    62245\n",
       "1    60733\n",
       "Name: subreddit_nsq, dtype: int64"
      ]
     },
     "execution_count": 97,
     "metadata": {},
     "output_type": "execute_result"
    }
   ],
   "source": [
    "subreddits['subreddit_nsq'].value_counts()"
   ]
  },
  {
   "cell_type": "code",
   "execution_count": 41,
   "id": "49c4fc32-1886-475a-8fe4-5592f9bf54da",
   "metadata": {
    "tags": []
   },
   "outputs": [
    {
     "data": {
      "text/html": [
       "<div>\n",
       "<style scoped>\n",
       "    .dataframe tbody tr th:only-of-type {\n",
       "        vertical-align: middle;\n",
       "    }\n",
       "\n",
       "    .dataframe tbody tr th {\n",
       "        vertical-align: top;\n",
       "    }\n",
       "\n",
       "    .dataframe thead th {\n",
       "        text-align: right;\n",
       "    }\n",
       "</style>\n",
       "<table border=\"1\" class=\"dataframe\">\n",
       "  <thead>\n",
       "    <tr style=\"text-align: right;\">\n",
       "      <th></th>\n",
       "      <th>subreddit_nsq</th>\n",
       "      <th>title</th>\n",
       "      <th>selftext</th>\n",
       "      <th>created_utc</th>\n",
       "    </tr>\n",
       "  </thead>\n",
       "  <tbody>\n",
       "    <tr>\n",
       "      <th>2</th>\n",
       "      <td>1</td>\n",
       "      <td>Where do STI's originate from?</td>\n",
       "      <td>If no one is born with them, and they are tran...</td>\n",
       "      <td>1641836722</td>\n",
       "    </tr>\n",
       "    <tr>\n",
       "      <th>4</th>\n",
       "      <td>1</td>\n",
       "      <td>Does a baby in the womb share the same blood t...</td>\n",
       "      <td>A baby is a combination of cells grown in thei...</td>\n",
       "      <td>1641836631</td>\n",
       "    </tr>\n",
       "    <tr>\n",
       "      <th>6</th>\n",
       "      <td>1</td>\n",
       "      <td>Safe to take my kitty with a fever outside?</td>\n",
       "      <td>I got back from the vet a while ago and they a...</td>\n",
       "      <td>1641836604</td>\n",
       "    </tr>\n",
       "    <tr>\n",
       "      <th>7</th>\n",
       "      <td>1</td>\n",
       "      <td>What’s the appeal with React videos?</td>\n",
       "      <td>Not hating on those who put out those types of...</td>\n",
       "      <td>1641836582</td>\n",
       "    </tr>\n",
       "    <tr>\n",
       "      <th>10</th>\n",
       "      <td>1</td>\n",
       "      <td>Why do so many humans have such bad eyesight t...</td>\n",
       "      <td>To be more precise, why do our eyes suck? It s...</td>\n",
       "      <td>1641836437</td>\n",
       "    </tr>\n",
       "  </tbody>\n",
       "</table>\n",
       "</div>"
      ],
      "text/plain": [
       "    subreddit_nsq                                              title  \\\n",
       "2               1                     Where do STI's originate from?   \n",
       "4               1  Does a baby in the womb share the same blood t...   \n",
       "6               1        Safe to take my kitty with a fever outside?   \n",
       "7               1               What’s the appeal with React videos?   \n",
       "10              1  Why do so many humans have such bad eyesight t...   \n",
       "\n",
       "                                             selftext  created_utc  \n",
       "2   If no one is born with them, and they are tran...   1641836722  \n",
       "4   A baby is a combination of cells grown in thei...   1641836631  \n",
       "6   I got back from the vet a while ago and they a...   1641836604  \n",
       "7   Not hating on those who put out those types of...   1641836582  \n",
       "10  To be more precise, why do our eyes suck? It s...   1641836437  "
      ]
     },
     "execution_count": 41,
     "metadata": {},
     "output_type": "execute_result"
    }
   ],
   "source": [
    "subreddits.head()"
   ]
  },
  {
   "cell_type": "code",
   "execution_count": 42,
   "id": "17b448e3-74db-4bce-8b7d-4d2c3fe2b752",
   "metadata": {
    "tags": []
   },
   "outputs": [
    {
     "data": {
      "text/html": [
       "<div>\n",
       "<style scoped>\n",
       "    .dataframe tbody tr th:only-of-type {\n",
       "        vertical-align: middle;\n",
       "    }\n",
       "\n",
       "    .dataframe tbody tr th {\n",
       "        vertical-align: top;\n",
       "    }\n",
       "\n",
       "    .dataframe thead th {\n",
       "        text-align: right;\n",
       "    }\n",
       "</style>\n",
       "<table border=\"1\" class=\"dataframe\">\n",
       "  <thead>\n",
       "    <tr style=\"text-align: right;\">\n",
       "      <th></th>\n",
       "      <th>subreddit_nsq</th>\n",
       "      <th>title</th>\n",
       "      <th>selftext</th>\n",
       "      <th>created_utc</th>\n",
       "    </tr>\n",
       "  </thead>\n",
       "  <tbody>\n",
       "    <tr>\n",
       "      <th>52989</th>\n",
       "      <td>1</td>\n",
       "      <td>A way of life</td>\n",
       "      <td>I've got a problem. Right now I'm 18 and finis...</td>\n",
       "      <td>1638888408</td>\n",
       "    </tr>\n",
       "    <tr>\n",
       "      <th>121057</th>\n",
       "      <td>0</td>\n",
       "      <td>If egg has germ from outside?</td>\n",
       "      <td>Can you eat law egg if it was left in alcohol ...</td>\n",
       "      <td>1637799012</td>\n",
       "    </tr>\n",
       "    <tr>\n",
       "      <th>110065</th>\n",
       "      <td>0</td>\n",
       "      <td>How do I have a black kid?</td>\n",
       "      <td>I really want my child to be black but I don’t...</td>\n",
       "      <td>1640199466</td>\n",
       "    </tr>\n",
       "    <tr>\n",
       "      <th>92748</th>\n",
       "      <td>1</td>\n",
       "      <td>Can having sex make you gain weight?</td>\n",
       "      <td>I've heard this housewife tale many times that...</td>\n",
       "      <td>1636617028</td>\n",
       "    </tr>\n",
       "    <tr>\n",
       "      <th>67413</th>\n",
       "      <td>1</td>\n",
       "      <td>If I have a lot of gene mutations does that ma...</td>\n",
       "      <td>I have a gene mutation that causes long and ve...</td>\n",
       "      <td>1638087053</td>\n",
       "    </tr>\n",
       "  </tbody>\n",
       "</table>\n",
       "</div>"
      ],
      "text/plain": [
       "        subreddit_nsq                                              title  \\\n",
       "52989               1                                      A way of life   \n",
       "121057              0                      If egg has germ from outside?   \n",
       "110065              0                         How do I have a black kid?   \n",
       "92748               1               Can having sex make you gain weight?   \n",
       "67413               1  If I have a lot of gene mutations does that ma...   \n",
       "\n",
       "                                                 selftext  created_utc  \n",
       "52989   I've got a problem. Right now I'm 18 and finis...   1638888408  \n",
       "121057  Can you eat law egg if it was left in alcohol ...   1637799012  \n",
       "110065  I really want my child to be black but I don’t...   1640199466  \n",
       "92748   I've heard this housewife tale many times that...   1636617028  \n",
       "67413   I have a gene mutation that causes long and ve...   1638087053  "
      ]
     },
     "execution_count": 42,
     "metadata": {},
     "output_type": "execute_result"
    }
   ],
   "source": [
    "subreddits_sample.head()"
   ]
  },
  {
   "cell_type": "markdown",
   "id": "c0a737a2-2b26-4846-af9b-24508a5449a4",
   "metadata": {
    "tags": []
   },
   "source": [
    "#### 3 Groups: title (title only), selftext (selftext only), both (title and selftext)"
   ]
  },
  {
   "cell_type": "markdown",
   "id": "f479293a-8675-40b5-bef3-ce7bf90cd23f",
   "metadata": {
    "tags": []
   },
   "source": [
    "##### Groups"
   ]
  },
  {
   "cell_type": "code",
   "execution_count": 16,
   "id": "07b418bd-f909-43f3-97dd-1a669b29f63f",
   "metadata": {},
   "outputs": [],
   "source": [
    "# Split subreddits into 3 groups using the same sample pool from original population\n",
    "\n",
    "# title only group\n",
    "title = subreddits_sample.drop(columns=['selftext', 'created_utc'])\n",
    "\n",
    "# selftext only group\n",
    "selftext = subreddits_sample.drop(columns=['title'])\n",
    "\n",
    "# title and self text group\n",
    "both = subreddits_sample"
   ]
  },
  {
   "cell_type": "code",
   "execution_count": 17,
   "id": "7ea74fb2-114b-4e20-9962-056b1f3186c8",
   "metadata": {},
   "outputs": [],
   "source": [
    "# reset the index\n",
    "both.reset_index(inplace=True)\n",
    "subreddits.reset_index(inplace=True)\n",
    "\n",
    "# drop index column\n",
    "both = both.drop(columns='index')\n",
    "subreddits = subreddits.drop(columns='index')"
   ]
  },
  {
   "cell_type": "code",
   "execution_count": 18,
   "id": "0f1c75d6-e1eb-4fcc-9558-47d2a14894ef",
   "metadata": {},
   "outputs": [],
   "source": [
    "# combining title and selftext\n",
    "total_text = []\n",
    "for i in range(0, len(both)):\n",
    "    t = both['title'][i] + ' ' + both['selftext'][i]\n",
    "    total_text.append(t)\n",
    "\n",
    "both['text'] = total_text\n",
    "\n",
    "total_text = []\n",
    "for i in range(0, len(subreddits)):\n",
    "    t = subreddits['title'][i] + ' ' + subreddits['selftext'][i]\n",
    "    total_text.append(t)\n",
    "\n",
    "subreddits['text'] = total_text"
   ]
  },
  {
   "cell_type": "code",
   "execution_count": 101,
   "id": "63a95b50-f3f2-4a11-9748-d02939fa499d",
   "metadata": {},
   "outputs": [],
   "source": [
    "# save to csv; title and self-text excluded\n",
    "# title.to_csv('C:/Users/mmoli/GA/projects/project_3/data/title_only_cleaned.csv', index=False)\n",
    "# selftext.to_csv('C:/Users/mmoli/GA/projects/project_3/data/selftext_only_cleaned.csv', index=False)\n",
    "both.to_csv('C:/Users/mmoli/GA/projects/project_3/data/both_cleaned.csv', index=False)\n",
    "subreddits.to_csv('C:/Users/mmoli/GA/projects/project_3/data/subreddits_cleaned.csv', index=False)"
   ]
  },
  {
   "cell_type": "code",
   "execution_count": 10,
   "id": "54c3615c-82a6-4e8e-b326-608951380c68",
   "metadata": {
    "jupyter": {
     "source_hidden": true
    },
    "tags": []
   },
   "outputs": [
    {
     "name": "stdout",
     "output_type": "stream",
     "text": [
      "Title only group has 40000 items\n",
      "Selftext only group has 40000 items\n",
      "Title and selftext group has 40000 items\n"
     ]
    }
   ],
   "source": [
    "print(f'Title only group has {len(title)} items')\n",
    "print(f'Selftext only group has {len(selftext)} items')\n",
    "print(f'Title and selftext group has {len(both)} items')"
   ]
  },
  {
   "cell_type": "markdown",
   "id": "ae209701-5eb2-49ea-a0ba-0f79c86a2f88",
   "metadata": {},
   "source": [
    "### EDA"
   ]
  },
  {
   "cell_type": "markdown",
   "id": "2418ad70-6652-421d-a6db-4fa4b9500963",
   "metadata": {
    "tags": []
   },
   "source": [
    "##### Initial EDA"
   ]
  },
  {
   "cell_type": "code",
   "execution_count": 19,
   "id": "344f407b-0ca3-447f-bed6-991bef718951",
   "metadata": {},
   "outputs": [
    {
     "data": {
      "text/plain": [
       "0    0.506147\n",
       "1    0.493853\n",
       "Name: subreddit_nsq, dtype: float64"
      ]
     },
     "execution_count": 19,
     "metadata": {},
     "output_type": "execute_result"
    }
   ],
   "source": [
    "subreddits['subreddit_nsq'].value_counts(normalize=True)"
   ]
  },
  {
   "cell_type": "code",
   "execution_count": 20,
   "id": "b8ee6ad9-c8da-4fb4-a94c-6bf5cd119358",
   "metadata": {},
   "outputs": [
    {
     "data": {
      "text/plain": [
       "0    0.502825\n",
       "1    0.497175\n",
       "Name: subreddit_nsq, dtype: float64"
      ]
     },
     "execution_count": 20,
     "metadata": {},
     "output_type": "execute_result"
    }
   ],
   "source": [
    "# baseline accuracy\n",
    "subreddits_sample['subreddit_nsq'].value_counts(normalize=True)"
   ]
  },
  {
   "cell_type": "code",
   "execution_count": 21,
   "id": "34ec6233-5417-4554-8e1e-3017ee08b636",
   "metadata": {
    "tags": []
   },
   "outputs": [],
   "source": [
    "# reset the index\n",
    "title.reset_index(inplace=True)\n",
    "\n",
    "# drop index column\n",
    "title = title.drop(columns='index')"
   ]
  },
  {
   "cell_type": "code",
   "execution_count": 23,
   "id": "82f22854-45f1-41f6-8234-eb1261f46003",
   "metadata": {
    "tags": []
   },
   "outputs": [],
   "source": [
    "# pulled from preprocessing; used for eda pre and post conctractions\n",
    "import re\n",
    "\n",
    "def decontracted(phrase):\n",
    "    # specific\n",
    "    phrase = re.sub(r\"won\\'t\", \"will not\", phrase)\n",
    "    phrase = re.sub(r\"can\\'t\", \"can not\", phrase)\n",
    "    phrase = re.sub(r\"it\\'s\", \"its\", phrase)\n",
    "    phrase = re.sub(r\"What\\'s\", \"What is\", phrase)\n",
    "\n",
    "    # general\n",
    "    phrase = re.sub(r\"n\\'t\", \" not\", phrase)\n",
    "    phrase = re.sub(r\"\\'re\", \" are\", phrase)\n",
    "    # phrase = re.sub(r\"\\'s\", \" is\", phrase)\n",
    "    phrase = re.sub(r\"\\'d\", \" would\", phrase)\n",
    "    phrase = re.sub(r\"\\'ll\", \" will\", phrase)\n",
    "    phrase = re.sub(r\"\\'t\", \" not\", phrase)\n",
    "    phrase = re.sub(r\"\\'ve\", \" have\", phrase)\n",
    "    phrase = re.sub(r\"\\'m\", \" am\", phrase)\n",
    "    return phrase\n",
    "\n",
    "# https://stackoverflow.com/questions/19790188/expanding-english-language-contractions-in-python"
   ]
  },
  {
   "cell_type": "code",
   "execution_count": 24,
   "id": "949cb247-957c-4865-9d73-49c1dce29b97",
   "metadata": {},
   "outputs": [],
   "source": [
    "# expand contracted words\n",
    "for col in ['text']:\n",
    "    both['text'] = [decontracted(each) for each in both[col]]"
   ]
  },
  {
   "cell_type": "code",
   "execution_count": 25,
   "id": "c227f0aa-cdf3-4421-ae19-731a2ceea3d6",
   "metadata": {},
   "outputs": [],
   "source": [
    "# set up EDA for groups\n",
    "X = both['text']\n",
    "y = both['subreddit_nsq']\n",
    "\n",
    "# X = both['title']\n",
    "# y = both['subreddit_nsq']\n",
    "\n",
    "# X = both['subtext']\n",
    "# y = both['subreddit_nsq']"
   ]
  },
  {
   "cell_type": "code",
   "execution_count": 26,
   "id": "78b6ea29-17f6-415f-b951-59584e135c1b",
   "metadata": {},
   "outputs": [],
   "source": [
    "# vectorize title\n",
    "cv = CountVectorizer(min_df=2)\n",
    "cv.fit(X)\n",
    "X_cv = cv.transform(X)"
   ]
  },
  {
   "cell_type": "code",
   "execution_count": 27,
   "id": "55674f89-2dd8-4992-8150-dceef86b60ad",
   "metadata": {},
   "outputs": [],
   "source": [
    "# dataframe of vectorized title\n",
    "X_cv_df = pd.DataFrame(X_cv.todense(),\n",
    "                      columns=cv.get_feature_names())"
   ]
  },
  {
   "cell_type": "code",
   "execution_count": 28,
   "id": "1d98f1a6-a318-495a-829c-bfbeb09998e7",
   "metadata": {},
   "outputs": [
    {
     "data": {
      "image/png": "[encoded data removed]",
      "text/plain": [
       "<Figure size 432x288 with 1 Axes>"
      ]
     },
     "metadata": {
      "needs_background": "light"
     },
     "output_type": "display_data"
    }
   ],
   "source": [
    "# Top 15 used words for both subreddits\n",
    "plt.title('Top 15 most used words')\n",
    "plt.xlabel('Count')\n",
    "X_cv_df.sum().sort_values(ascending=False).head(15).sort_values().plot(kind='barh');"
   ]
  },
  {
   "cell_type": "code",
   "execution_count": 29,
   "id": "e9db46ff-40b3-42cc-9908-8a3c7304611f",
   "metadata": {},
   "outputs": [],
   "source": [
    "# adding y binarized subreddit_nsq column\n",
    "X_eda = X_cv_df.merge(y, left_index=True, right_index=True)"
   ]
  },
  {
   "cell_type": "code",
   "execution_count": 30,
   "id": "f3cfd614-5330-4134-9c46-90039fc8a558",
   "metadata": {},
   "outputs": [
    {
     "data": {
      "text/plain": [
       "(40000, 26872)"
      ]
     },
     "execution_count": 30,
     "metadata": {},
     "output_type": "execute_result"
    }
   ],
   "source": [
    "X_eda.shape"
   ]
  },
  {
   "cell_type": "code",
   "execution_count": 31,
   "id": "8477c2e2-005f-4932-96b5-dccb213052b0",
   "metadata": {
    "tags": []
   },
   "outputs": [
    {
     "data": {
      "text/html": [
       "<div>\n",
       "<style scoped>\n",
       "    .dataframe tbody tr th:only-of-type {\n",
       "        vertical-align: middle;\n",
       "    }\n",
       "\n",
       "    .dataframe tbody tr th {\n",
       "        vertical-align: top;\n",
       "    }\n",
       "\n",
       "    .dataframe thead th {\n",
       "        text-align: right;\n",
       "    }\n",
       "</style>\n",
       "<table border=\"1\" class=\"dataframe\">\n",
       "  <thead>\n",
       "    <tr style=\"text-align: right;\">\n",
       "      <th>subreddit_nsq</th>\n",
       "      <th>0</th>\n",
       "      <th>1</th>\n",
       "    </tr>\n",
       "  </thead>\n",
       "  <tbody>\n",
       "    <tr>\n",
       "      <th>to</th>\n",
       "      <td>60292</td>\n",
       "      <td>43060</td>\n",
       "    </tr>\n",
       "    <tr>\n",
       "      <th>and</th>\n",
       "      <td>53710</td>\n",
       "      <td>36590</td>\n",
       "    </tr>\n",
       "    <tr>\n",
       "      <th>the</th>\n",
       "      <td>53239</td>\n",
       "      <td>45666</td>\n",
       "    </tr>\n",
       "    <tr>\n",
       "      <th>it</th>\n",
       "      <td>35331</td>\n",
       "      <td>26939</td>\n",
       "    </tr>\n",
       "    <tr>\n",
       "      <th>of</th>\n",
       "      <td>30847</td>\n",
       "      <td>22691</td>\n",
       "    </tr>\n",
       "    <tr>\n",
       "      <th>is</th>\n",
       "      <td>29780</td>\n",
       "      <td>23097</td>\n",
       "    </tr>\n",
       "    <tr>\n",
       "      <th>not</th>\n",
       "      <td>27734</td>\n",
       "      <td>17499</td>\n",
       "    </tr>\n",
       "    <tr>\n",
       "      <th>that</th>\n",
       "      <td>27159</td>\n",
       "      <td>18784</td>\n",
       "    </tr>\n",
       "    <tr>\n",
       "      <th>my</th>\n",
       "      <td>24766</td>\n",
       "      <td>16929</td>\n",
       "    </tr>\n",
       "    <tr>\n",
       "      <th>in</th>\n",
       "      <td>24166</td>\n",
       "      <td>19488</td>\n",
       "    </tr>\n",
       "    <tr>\n",
       "      <th>do</th>\n",
       "      <td>22402</td>\n",
       "      <td>15736</td>\n",
       "    </tr>\n",
       "    <tr>\n",
       "      <th>have</th>\n",
       "      <td>20912</td>\n",
       "      <td>13799</td>\n",
       "    </tr>\n",
       "    <tr>\n",
       "      <th>but</th>\n",
       "      <td>20032</td>\n",
       "      <td>13417</td>\n",
       "    </tr>\n",
       "    <tr>\n",
       "      <th>for</th>\n",
       "      <td>18245</td>\n",
       "      <td>14274</td>\n",
       "    </tr>\n",
       "    <tr>\n",
       "      <th>this</th>\n",
       "      <td>16286</td>\n",
       "      <td>11239</td>\n",
       "    </tr>\n",
       "  </tbody>\n",
       "</table>\n",
       "</div>"
      ],
      "text/plain": [
       "subreddit_nsq      0      1\n",
       "to             60292  43060\n",
       "and            53710  36590\n",
       "the            53239  45666\n",
       "it             35331  26939\n",
       "of             30847  22691\n",
       "is             29780  23097\n",
       "not            27734  17499\n",
       "that           27159  18784\n",
       "my             24766  16929\n",
       "in             24166  19488\n",
       "do             22402  15736\n",
       "have           20912  13799\n",
       "but            20032  13417\n",
       "for            18245  14274\n",
       "this           16286  11239"
      ]
     },
     "execution_count": 31,
     "metadata": {},
     "output_type": "execute_result"
    }
   ],
   "source": [
    "X_eda.groupby(by='subreddit_nsq').sum().T.sort_values(by=0, ascending=False).head(15)"
   ]
  },
  {
   "cell_type": "code",
   "execution_count": 32,
   "id": "16d4d270-b936-4475-803a-8ce4c2ca0d6f",
   "metadata": {},
   "outputs": [
    {
     "data": {
      "text/plain": [
       "Text(0.5, 1.0, 'Top 15 most used words ordered by Too Afraid To Ask Subbredit')"
      ]
     },
     "execution_count": 32,
     "metadata": {},
     "output_type": "execute_result"
    },
    {
     "data": {
      "image/png": "[encoded data removed]",
      "text/plain": [
       "<Figure size 432x288 with 1 Axes>"
      ]
     },
     "metadata": {
      "needs_background": "light"
     },
     "output_type": "display_data"
    }
   ],
   "source": [
    "X_eda.groupby(by='subreddit_nsq').sum().T.sort_values(by=0, ascending=False).head(15).plot(kind='barh')\n",
    "plt.title('Top 15 most used words ordered by Too Afraid To Ask Subbredit')"
   ]
  },
  {
   "cell_type": "code",
   "execution_count": 33,
   "id": "bff76e13-cf5a-4eaa-a0ec-b25255350f0e",
   "metadata": {},
   "outputs": [
    {
     "data": {
      "text/html": [
       "<div>\n",
       "<style scoped>\n",
       "    .dataframe tbody tr th:only-of-type {\n",
       "        vertical-align: middle;\n",
       "    }\n",
       "\n",
       "    .dataframe tbody tr th {\n",
       "        vertical-align: top;\n",
       "    }\n",
       "\n",
       "    .dataframe thead th {\n",
       "        text-align: right;\n",
       "    }\n",
       "</style>\n",
       "<table border=\"1\" class=\"dataframe\">\n",
       "  <thead>\n",
       "    <tr style=\"text-align: right;\">\n",
       "      <th>subreddit_nsq</th>\n",
       "      <th>0</th>\n",
       "      <th>1</th>\n",
       "    </tr>\n",
       "  </thead>\n",
       "  <tbody>\n",
       "    <tr>\n",
       "      <th>the</th>\n",
       "      <td>53239</td>\n",
       "      <td>45666</td>\n",
       "    </tr>\n",
       "    <tr>\n",
       "      <th>to</th>\n",
       "      <td>60292</td>\n",
       "      <td>43060</td>\n",
       "    </tr>\n",
       "    <tr>\n",
       "      <th>and</th>\n",
       "      <td>53710</td>\n",
       "      <td>36590</td>\n",
       "    </tr>\n",
       "    <tr>\n",
       "      <th>it</th>\n",
       "      <td>35331</td>\n",
       "      <td>26939</td>\n",
       "    </tr>\n",
       "    <tr>\n",
       "      <th>is</th>\n",
       "      <td>29780</td>\n",
       "      <td>23097</td>\n",
       "    </tr>\n",
       "    <tr>\n",
       "      <th>of</th>\n",
       "      <td>30847</td>\n",
       "      <td>22691</td>\n",
       "    </tr>\n",
       "    <tr>\n",
       "      <th>in</th>\n",
       "      <td>24166</td>\n",
       "      <td>19488</td>\n",
       "    </tr>\n",
       "    <tr>\n",
       "      <th>that</th>\n",
       "      <td>27159</td>\n",
       "      <td>18784</td>\n",
       "    </tr>\n",
       "    <tr>\n",
       "      <th>not</th>\n",
       "      <td>27734</td>\n",
       "      <td>17499</td>\n",
       "    </tr>\n",
       "    <tr>\n",
       "      <th>my</th>\n",
       "      <td>24766</td>\n",
       "      <td>16929</td>\n",
       "    </tr>\n",
       "    <tr>\n",
       "      <th>do</th>\n",
       "      <td>22402</td>\n",
       "      <td>15736</td>\n",
       "    </tr>\n",
       "    <tr>\n",
       "      <th>for</th>\n",
       "      <td>18245</td>\n",
       "      <td>14274</td>\n",
       "    </tr>\n",
       "    <tr>\n",
       "      <th>have</th>\n",
       "      <td>20912</td>\n",
       "      <td>13799</td>\n",
       "    </tr>\n",
       "    <tr>\n",
       "      <th>but</th>\n",
       "      <td>20032</td>\n",
       "      <td>13417</td>\n",
       "    </tr>\n",
       "    <tr>\n",
       "      <th>you</th>\n",
       "      <td>15049</td>\n",
       "      <td>12001</td>\n",
       "    </tr>\n",
       "  </tbody>\n",
       "</table>\n",
       "</div>"
      ],
      "text/plain": [
       "subreddit_nsq      0      1\n",
       "the            53239  45666\n",
       "to             60292  43060\n",
       "and            53710  36590\n",
       "it             35331  26939\n",
       "is             29780  23097\n",
       "of             30847  22691\n",
       "in             24166  19488\n",
       "that           27159  18784\n",
       "not            27734  17499\n",
       "my             24766  16929\n",
       "do             22402  15736\n",
       "for            18245  14274\n",
       "have           20912  13799\n",
       "but            20032  13417\n",
       "you            15049  12001"
      ]
     },
     "execution_count": 33,
     "metadata": {},
     "output_type": "execute_result"
    }
   ],
   "source": [
    "X_eda.groupby(by='subreddit_nsq').sum().T.sort_values(by=1, ascending=False).head(15)"
   ]
  },
  {
   "cell_type": "code",
   "execution_count": 34,
   "id": "a4d6b2e3-3ee7-4b57-8342-1dbf36fc50d0",
   "metadata": {},
   "outputs": [
    {
     "data": {
      "text/plain": [
       "Text(0.5, 1.0, 'Top 15 most used words ordered by No Stupid Questions Subreddit')"
      ]
     },
     "execution_count": 34,
     "metadata": {},
     "output_type": "execute_result"
    },
    {
     "data": {
      "image/png": "[encoded data removed]",
      "text/plain": [
       "<Figure size 432x288 with 1 Axes>"
      ]
     },
     "metadata": {
      "needs_background": "light"
     },
     "output_type": "display_data"
    }
   ],
   "source": [
    "X_eda.groupby(by='subreddit_nsq').sum().T.sort_values(by=1, ascending=False).head(15).plot(kind='barh');\n",
    "plt.title('Top 15 most used words ordered by No Stupid Questions Subreddit')"
   ]
  },
  {
   "cell_type": "code",
   "execution_count": 35,
   "id": "7710618b-02b1-463a-b514-c17be04725eb",
   "metadata": {},
   "outputs": [],
   "source": [
    "# set up initial test for groups\n",
    "X = both['text']\n",
    "y = both['subreddit_nsq']\n",
    "\n",
    "# X = both['title']\n",
    "# y = both['subreddit_nsq']\n",
    "\n",
    "# X = both['subtext']\n",
    "# y = both['subreddit_nsq']"
   ]
  },
  {
   "cell_type": "code",
   "execution_count": 78,
   "id": "50924cbd-161b-4404-a032-9ea9f9fbf89e",
   "metadata": {},
   "outputs": [],
   "source": [
    "X_train, X_test, y_train, y_test = train_test_split(X, y, random_state=24, stratify=y)"
   ]
  },
  {
   "cell_type": "code",
   "execution_count": 89,
   "id": "68e2fde1-ca3f-4c04-9f0e-2c8613514b8a",
   "metadata": {},
   "outputs": [],
   "source": [
    "cv = CountVectorizer(min_df=2)\n",
    "cv.fit(X_train)\n",
    "X_train_cv = cv.transform(X_train)\n",
    "X_test_cv = cv.transform(X_test)"
   ]
  },
  {
   "cell_type": "code",
   "execution_count": 90,
   "id": "87186197-80a3-4464-9776-a9d0318c5bfe",
   "metadata": {},
   "outputs": [
    {
     "data": {
      "text/plain": [
       "RandomForestClassifier()"
      ]
     },
     "execution_count": 90,
     "metadata": {},
     "output_type": "execute_result"
    }
   ],
   "source": [
    "rfc = RandomForestClassifier()\n",
    "rfc.fit(X_train_cv, y_train)"
   ]
  },
  {
   "cell_type": "code",
   "execution_count": 91,
   "id": "d997c223-bcfc-4916-9dab-e627b429e67b",
   "metadata": {},
   "outputs": [
    {
     "name": "stdout",
     "output_type": "stream",
     "text": [
      "[0.66666667 0.66833333 0.65       0.67283333 0.67516667]\n",
      "0.6666\n"
     ]
    }
   ],
   "source": [
    "rfc_scores = cross_val_score(rfc, X_train_cv, y_train)\n",
    "print(rfc_scores)\n",
    "print(rfc_scores.mean())"
   ]
  },
  {
   "cell_type": "code",
   "execution_count": 92,
   "id": "3882f68a-d51a-4337-825a-5c9a7769781b",
   "metadata": {},
   "outputs": [
    {
     "name": "stdout",
     "output_type": "stream",
     "text": [
      "[0.6585 0.6485 0.6465 0.6655 0.6575]\n",
      "0.6552999999999999\n"
     ]
    }
   ],
   "source": [
    "rfc_scores = cross_val_score(rfc, X_test_cv, y_test)\n",
    "print(rfc_scores)\n",
    "print(rfc_scores.mean())"
   ]
  },
  {
   "cell_type": "markdown",
   "id": "694d2608-6332-4689-b53f-1d79628702bc",
   "metadata": {
    "jp-MarkdownHeadingCollapsed": true,
    "tags": []
   },
   "source": [
    "##### Initial insights\n",
    "* Appears to be a recognizable differences between the subreddits as seen in the bar charts however the intial Random Forest Classifier model indicates more similarity since the accuracy train test score was on the lower end with .6387 and .6411\n",
    "* Overfit when looking at train and test scores however this may be due to the model\n",
    "* Although not included here title and selftext outperformed title and selftext alone--future models will only include exclude title only and selftext only group\n",
    "\n",
    "##### Next Steps\n",
    "* Look into stemming/lemmatizing\n",
    "* Attempt different models"
   ]
  },
  {
   "cell_type": "markdown",
   "id": "b9e4f9c2-999c-4c71-9588-55b2c013e533",
   "metadata": {},
   "source": [
    "### EDA after Preprocessing and Modeling "
   ]
  },
  {
   "cell_type": "markdown",
   "id": "eed4c324-7562-437d-a6ae-4196f71e2808",
   "metadata": {
    "jp-MarkdownHeadingCollapsed": true,
    "tags": []
   },
   "source": [
    "##### MNB Model"
   ]
  },
  {
   "cell_type": "code",
   "execution_count": 64,
   "id": "7cbc709b-a23d-4023-a04f-f5ea55ccb62f",
   "metadata": {},
   "outputs": [],
   "source": [
    "with open ('C:/Users/mmoli/GA/projects/project_3/data/pickles/mnb.pkl', mode='rb') as pickle_in:\n",
    "    mnb = pickle.load(pickle_in)"
   ]
  },
  {
   "cell_type": "code",
   "execution_count": 85,
   "id": "8e9407eb-1622-434f-8e5a-ec30891feb83",
   "metadata": {},
   "outputs": [
    {
     "data": {
      "image/png": "[encoded data removed]",
      "text/plain": [
       "<Figure size 432x288 with 2 Axes>"
      ]
     },
     "metadata": {
      "needs_background": "light"
     },
     "output_type": "display_data"
    }
   ],
   "source": [
    "plot_confusion_matrix(mnb, X_test, y_test, cmap=\"Blues\");\n",
    "plt.title('Confusion Matrix for MNB')\n",
    "plt.xticks(ticks=[0, 1], labels=['TATA', 'NSQ'])\n",
    "plt.yticks(ticks=[0, 1], labels=['TATA', 'NSQ'])\n",
    "plt.ylabel('True')\n",
    "plt.xlabel('Predicted');"
   ]
  },
  {
   "cell_type": "code",
   "execution_count": 117,
   "id": "2e5b9fae-7fd9-47c8-89bc-f8ef9c07d2e6",
   "metadata": {},
   "outputs": [
    {
     "data": {
      "text/plain": [
       "<matplotlib.legend.Legend at 0x25cb2fe9f70>"
      ]
     },
     "execution_count": 117,
     "metadata": {},
     "output_type": "execute_result"
    },
    {
     "data": {
      "image/png": "[encoded data removed]",
      "text/plain": [
       "<Figure size 432x288 with 1 Axes>"
      ]
     },
     "metadata": {
      "needs_background": "light"
     },
     "output_type": "display_data"
    }
   ],
   "source": [
    "# ROC curve\n",
    "plot_roc_curve(mnb, X_test, y_test)\n",
    "\n",
    "# add worst case scenario line\n",
    "plt.plot([0,1], [0,1], label='baseline', linestyle='--')\n",
    "\n",
    "# add a legend\n",
    "plt.legend()"
   ]
  },
  {
   "cell_type": "code",
   "execution_count": 36,
   "id": "c9dcc940-523a-4d3d-8407-aa495a52fdd4",
   "metadata": {},
   "outputs": [],
   "source": [
    "# set up EDA\n",
    "X = both['text']\n",
    "y = both['subreddit_nsq']\n",
    "\n",
    "# X = both['title']\n",
    "# y = both['subreddit_nsq']\n",
    "\n",
    "# X = both['subtext']\n",
    "# y = both['subreddit_nsq']"
   ]
  },
  {
   "cell_type": "code",
   "execution_count": 37,
   "id": "3b9271be-2874-4f8b-864f-fc04f2fc573a",
   "metadata": {},
   "outputs": [
    {
     "ename": "NameError",
     "evalue": "name 'mytokenizing_stem' is not defined",
     "output_type": "error",
     "traceback": [
      "\u001b[1;31m---------------------------------------------------------------------------\u001b[0m",
      "\u001b[1;31mNameError\u001b[0m                                 Traceback (most recent call last)",
      "\u001b[1;32m~\\AppData\\Local\\Temp/ipykernel_20196/4117158920.py\u001b[0m in \u001b[0;36m<module>\u001b[1;34m\u001b[0m\n\u001b[0;32m      1\u001b[0m \u001b[1;31m# vectorize title\u001b[0m\u001b[1;33m\u001b[0m\u001b[1;33m\u001b[0m\u001b[0m\n\u001b[1;32m----> 2\u001b[1;33m \u001b[0mcv\u001b[0m \u001b[1;33m=\u001b[0m \u001b[0mCountVectorizer\u001b[0m\u001b[1;33m(\u001b[0m\u001b[0mmin_df\u001b[0m\u001b[1;33m=\u001b[0m\u001b[1;36m2\u001b[0m\u001b[1;33m,\u001b[0m \u001b[0mtokenizer\u001b[0m\u001b[1;33m=\u001b[0m\u001b[0mmytokenizing_stem\u001b[0m\u001b[1;33m)\u001b[0m\u001b[1;33m\u001b[0m\u001b[1;33m\u001b[0m\u001b[0m\n\u001b[0m\u001b[0;32m      3\u001b[0m \u001b[0mcv\u001b[0m\u001b[1;33m.\u001b[0m\u001b[0mfit\u001b[0m\u001b[1;33m(\u001b[0m\u001b[0mX\u001b[0m\u001b[1;33m)\u001b[0m\u001b[1;33m\u001b[0m\u001b[1;33m\u001b[0m\u001b[0m\n\u001b[0;32m      4\u001b[0m \u001b[0mX_cv\u001b[0m \u001b[1;33m=\u001b[0m \u001b[0mcv\u001b[0m\u001b[1;33m.\u001b[0m\u001b[0mtransform\u001b[0m\u001b[1;33m(\u001b[0m\u001b[0mX\u001b[0m\u001b[1;33m)\u001b[0m\u001b[1;33m\u001b[0m\u001b[1;33m\u001b[0m\u001b[0m\n",
      "\u001b[1;31mNameError\u001b[0m: name 'mytokenizing_stem' is not defined"
     ]
    }
   ],
   "source": [
    "# vectorize title\n",
    "cv = CountVectorizer(min_df=2, tokenizer=mytokenizing_stem)\n",
    "cv.fit(X)\n",
    "X_cv = cv.transform(X)"
   ]
  },
  {
   "cell_type": "code",
   "execution_count": null,
   "id": "3a81da5a-80b1-4b3e-95c6-fe72912fccd4",
   "metadata": {},
   "outputs": [],
   "source": [
    "# dataframe of vectorized title\n",
    "X_cv_df = pd.DataFrame(X_cv.todense(),\n",
    "                      columns=cv.get_feature_names())"
   ]
  },
  {
   "cell_type": "code",
   "execution_count": null,
   "id": "991b40a0-0937-4234-b73a-87f8baccb081",
   "metadata": {},
   "outputs": [],
   "source": [
    "# adding y binarized subreddit_nsq column\n",
    "X_eda_2 = X_cv_df.merge(y, left_index=True, right_index=True)"
   ]
  },
  {
   "cell_type": "code",
   "execution_count": null,
   "id": "85d5afe5-97df-42b3-a1f8-17560b97ac0c",
   "metadata": {
    "tags": []
   },
   "outputs": [],
   "source": [
    "X_eda_2"
   ]
  },
  {
   "cell_type": "code",
   "execution_count": null,
   "id": "61f1a40d-5a99-4e82-b5ef-6c51bd539da4",
   "metadata": {},
   "outputs": [],
   "source": [
    "X_eda_2.groupby(by='subreddit_nsq').sum().T.sort_values(by=1, ascending=False)"
   ]
  },
  {
   "cell_type": "code",
   "execution_count": null,
   "id": "55fdc7e4-e39e-4015-ae79-1b8ca1f55630",
   "metadata": {
    "tags": []
   },
   "outputs": [],
   "source": [
    "X_eda_2.groupby(by='subreddit_nsq').sum().T.sort_values(by=1, ascending=False).head(15).plot(kind='barh')"
   ]
  },
  {
   "cell_type": "code",
   "execution_count": null,
   "id": "a7bb78bc-fcad-49f6-b7cc-e5fc398c095e",
   "metadata": {},
   "outputs": [],
   "source": [
    "X_eda_2.groupby(by='subreddit_nsq').sum().T.sort_values(by=0, ascending=False).head(15).sort_values(by=1, ascending=False).plot(kind='barh')"
   ]
  },
  {
   "cell_type": "code",
   "execution_count": 96,
   "id": "549f5b11-5cc8-44c7-bfeb-7b1ebc7ef5ba",
   "metadata": {},
   "outputs": [],
   "source": [
    "# tranposing sorted word counts\n",
    "word_comparisons = X_eda.groupby(by='subreddit_nsq').sum().T.sort_values(by=1, ascending=False).T\n",
    "\n",
    "# words that have the same count\n",
    "same_word_count = [word for word in word_comparisons if word_comparisons[word][0] == word_comparisons[word][1]]"
   ]
  },
  {
   "cell_type": "code",
   "execution_count": 94,
   "id": "24170399-28d5-4ade-b7f9-7a65222d70fb",
   "metadata": {
    "collapsed": true,
    "jupyter": {
     "outputs_hidden": true
    },
    "tags": []
   },
   "outputs": [
    {
     "name": "stdout",
     "output_type": "stream",
     "text": [
      "['stomach', 'photos', 'empty', 'sites', 'refer', 'fingers', 'match', 'ahead', 'privacy', 'peoples', 'followers', 'workout', 'laying', 'threw', 'objects', 'serve', 'century', 'donate', 'korea', 'ish', 'primary', 'pattern', 'vegetables', 'drives', 'cameras', 'ghost', 'stuffed', 'perform', 'combination', 'shifts', 'killer', 'preferred', 'yard', 'consuming', 'visual', 'finishing', 'vape', 'dental', 'odds', 'fits', 'colored', 'expression', 'crappy', 'capacity', 'strike', 'alternatives', 'joint', 'boat', 'soccer', 'taiwan', 'concentration', 'endless', 'blonde', 'involves', 'homo', 'heritage', 'unlikely', 'promotion', 'suits', 'breakdown', 'fried', 'terribly', 'immigration', 'fitting', 'coast', 'increases', 'curse', 'consumption', 'chess', 'patterns', 'rental', 'weapon', 'shady', 'dye', 'returning', 'thursday', 'manipulation', 'detailed', 'returned', 'paralysis', 'shitting', 'repercussions', 'alpha', 'cognitive', 'binge', 'minimal', 'collective', 'surgeries', 'questioned', 'qualified', 'tense', 'fucks', 'continent', 'craving', 'maintaining', 'ringing', 'ultra', 'reaches', 'manslaughter', 'expose', 'artwork', 'forming', 'towns', 'sand', 'invasion', 'draining', 'widespread', 'redditor', 'fulfill', 'sensitivity', 'brave', 'mg', 'deliberately', 'approximately', 'retain', 'comparable', 'unconscious', 'trailer', 'airplanes', 'fastest', 'beats', 'furthermore', 'timeline', 'blunt', 'billionaire', 'royal', 'offices', 'outdated', 'chore', 'packing', 'david', 'vein', 'pierced', 'seasonal', 'agencies', 'manners', 'placing', 'swelling', 'indoor', 'puke', 'excellent', 'wider', 'punk', 'demons', 'zombie', 'sleeps', 'mob', 'warrant', 'existent', 'pins', 'broccoli', 'shelters', 'discovery', 'possibilities', 'prevented', 'fills', 'flames', 'warned', 'jake', 'foggy', 'wo', 'dolls', 'bans', 'grid', 'breeding', 'dense', 'antisocial', 'sponsored', 'sneezing', 'stall', 'hangs', 'thirsty', 'tracked', 'sanity', 'hammer', 'scotland', 'necessity', 'privately', 'silently', 'monsters', 'accepts', 'resent', 'sapiens', 'versed', 'debates', 'stalk', '1am', 'performed', 'disturb', 'mercury', 'recordings', 'criteria', 'regulated', 'bitten', 'cod', 'tournaments', 'billie', 'reminding', 'spamming', 'snakes', 'tackle', 'stimulate', 'simplest', 'bloated', 'blasting', 'ripping', 'rooted', 'grinding', 'greece', 'chills', 'scrub', 'nasal', 'moderately', 'mucus', 'valued', 'overlap', 'officials', 'variation', 'laundering', 'adopting', 'louis', 'invent', 'meanings', 'mathematics', 'poll', 'polls', 'cravings', 'picks', 'cracks', 'pits', 'fog', '9th', 'contractor', 'criticizing', 'crystal', 'improvements', 'perplexed', '10am', 'twelve', 'volunteers', 'thailand', 'tighter', '110', 'welcomed', 'inbreeding', 'impulsive', 'obey', '9pm', 'principle', 'prisoner', 'phenomena', 'lizard', 'afab', 'leaks', 'muted', 'merchandise', 'moderator', 'slides', 'scrubbing', 'stereotypically', 'stupidity', 'raining', 'rebuild', 'rly', 'ruling', 'salmonella', 'sanitizer', 'reschedule', 'hd', 'majors', 'bursts', 'detector', 'bathtub', 'eaters', 'easter', 'chaotic', 'envious', 'travelled', 'listerine', 'verb', 'statistical', 'advertisement', 'disk', 'lifts', 'tapping', 'deductible', 'distinctly', 'tangible', 'vancouver', 'counties', 'shrinking', 'showered', 'leash', 'cease', 'leftovers', 'vicinity', 'digress', 'producer', 'mesh', 'buzzfeed', 'microscope', 'voiced', 'enroll', 'sprint', 'continuous', 'rituals', 'principles', '9am', 'portugal', 'depiction', 'conquer', 'buttholes', 'migration', 'accommodate', 'streak', 'appreciative', 'scripts', 'observing', 'untill', 'strokes', 'ceremony', 'otc', 'peripheral', 'sector', 'opener', 'faded', 'astroworld', 'brooklyn', 'femininity', 'belive', 'apt', 'dual', 'caption', 'fetched', 'commited', 'dealbreaker', 'insurrection', 'soaps', 'intuitive', 'anticipating', 'receives', 'dine', 'bacterial', 'procrastinate', 'socialise', 'recalled', 'dictatorship', 'annoyance', 'reels', 'informative', 'imitate', 'spawn', 'leadership', 'leagues', 'reputable', 'apprentice', 'pup', 'vents', 'hosts', 'remedy', 'laced', 'slips', 'tuck', 'valentine', 'slowing', 'variations', 'electrician', 'uv', 'husky', 'virginia', 'indication', '1970', 'verified', 'juices', 'ans', 'jesse', 'colony', 'transported', 'smear', 'lineage', 'handicapped', 'decreased', 'pirate', 'tasty', 'pilots', 'starvation', 'avail', 'aw', 'pools', 'gamestop', 'po', 'counterparts', 'boosted', 'brownies', 'shattered', 'structural', 'faults', 'cryptocurrencies', 'parenthood', 'arcade', 'broader', 'phases', 'eyelid', 'photographs', 'sworn', 'daycare', 'attendant', 'flushing', 'oregon', 'oreo', 'creeping', 'strep', 'brass', 'robe', 'grabs', 'approx', 'alleged', 'memorial', 'godzilla', 'dependency', 'boggles', 'modeling', 'throbbing', 'ramble', 'probe', 'dove', 'beginners', 'squatting', 'designers', 'mailbox', 'strangest', 'dared', 'accompany', 'stranded', 'completing', 'crown', 'agendas', 'droplets', 'contributions', 'recieved', 'capsule', 'tittle', 'paints', 'massachusetts', 'parliament', 'dumbfounded', 'submitting', 'passively', 'crumbs', 'outlined', 'compelling', 'anomaly', 'blisters', 'suppression', 'ought', 'pendant', 'bleached', 'investigated', 'marketed', 'sociopaths', 'beetles', 'curios', 'overload', 'thereof', 'playground', 'bunnies', 'tricking', 'lemme', 'mockery', 'denominator', 'calculators', 'translates', 'bombings', 'protections', 'protector', 'protects', 'corps', 'disco', 'porcelain', 'lords', 'disassociate', 'travellers', 'pry', 'dishonest', 'longing', 'transplants', 'terminally', 'topping', 'descended', 'abducted', 'crammed', 'pimp', 'karaoke', 'deadbeat', 'nutritional', 'nye', 'belle', 'deathly', 'nt', 'affiliated', 'deepest', 'trunks', 'lumps', 'bo', 'bore', 'bun', 'luxuries', 'divisive', 'dizziness', 'mill', 'pirated', 'qualifies', 'newton', 'algebra', 'alzheimers', 'hideous', 'formally', 'illustrations', 'vikings', 'sikh', 'immersion', 'forensic', 'sloppy', 'glove', 'awakening', 'framed', 'highs', 'collaborate', 'hijacked', 'repaired', 'atrocious', 'uproar', 'grandkids', 'coloring', 'wrinkly', 'ambidextrous', 'followup', 'fo', 'impose', 'grammatical', 'exited', 'hovering', 'housewives', 'allways', 'sickly', 'humanly', 'analyze', 'homeschooling', 'whitewashing', 'slate', 'explodes', 'vanished', 'audible', 'endorphins', 'hypothermia', 'clues', 'restart', 'fungus', 'coffin', 'giggles', 'incite', 'guardians', 'simpson', 'guarding', 'yahoo', 'robbing', 'groundbreaking', 'inflammation', 'catastrophe', 'harsher', 'yknow', 'zoned', 'roses', 'ecstatic', '4pm', 'rival', 'feathers', 'es', 'clash', 'unload', 'waitresses', 'singapore', 'claustrophobic', 'gutter', 'evs', 'mee', 'moods', 'conveniently', 'temptation', 'exchanging', 'maturing', 'tempered', 'poeple', 'pod', 'walker', 'sprinkle', 'wanking', 'devils', 'salaried', 'singled', 'costing', 'cider', 'timelines', 'cosplayers', 'grading', 'acute', 'weary', 'thickness', 'evacuate', '14f', 'theyll', 'butcher', 'theyve', 'clark', 'grazed', 'graphically', 'miller', 'clam', 'arises', 'awaiting', 'guesses', 'guinea', 'gland', 'roleplaying', 'wellness', 'modelling', 'convict', 'thyroid', 'wedges', 'approximate', 'evasion', 'ronaldo', 'prematurely', 'cited', 'brutally', 'wwe', 'customized', 'accelerating', 'fleeting', 'criticising', 'bruising', 'semblance', 'breakfasts', 'crisp', 'asymmetrical', 'xxxx', 'atractive', 'fluctuates', 'seatbelts', '500k', 'perpetually', 'perpetrator', 'operates', 'dae', 'persist', 'fetishist', 'cuddly', 'assistants', 'subscribing', 'favoured', 'paparazzi', 'absorption', 'sensor', 'peach', 'sentencing', 'stubble', 'overestimate', 'astronomical', 'stumbling', 'paved', 'suffocate', 'overworked', 'neon', 'analogy', 'functionality', 'futile', 'saxons', 'bullshitting', 'scandinavia', 'winnie', 'nigeria', 'wildfire', 'whitewashed', 'sanitize', 'counterpart', 'plucked', 'exits', 'gallbladder', 'chronically', 'cds', 'nun', 'deadass', 'nurture', 'forgave', 'oats', 'scrotum', 'pharma', 'fools', 'shithole', 'worsened', 'occurrences', 'childrens', 'bulking', 'stockings', 'shockingly', '28f', 'scholars', 'explored', 'fresheners', 'nocturnal', 'nothings', 'noteworthy', 'bulging', 'norton', 'decay', 'crate', 'lest', 'lidl', 'verbatim', 'coastal', '79', 'reinforces', 'licenses', 'downer', 'jets', 'uncomfy', 'tripped', 'coerce', 'embryo', 'jimmy', '77', 'cardiovascular', 'clutch', 'registers', 'discreetly', 'connecticut', 'transformation', 'earthquakes', 'restrooms', 'adventurous', 'indicative', 'limbo', 'bcz', 'honors', 'aircrafts', 'congrats', 'indifference', 'agitated', 'enclosed', 'afterwords', 'turd', 'sould', 'electromagnetic', 'vacant', 'remarked', '62', '30min', 'ralph', 'concentrating', 'uyghur', 'domestically', 'imaginable', 'kentucky', '630', 'doja', 'ren', 'idolize', 'comprehension', 'camry', 'rail', 'dominates', 'colonizer', 'rarity', 'betray', 'leans', 'learns', 'sparks', 'quantify', 'berry', 'jp', 'barring', 'distracts', 'carpool', 'improper', 'recluse', 'admiration', 'reckon', '92', 'maguire', 'procreation', '1996', 'unofficial', 'inquiries', 'anticipate', 'hehe', 'announcements', 'snarky', 'recession', 'sketches', 'dropout', 'commits', 'epiphany', 'marries', 'adjustment', 'titan', 'captures', 'dummy', 'epitome', 'beater', 'hash', 'unified', 'communal', 'interactive', 'snore', 'probable', 'disciplinary', 'hermancainaward', 'proposing', 'traitor', 'hereditary', 'refunded', 'villages', 'vigilante', 'earring', 'unease', 'protagonists', 'looting', 'discarded', 'conserve', 'herbs', 'semitic', 'rake', 'seas', 'centimeter', 'sear', 'softwares', 'reasonings', 'reminiscing', 'subjugation', 'recruitment', 'pedestrians', 'pas', 'sooooooo', '4c', 'snails', 'checklist', 'rearing', 'snowflakes', 'browsers', 'crumble', 'redhead', 'snuck', 'redacted', 'recruited', 'shea', 'railroads', 'strung', 'scuba', 'relativity', 'shellfish', 'recieving', 'cropped', 'shill', 'cropping', 'creme', 'caravans', 'rasputin', 'peppermint', 'bubbling', 'comet', 'receipts', 'crickets', 'pausing', 'payroll', 'recess', 'striped', 'sept', 'crib', 'cheered', 'patriots', 'characterized', 'strategically', 'semantics', '32f', 'smuggling', '320', 'complying', 'refilling', 'strawman', 'reg', 'shames', 'appreciating', 'croissant', 'relay', 'shills', 'collateral', 'postman', 'civilisation', 'skimmed', 'spinal', 'propulsion', 'rethinking', 'closets', 'cooperative', 'powerhouse', 'revisit', 'practicality', '3rds', 'royale', 'saddening', 'conjecture', 'caved', 'sailor', 'prune', 'saget', 'calf', 'resumes', 'rushes', 'prosper', 'sabotaged', 'connectivity', 'restricts', 'protested', 'sporty', 'preserving', 'appropriative', 'classrooms', 'prepped', 'rogue', 'controversies', 'risqué', 'preventative', 'siren', 'architect', 'spotted', 'robes', 'rober', 'sinner', 'preparations', 'rhythms', 'precursor', 'stables', 'predicting', 'consulting', 'romani', 'casts', 'proceedings', 'ron', 'spontaneity', 'classed', 'sponsors', 'sponsorships', 'stitching', 'conciousness', 'coincidental', 'chlorine', 'replicating', 'pinterest', 'bulletproof', 'replica', 'schoolwork', 'southerners', 'scholarly', 'qualifying', 'spammed', 'choosy', 'pushback', 'celestial', 'pirating', 'shortcomings', 'spade', 'pitches', 'replaceable', 'apologising', '280', 'renovation', 'scrambling', 'chillin', 'compressor', 'creampie', 'scraper', 'cancels', 'pictured', '88', 'schtick', 'renters', 'pice', 'craved', 'burdens', 'counteract', 'samuel', 'shrugging', 'cigars', 'appriciate', 'policeman', 'burritos', 'pol', 'psychopathy', 'slash', 'cb', 'resorts', 'sapien', 'abba', 'conductor', 'planing', 'coveted', 'ceases', 'plato', 'archives', 'repugnant', 'shouldve', 'cowardly', 'plaid', 'sparing', 'showerhead', 'pulp', 'shrinks', 'stench', 'sledgehammer', 'rescues', 'pungent', 'reruns', 'sauna', 'resale', 'kardashians', 'westerns', 'twitches', 'khaled', 'kennedy', 'judgements', 'avoidable', 'jurors', 'juror', 'tug', 'exaggerates', 'lads', 'lamb', 'aviation', 'kneeling', 'wheelchairs', 'analyzed', 'underwent', 'governed', 'intricacies', 'introductory', 'intrested', 'introductions', 'evangelical', 'inventing', 'intruders', 'israelites', 'jewels', 'jessica', 'unbanned', 'jong', 'afrikaans', 'gloomy', 'undergone', 'jabbed', 'ist', 'awarding', 'underarms', 'aways', '1920s', 'tramp', 'discolored', 'trader', 'lobe', 'lobbyists', 'wicked', 'automod', 'lipstick', 'garner', 'disgruntled', 'exercised', 'adulting', 'bind', 'binders', 'discourages', 'automobile', 'discrediting', 'blackheads', 'furiously', 'willfully', 'torsion', 'torturous', 'traceable', 'birthplace', 'lunchtime', 'antichrist', 'genderfluid', 'dissertation', 'trickle', 'disproven', 'advising', 'exclusivity', 'whiny', 'examined', 'distinguishing', 'whipping', 'excerpt', 'layered', 'layed', 'exceeding', 'lawns', 'lawful', 'geniunely', 'trucker', 'laundromat', 'biding', 'lifer', 'whyd', 'bikers', 'lineup', 'wicca', 'leveled', 'leon', 'geek', 'licks', 'bicycles', 'liam', 'lgtbq', 'lex', 'intestinal', 'uteruses', 'humanities', 'humanitarian', 'hulk', 'hammering', 'hudson', 'emerged', 'venues', 'vengeance', 'hanged', 'valentines', 'eliminates', '14yo', 'electoral', 'baskets', 'erectus', 'vaseline', 'eloquent', 'hurricanes', 'hungarian', 'iam', 'ia', 'elliot', 'barn', 'versatile', 'envelopes', 'vista', 'bale', 'hepatitis', 'enrollment', 'heartache', 'vocalist', 'enslave', 'healthily', 'alberta', 'enlightened', 'bagged', 'enrolling', 'vibrates', 'bandage', 'airflow', 'homeland', 'endemic', 'vigorously', 'viewable', 'hardwired', 'hardworking', 'viking', 'airway', 'hickey', 'hippa', 'endowed', 'dwarf', 'unprecedented', 'informally', 'espionage', 'agility', 'grin', 'insomniac', 'wayyy', 'dubious', 'uninteresting', '13yr', 'graciously', 'drummer', 'intervening', 'allegation', 'granola', 'ethan', 'inspires', 'dummies', 'instruct', 'euphemism', 'guinness', 'effortlessly', 'gulags', 'impersonate', 'battered', 'impregnated', 'upto', 'illustrated', 'illuminate', 'elastic', 'usaa', '176', 'guru', 'eighth', 'grouped', 'unseen', 'unskippable', 'unsocial', 'babbling', 'unwillingly', 'unwillingness', 'unwind', 'inconsistencies', 'grunting', 'bbb', 'noo', 'nonprofit', 'wut', 'nomad', 'antsy', 'flashback', 'fairer', 'normative', 'node', 'nigh', 'flavours', 'declines', 'nicu', 'flawless', 'decompose', 'nihilistic', 'faintly', 'amputating', 'nutting', 'brad', 'xvideos', 'swords', 'sydney', 'synced', 'dealings', 'systematically', 'dean', 'flabbergasted', 'deadliest', 'synopsis', 'anxiousness', 'syrian', 'decomposition', 'myths', 'mythical', 'wrappers', 'deformed', 'narration', 'napping', 'multimillionaire', 'fluctuating', 'bossy', 'negotiation', 'acetaminophen', 'decorative', 'deficient', 'taxation', 'deflate', 'tasteless', 'defer', 'fascists', 'overhear', 'overhaul', 'overwhelms', 'cupboard', 'cupcake', 'overstepping', 'oversleeping', 'breathed', 'superstitious', 'apex', 'supplementation', 'outloud', 'assualt', 'ovarian', 'overdrive', 'overdoses', 'curiousity', 'para', 'papercut', 'papa', 'cub', '2500', 'cryptic', 'paraphrase', 'ammount', 'brien', 'padded', 'fellas', 'felling', 'zebras', 'pallet', 'pamphlet', 'pallets', 'succubus', 'ziploc', 'om', 'famously', 'swabs', 'dabbled', 'filth', 'yearn', 'brainwash', 'brainstorming', 'oct', 'accomplishing', 'occupational', 'dangle', 'braindead', 'orlando', 'orthodox', 'ourself', 'suppressant', 'suppressants', 'fiasco', 'ost', 'amicably', 'yields', 'cyclists', 'suspense', 'cystic', 'figurative', 'customize', 'yosemite', 'orbiting', 'merchant', 'detach', 'aud', 'arround', 'metaphysical', 'exterior', 'blooded', 'despair', 'destitute', 'framing', 'medicare', 'freudian', 'meghan', 'memorization', 'derivative', 'wooded', 'adamantly', 'millennium', 'designate', '1s', 'temporal', 'metrics', '10cm', 'exterminate', 'framework', 'thrusting', 'foxes', 'mickey', 'developments', 'toggle', 'expiring', 'marinade', 'margins', 'margaret', 'marathons', 'digestion', '10s', 'administrative', 'winding', '1993', 'toolbox', 'mango', 'tolerating', 'authorized', 'tingle', 'maze', 'measly', 'meanest', 'adequately', '1hr', 'fronts', 'marshals', 'dictates', 'markle', 'fro', 'augmented', 'augustine', '2023', 'thanos', 'missionaries', 'theorized', 'f19', 'mistaking', 'mister', 'mouthing', 'forceful', 'motivating', 'foreheads', 'demonstrate', 'terrain', 'attain', 'bodmas', 'mistreatment', 'movers', 'monies', 'den', 'thinning', 'fn', 'actualy', 'woody', 'tertiary', '10mph', 'wretched', 'shitamericanssay', 'widowed', '100mph', 'automatics', '3g', 'catcall', 'yu', 'shampooing', 'silos', 'shifty', 'await', 'wrestlers', 'wrestler', 'wahtever', 'widest', 'archaeological', 'awnser', '3s', 'backlogs', 'silverware', 'cello', 'welch', 'waging', 'ce', 'waists', 'weebs', 'woth', 'backstories', 'backstab', 'chandler', '137lbs', 'shirley', 'vows', '135lbs', 'zir', 'vox', '100kg', 'zipping', 'automate', 'asshats', 'zooming', 'wills', 'skateboards', 'wedlock', 'sikhism', 'voluminous', 'zucchini', 'baconreader', 'wince', 'sf_link', 'skateboarders', 'woulday', 'wimpy', '15mins', 'awed', 'wilfully', 'vunerable', 'caucasoid', 'zealous', 'assing', 'zapruder', 'silhouette', 'zippers', 'yum', 'yugioh', 'skated', 'shoves', '100m', 'sizzle', 'caucus', 'zi', 'webkinz', '131', 'worshippers', 'webex', 'weightlessness', 'championships', '00pm', 'welsh', 'wendigoon', 'whiteface', 'yale', '401ks', 'wussup', 'yadayadayada', 'warmest', 'whiteboard', 'whe', 'babylon', 'shittier', 'sidekicks', 'whistles', '400lb', 'wordiness', 'cayman', 'womanizer', 'wobbly', 'sherlock', 'cate', 'astrophysics', 'shepherd', 'wardrobes', 'shun', 'sidenote', 'singlehandedly', 'whatevers', 'whitehead', 'sheds', 'wordplay', 'shuttles', 'shutup', 'caving', 'xem', 'attics', 'x1', '14k', 'caterpillar', 'washable', 'wheres', 'wastedtalent', 'xers', 'babied', '145lb', 'wast', 'whichu', 'woodpecker', 'xe', 'b99', '400m', '109', 'waster', 'categorizing', 'wonderfully', 'warships', 'simplistic', 'sheltering', 'simulations', '125', 'siamese', 'woodshop', 'wyoming', 'astronomically', 'sinister', 'whopping', 'axial', 'walkthrough', 'workspace', 'shareable', 'simmering', 'wither', 'whooping', 'whoop', 'wallets', 'wd40', 'sightseeing', 'automobiles', 'widened', '4500', 'shifter', 'sirius', 'youngish', 'challenor', 'auditor', 'shaq', 'attains', 'wakeup', 'shitholes', 'worldly', 'shitposting', '150kg', 'centaurs', 'astroid', 'wardens', '150lbs', 'shoplifters', 'shitter', '103', 'sighs', 'shrouded', 'yoda', 'shielding', 'astonishing', 'waltz', '11months', 'shoppers', 'wronging', 'yellowish', 'avocados', 'shilling', 'volts', 'butchers', 'butchering', 'boarded', 'boardgames', 'thi', 'theys', 'stallion', '200m', 'busybody', 'therein', 'boatload', 'bobbing', 'bobble', 'therapeutic', 'theough', 'theoriest', 'theor', '2h', 'standout', 'blushed', 'thinly', 'ssdi', 'sshole', 'ssss', 'ssy', 'throughly', 'stabilized', 'blot', 'blouses', 'arising', 'blowie', '1v1', '1½', 'butters', 'stadiums', 'thompson', 'staggering', 'thnx', 'bodys', 'thrower', 'terf', 'statewide', 'terabyte', 'tentative', 'bonjour', 'stave', 'bony', 'booby', 'burglars', 'bureaucratic', 'teleport', 'telekinesis', 'telehealth', 'burton', 'thd', 'boisterous', 'boldness', 'ark', 'bollocks', 'bolster', 'testimonials', 'bombarding', '2ft', 'terraria', 'termites', 'throwaways', 'bloomed', 'toothpicks', 'toothpick', 'toothless', 'blackwashing', 'tonnes', 'tonne', 'spoilt', 'spokesperson', 'blackwater', 'tommorrow', 'tomboy', 'bladee', 'tomahawk', 'blasphemy', 'blasted', 'spoonfuls', 'blasters', 'blasts', '1989', 'topical', 'toungue', '1977', 'bittersweet', 'spiritualism', 'toughen', '1986', 'totalled', 'torsos', 'blackfoot', 'tormenting', 'toed', '2mm', 'bloats', 'buzzword', 'buzzkill', 'squatters', 'tides', 'squeal', 'squeezes', 'tiara', 'squiggly', 'squirm', 'buyin', 'thugs', '1l', 'tightens', 'tmr', 'c19', 'tm', 'tlou2', 'tittie', 'blesses', 'tis', 'blight', 'tigray', 'tiptoe', 'byron', 'blindingly', 'tins', 'tinkering', 'tina', 'spying', '1km', 'steinbeck', 'stellar', 'surnames', 'surged', '239', 'supress', 'breakthroughs', 'bruised', 'breathes', 'superstar', 'supersede', '25yr', 'armenians', 'swallows', 'straying', 'branching', 'sustenance', 'bucky', 'strictest', 'strengths', 'susceptibility', 'brawls', 'breaching', 'surreptitiously', '25lb', 'succinctly', 'subzero', 'su', 'broadcasted', 'subtleties', 'subtitle', 'subconciously', 'substitution', 'substitutes', 'subdued', 'subgenres', 'subservient', 'armoured', 'bronze', 'subscribes', '253', 'brony', '24yo', 'stuf', 'brendan', 'superglued', 'supercomputer', 'superbowl', 'brews', 'summoned', '249', 'sultry', 'suitemates', 'suitcases', 'suffrage', 'brigade', 'broths', 'brotherly', 'budgeted', 'strategize', 'tarnish', 'taping', 'tanner', 'tangential', 'tamer', 'tallying', 'stipend', 'bulldogs', 'stirs', 'talkin', 'takeaway', 'stocker', '21yr', 'tak', 'sticked', 'tastier', '20something', 'technicalities', 'techie', 'teaspoon', '20mins', 'bootlicker', '20mph', 'stereos', 'stethoscope', 'bootyhole', 'boozy', 'armageddon', 'taurine', 'sterilization', 'taunt', '20y', 'tattered', 'tailed', 'stockpiling', 'storys', 'swish', 'storytelling', 'swimwear', 'braid', 'straightened', 'swimmer', 'swiming', 'aromatic', 'straightens', 'swerved', 'armenian', 'buffoon', 'swedes', 'brainstormed', 'swede', 'strangling', 'swatting', 'stoke', 'stoney', 'tai', 'bourgouise', 'tactile', 'stomped', 'tackled', 'bows', 'bulding', 'synthetically', 'stoped', 'stoppers', 'syndicalism', 'storebought', '2750', 'symbiosis', '1976', 'caked', 'untimely', 'bausch', 'smeared', 'uprooted', 'upping', 'bawl', '17k', 'bbt', '35yo', 'uo', 'unzipped', 'smokin', 'smoothest', 'unwashed', 'untold', 'upsides', 'carnage', '172cm', '16y', 'basterds', 'usher', 'slurp', 'uselessness', 'bateman', 'slush', '175cm', 'upsurge', '177', 'uruguay', 'urethral', 'smacks', '364', 'smartass', 'smugglers', 'becaue', 'smush', 'snobbish', 'unmoderated', 'unmarked', 'beatings', 'snorkel', 'beatle', 'snorted', 'unloaded', 'snout', 'beauties', 'snowden', 'unleashing', 'unleashed', 'beaver', 'capturing', 'becahse', 'arduino', 'unsurprisingly', 'unsupported', 'unstuck', 'unshakable', 'unsettled', 'cardiologist', 'unscented', 'beagle', 'unresponsive', 'unremarkable', 'unquestioning', 'carcinogens', 'unproven', 'beastie', 'basses', 'utopian', 'aslo', 'vindictive', 'caskets', 'ballistic', 'ballon', 'vilify', 'casings', '160cm', 'skits', 'vide', 'victor', 'vick', 'vey', 'casper', 'balenciaga', 'baddies', 'voila', 'skeletic', 'vogue', 'vocab', 'viva', 'vitro', 'sketching', 'visitor', 'violinists', '15yo', 'baiting', 'bakeries', 'skillshare', 'skimp', '38f', 'casserole', 'violins', 'banished', 'bankrupted', 'carte', 'aspd', 'slicing', 'slicker', 'variability', 'barked', 'vapid', 'barometric', 'sleeveless', 'barons', 'barricaded', 'vagus', 'vacationing', 'vacationed', 'verging', 'venezuelan', 'verdicts', 'slaughterhouses', 'cartoony', 'venice', 'slay', 'vectors', 'vendetta', 'veil', 'sleepers', '37k', 'veer', 'carti', 'barcode', 'snuggled', 'calamities', 'tss', 'cambridge', 'tryptophan', 'trypophobia', 'spaghettio', 'trustable', '1941', 'truest', '1948', 'trout', 'troubleshooting', '1960', 'bests', 'trophies', 'spaced', 'tsunamis', 'soundcloud', 'sorcery', 'tus', 'benefitted', 'arethecisok', 'arfid', '191', 'turds', 'tuber', 'camo', 'tunic', 'bennet', 'bentley', 'benzo', 'tucson', 'argh', 'spas', 'becaus', 'triumphs', 'speculative', 'traumatize', 'biggots', 'trashcan', 'caliber', 'transparently', 'arthropods', 'spendings', 'billionare', 'transistors', '1971', 'transcontinental', 'transcends', 'trampling', 'articulated', 'triumphant', 'trippy', 'beverly', 'spawns', 'spay', '1965', '30ish', 'bffs', 'californian', 'specificity', 'tremble', 'specifies', 'treasured', 'treason', 'bicycling', 'spectator', 'tweezers', 'soprano', 'sophomores', 'unenjoyable', 'sod', 'capitalizing', 'softcore', 'undisturbed', 'undervalued', 'befuddled', '1813', 'solace', 'underrated', 'underprivileged', 'underpinnings', 'underperformance', 'unexplained', 'beehives', 'ashy', 'captivated', 'unhealthily', 'unharmed', 'bedsheet', 'unfuck', 'unfairness', 'socialized', 'unfriending', 'unfriended', '345', 'sociocultural', 'unfocused', 'unfalsifiable', 'underestimated', '188', 'una', 'beig', 'ull', 'ughhh', 'ubi', 'tyt', 'tyrosine', 'belittles', 'soothe', 'soothes', 'sopa', 'bellybutton', 'twinge', 'unaddressed', 'undercover', 'underbite', 'underbelly', 'undefined', 'unconfident', 'behest', 'som', 'uncivil', 'somalia', 'mace', 'm4', 'm35', 'm32', 'm29', 'm16', 'admires', 'lyrical', 'dint', 'lv', 'luxembourg', 'lulls', 'lukashenko', 'luis', 'luigi', 'lucy', 'admirers', 'macos', 'dilutes', 'digitalization', 'administered', 'diligence', 'malleable', 'malfunctions', 'macros', 'dimes', 'diminutive', 'dimmer', 'maim', 'magneto', 'madrid', 'madonna', 'madea', 'lobes', 'logout', 'lodged', 'locomotive', 'discos', 'loaning', 'discrepancies', 'liven', 'adultery', 'lomb', 'lubes', 'disallowed', 'lp', 'disadvantages', 'lovecraft', 'lovable', 'lounging', 'loudness', 'lotr', 'longggg', 'lotions', 'disapprove', 'loosening', 'disassembled', 'loopy', 'disbarred', 'paler', 'metalhead', 'metadata', 'messi', 'mermaids', 'destroyers', 'meows', 'mend', 'memberships', 'deterrent', 'detonated', 'metastatic', 'megaphone', 'mimicking', 'derives', 'dermal', 'derrick', 'militarily', 'desc', 'adaptive', 'mig', 'miffed', 'descendent', 'desensitising', 'metre', 'deuce', 'mariana', 'diaspora', 'dibs', 'dichotomy', 'mascot', 'maryland', 'marvin', 'margot', 'manwha', 'manuel', 'manosphere', 'manipulators', 'digestible', 'masterchef', 'meek', 'devise', 'additives', 'devastation', 'medic', 'developping', 'mechanically', 'antipsychotic', 'measurable', 'devoting', 'mcd', 'diabetics', 'maximise', 'mauled', 'maturely', 'mathew', 'mastering', 'litterbox', 'kidnappers', 'kidnaps', 'kickboxing', 'domains', 'kenobi', 'kenneth', 'kendrick', 'dodges', 'keepers', 'kubrick', 'lacy', 'labrador', 'laborious', 'laborer', 'kys', 'kumar', 'kosovo', 'affirmations', 'knockouts', 'kneel', 'knack', 'affirmed', 'litte', 'jolie', 'json', 'joust', 'journals', 'josue', 'jolts', 'jokey', 'dosages', 'jive', 'jiu', 'jittering', 'jitsu', 'jsyk', 'justifications', 'katie', 'katakana', 'karl', 'dominantly', 'kaitlyn', 'kaiser', 'juvie', 'jutting', 'domination', 'domineering', 'donot', 'jumpstarted', 'jumpscare', 'donno', 'julie', 'laffy', 'lifeforms', 'libya', 'libs', 'disparaging', 'disparate', 'dispatch', 'lib', 'dispensary', 'levitate', 'displacement', 'ligaments', 'diseased', 'disembowel', 'liquidity', 'dishonestly', 'linchpin', 'lima', 'lile', 'likelyhood', 'disjointed', 'lightweight', 'anthropomorphize', 'lightheartedly', 'dislodge', 'lessens', 'lasers', 'lawrence', 'latching', 'lennon', 'lanyard', 'ditzy', 'diuretic', 'lance', 'lamest', 'lamborghini', 'dives', 'layoffs', 'legitimize', 'disproves', 'disputing', 'disqualify', 'legaladvice', 'leeching', 'leech', 'aerial', 'aerobics', 'aerodynamics', 'dissapointed', 'mindedness', 'dankmemes', 'offsprings', 'dandy', 'offhand', 'accompanies', 'oestrogen', 'ogs', 'odin', 'oddity', 'oddities', 'darling', 'dasani', 'occurance', 'ogre', 'onerous', 'opiate', 'opaque', 'oozing', 'oopsie', 'oooh', 'oo', 'omnipresent', 'omly', 'omelet', 'omar', 'oligarchs', 'olfactory', 'damm', 'aoe', 'dateless', 'nonasexual', 'nother', 'nudge', 'dealbreakers', 'nub', 'nth', 'nr', 'npc', 'dealio', 'nothis', 'nothin', 'accs', 'notalking', 'notake', 'nosing', 'decedent', 'accumulating', 'nornal', 'normaly', 'normalizes', 'deceitful', 'nuggies', 'dateline', 'obstruction', 'anythign', 'accordance', 'dawns', 'obliterate', 'obliges', 'objectives', 'deafening', 'daytona', 'dazed', 'o2', 'deactivate', 'nutritionists', 'nutritionally', 'any1', 'nullified', 'accelerator', 'overwritten', 'overwhelm', 'curated', 'overtakes', 'overtake', 'overstretch', 'overslept', 'oversaturated', 'owls', 'overproduced', 'overpowers', 'overpowering', 'overeating', 'cunts', 'opposites', 'cultivated', 'cuckoo', 'palaces', 'culled', 'culpable', 'cultivate', 'cunning', 'pacifist', 'paces', 'cuming', 'cumshots', 'oxymoronic', 'overcharged', 'originality', 'ordinance', 'orchestrate', 'orangey', 'overactive', 'optimum', 'optimise', 'optimally', 'cushy', 'orr', 'orrr', 'orthodontist', 'outweighed', 'outsourcing', 'outsourced', 'outsides', 'apeshit', 'cursedcomments', 'outcry', 'curving', 'otoh', 'osmosis', 'oscars', 'cushions', 'orthopedic', 'moneys', 'moped', 'montgomery', 'denominational', 'monolingual', 'mongolians', 'mongolian', 'demoralized', 'monetizing', 'monarchies', 'activating', 'molten', 'molding', 'acrylic', 'dependable', 'msm', 'mrbeast', 'delved', 'mow', 'acquitted', 'morgues', 'motorcyclist', 'motorcycling', 'motivator', 'moths', 'demonstrably', 'mot', 'acrobat', 'demonstrates', 'miraculous', 'misguided', 'misanthrope', 'depress', 'actualpublicfreakouts', 'depressant', 'minimalist', 'deputy', 'miner', 'mitigates', 'mocktail', 'moba', 'deportation', 'missteps', 'msrp', 'mtg', 'neighborly', 'neuronal', 'dedicating', 'ached', 'deducted', 'dee', 'neoliberal', 'deepens', 'neuroscientists', 'deezer', 'negligible', 'negligently', 'neet', 'defenders', 'necktie', 'defenses', 'neccessary', 'neccessarily', 'deferent', 'neuropathy', 'mtv', 'nobles', 'nixon', 'nis', 'nikki', 'nih', 'nightlife', 'neuter', 'nightcrawler', 'declog', 'nickel', 'decoded', 'newfound', 'acetate', 'neverending', 'nbd', 'defies', 'definately', 'muzzle', 'mutuals', 'mutiny', 'deities', 'acknowledgment', 'antiviral', 'murphy', 'munching', 'deliever', 'multimillion', 'mystical', 'nauseas', 'nauseam', 'nationwide', 'deflation', 'nathan', 'narwhal', 'narrator', 'narcotic', 'naples', 'defunct', 'defunded', 'defy', 'nailed', 'jinx', 'jiggling', 'glittering', 'glitching', 'glitches', 'gliding', 'glide', 'glaringly', 'glancing', 'everynight', 'gladiator', 'allocate', 'evidences', 'gimmicky', 'evolutions', 'giblets', 'golfing', 'goto', 'evaporates', 'gorgerous', 'evens', 'gooey', 'goodrx', 'eventful', 'goldberg', 'evertime', 'alleyway', 'goddesses', 'goblins', 'gnats', 'everthing', 'fx', 'exept', 'gastric', 'gasped', 'gaslights', 'gary', 'gargantuan', 'exert', 'exerting', 'gameshow', 'galore', 'gadot', 'excavation', 'gg', 'exaclty', 'analyzation', 'gerrymandering', 'exagerated', 'exagerating', 'geographical', 'excerpts', 'executing', 'excitedly', 'generalisation', 'excludes', 'excommunicated', 'gbs', 'gayspiderbrothel', 'gawking', 'gouge', 'gown', 'guzzling', 'ergo', 'ergonomic', 'erikson', 'hace', 'habe', 'gynaecologists', 'alias', 'erasure', 'gunpoint', 'gung', 'erratically', 'erupt', 'erupting', 'guillotine', 'hairspray', 'hardcopy', 'harbinger', 'epinephrine', 'alerting', 'happends', 'alertness', 'hansen', 'hangin', 'hallelujah', 'handwashing', 'handedly', 'equinox', 'handbag', 'hammock', 'hammers', 'hallucinogenic', 'escobar', 'graphical', 'establishes', 'estimating', 'graveyard', 'grassy', 'eternally', 'grappling', 'guardianship', 'granite', 'grander', 'grammy', 'eur', 'eurasia', 'eurovision', 'greyed', 'greys', 'griffin', 'grime', 'guacamole', 'gtfo', 'growths', 'esl', 'growls', 'growling', 'aligning', 'grossness', 'groomsmen', 'groaning', 'grit', 'esqe', 'gabagool', 'hards', 'firewall', 'fives', 'fitter', 'fallback', 'fishers', 'fisher', 'fished', 'firmness', 'firetrucks', 'fizzy', 'amplifies', 'fireball', 'finna', 'amended', 'amphibians', 'fanatic', 'fanaticism', 'finch', 'fancied', 'faker', 'finalized', 'flea', 'factoring', 'amt', 'flippantly', 'flippant', 'flinching', 'flab', 'flatulence', 'flats', 'flares', 'fairies', 'flaky', 'fairness', 'flagship', 'finacial', 'fundraiser', 'fatherly', 'femine', 'feminazis', 'femboys', 'felonies', 'feisty', 'feelin', 'amoral', 'feminizing', 'fatness', 'fatphobia', 'amounted', 'amost', 'façade', 'faxes', 'fawkes', 'favorably', 'filial', 'figurine', 'fifties', 'faping', 'fencing', 'fascinates', 'fetishists', 'fester', 'flipside', 'floaters', 'franklin', 'freshest', 'freshening', 'alts', 'explosives', 'exports', 'exposition', 'freakout', 'ext', 'frazzled', 'fricken', 'frances', 'fragments', 'fractures', 'alyx', 'fundamentals', 'alterations', 'fullfilling', 'fulfills', 'fugitive', 'expelling', 'anally', 'fubar', 'altho', 'ftr', 'frisbee', 'fringes', 'exploitable', 'f28', 'focal', 'flyers', 'fabled', 'flung', 'fluency', 'formulated', 'fluctuated', 'faceless', 'flourishing', 'flotus', 'florence', 'flock', 'eyeshadow', 'eyeroll', 'folx', 'extraverted', 'extreamly', 'forgo', 'extrinsic', 'foreword', 'aman', 'amanly', 'eyeblech', 'footballer', 'amazes', 'hardy', 'dosnt', 'inhaler', 'infuriatingly', 'infrequent', 'infectious', 'inheritances', 'infamously', 'infallible', 'inexplicably', 'inert', 'indy', 'indulged', 'dystopia', 'inheriting', 'indonesian', 'duplex', 'insinuated', 'insinuate', 'inputted', 'innumerable', 'dwindled', 'inna', 'dwindling', 'dyes', 'inhuman', 'inhibits', 'inhibition', 'inhibited', 'easing', 'immunities', 'egalitarian', 'inbuilt', 'eels', 'inapropriate', 'impresses', 'efter', 'implode', 'incentivize', 'egocentric', 'impeding', 'impart', 'impaled', 'eharmony', 'incarcerated', 'agitators', 'indoctrinate', 'individualized', 'individualist', 'indigestion', 'indies', 'ec', 'eclipses', 'indecisive', 'incubation', 'economists', 'inching', 'inconvenienced', 'inconsistency', 'incompatibilities', 'edgewise', 'incidentally', 'instagrams', 'installations', 'installer', 'irregardless', 'iteration', 'ag', 'ageing', 'israelite', 'isle', 'islander', 'islamist', 'isaac', 'dramatized', 'downsize', 'irrationality', 'drawback', 'iroquois', 'dreamsexual', 'ivy', 'installments', 'doubles', 'jess', 'doubling', 'jeopardizing', 'jeeze', 'jazzed', 'iw', 'jarhead', 'jails', 'drifts', 'dukes', 'agender', 'du', 'intensively', 'duller', 'intelligently', 'insurmountable', 'insurer', 'aggravating', 'insulator', 'instigating', 'instantaneously', 'drunks', 'interprets', 'dripped', 'drivable', 'invert', 'droopy', 'inundating', 'intrusion', 'intruder', 'droughts', 'intoxication', 'intolerable', 'drugging', 'drugstore', 'interrupts', 'immutable', 'eighteen', 'harmoniously', 'hideously', 'hibernation', 'hgh', 'heteroflexible', 'hierarchies', 'hercules', 'enhances', 'hemp', 'engagements', 'helpppp', 'hissing', 'holdup', 'hobo', 'hobbit', 'hmmmmm', 'hisses', 'endorsements', 'hilariously', 'enforceable', 'hiked', 'enforces', 'helpline', 'enthusiasts', 'hawking', 'havebeen', 'entrances', 'headhunters', 'entrepreneurial', 'hathaway', 'entryway', 'hasty', 'harrassing', 'enrol', 'hellen', 'enjoyer', 'enlarge', 'enlist', 'heave', 'enriching', 'hearty', 'heartaches', 'hearings', 'ensemble', 'alaskan', 'entailed', 'hologram', 'idealize', 'icelandic', 'icecaps', 'hypersexuality', 'hypermobile', 'hydrohomies', 'elongated', 'elucidate', 'homegirl', 'electing', 'immediatley', 'immaculate', 'imitation', 'ekstra', 'ela', 'ight', 'idrk', 'idolized', 'electrolytes', 'electronically', 'eluded', 'angelina', 'horseback', 'horrifies', 'horribleness', 'horoscope', 'horde', 'hoovering', 'honks', 'honked', 'homesick', 'hosepipe', 'hosing', 'hunker', 'embarasing', 'humbly', 'ailing', 'embellishing', 'hubbub', 'embryos', 'emerge', 'howling', 'emerging', 'housekeeper', 'housed', 'hounding', 'paleness', 'milking', 'precedes', 'collarbones', 'polluted', 'pollute', 'polling', 'removable', 'cortisol', 'polka', 'remotes', 'a4', 'polos', 'corrupting', 'renouncing', 's3x', '_would', 'reno', 'sacrificial', 'pompous', 'pomegranate', 'qatar', 'circulated', 'cosigner', 'poe', 'quack', 'sahara', 'poised', 'collide', 'queef', 'queefed', 'quartered', 'concurrently', 'polished', 'qualms', 'safeway', 'appartement', 'costcos', 'quarterback', 'costumer', 'postive', '_literally_', 'repels', 'purposeless', 'posses', 'pursing', 'posible', 'copulate', 'pothead', 'copays', 'pounce', 'clacking', 'cjd', 'puritanical', 'potentials', 'purify', 'condiments', 'rump', 'repainted', 'pussycat', 'rwanda', 'cites', 'portugese', 'civ', 'condescension', 'cole', 'corolla', 'rule34', 'quelled', 'coparenting', 'coziness', 'colons', 'pitying', 'relaying', 'comrades', 'pitt', 'pitching', 'colorblind', 'pixie', 'relent', 'coy', 'plagiarised', 'plagiarized', 'chronological', 'pj', 'cowering', 'abbreviations', 'racy', 'pita', 'relatedly', 'choreography', 'rainfall', 'sayign', '50yo', 'crafty', 'scalding', 'colossal', 'railed', 'pissin', 'crackdown', 'radios', 'crackpot', 'piqued', 'compresses', 'savor', 'pipelines', 'concealment', 'plaintiff', 'chrysanthemums', 'saltwater', 'counters', 'queues', 'salvage', 'queuing', 'samaritan', 'conceiving', 'samaritans', 'quid', 'sammy', 'rem', 'remedied', 'ques', 'cinderblock', 'saleswoman', 'poarch', 'colonialist', 'ply', 'plumpness', '53f', 'cov', 'sank', 'sao', 'conceited', 'sapient', 'sars', 'sanitation', 'quietest', 'pleads', 'relocation', 'relish', 'quintessential', 'playin', 'conceivably', 'sandpit', 'coursework', 'reworded', 'privy', 'provision', 'revolver', 'cloaked', 'contextually', 'reword', 'provocatively', 'contemporaries', 'residing', 'appendage', 'revenues', 'reverb', 'congregation', 'provokes', 'psyched', 'reworked', 'pricks', 'pseudonym', 'rescuing', 'climber', 'rifts', 'prevelant', 'prevailing', 'prevail', 'rescheduling', 'pricy', 'ridic', 'riddles', 'ribbed', 'cliques', 'contours', 'prowess', 'prudes', 'contraband', 'ridding', 'clink', 'prussians', 'revengers', 'restructure', 'cloves', 'consensually', 'consolation', 'proportionality', 'prolife', 'prolapse', 'conserving', 'responder', 'prophecy', '600k', 'restaraunt', 'cna', 'restraints', 'conquest', 'prodded', 'proctologist', 'conned', 'reuniting', 'proverb', 'profited', 'proposition', 'cloudless', 'constantinople', 'constrained', 'professing', 'rounding', 'rockin', 'pullover', 'pulsation', 'configuration', 'robbie', 'robbins', 'pug', 'robs', 'cleanings', 'robust', '8oz', 'predecessors', 'predecessor', 'repository', '5m', 'confidant', 'ppg', 'clashed', 'punt', 'pows', 'confederacy', '8m', 'powertripping', 'conducive', 'roughhousing', 'cooperating', 'powerpuff', 'purgatory', 'cools', 'cohost', 'cohort', '5in', 'clashing', 'punctured', 'prada', 'repopulate', 'practitioner', 'rookie', 'cooing', 'predicts', 'prerequisite', 'confucianism', '60mg', 'preponderance', 'convex', 'psychotics', 'presets', 'rereleased', 'preteens', 'presumptuous', 'conveniences', 'psychical', 'congenital', 'reputed', 'confiscate', 'reprisal', 'riveting', 'predominant', 'rna', 'puddles', 'roasters', 'cliffs', 'ripe', 'rinses', 'conveyed', 'conveyor', 'preliminary', 'convicts', 'cogent', 'preformed', 'preferrably', 'pinched', 'pillowcase', 'seizing', 'pecking', 'rebranded', 'peasant', 'crochet', 'sega', 'reformation', 'peeped', 'rebounded', 'refresher', 'refraining', 'peerage', 'criticizes', 'critiqued', 'critiques', 'peehole', 'seldomly', 'reflexes', 'reboots', 'crowder', 'refilled', 'seminar', 'applicator', 'crouching', 'patriot', 'pats', 'checkmate', 'receptive', 'sence', 'checkmark', 'cheerleaders', 'selects', 'selfishly', 'paywalls', 'comically', 'pavlovian', 'sellable', 'seminal', 'refinanced', 'refs', 'patriarch', 'seamen', 'perineum', 'cricketer', 'regiment', 'seamless', 'seams', 'searchable', 'readjust', '4yo', 'childhoods', 'regretful', 'scrunch', 'readiness', 'seashore', 'penal', '4s', '73', '4m', 'penthouse', 'reappeared', 'cherries', 'seasonings', 'aquariums', 'perfecting', 'percocet', 'seclusion', 'cheque', 'realms', 'perceives', 'aquatinted', 'commonality', 'setback', 'parachutes', 'recruitinghell', 'sewed', 'reconsidering', 'commune', 'serpent', 'recomend', 'arbiter', 'redskins', 'ses', 'characterize', 'pandas', 'pampering', 'pamper', '456', 'commissary', 'cuckolding', 'cubans', 'rectangles', 'panned', 'panicky', 'cuboid', 'redirected', 'sexlesness', 'sexs', 'cubicles', 'crowdfunding', 'cruised', 'cruiser', 'cruisers', 'passivity', '48kg', 'chatty', 'passerby', 'chattering', 'cruelest', 'pathway', 'aquire', 'pasties', 'seo', '48f', 'absorbs', 'reeee', 'reed', '47m', 'parodying', 'parroting', 'reevaluate', 'referees', 'reclaiming', 'chases', 'sepia', 'absolved', 'absolving', '500kg', 'schwarzenegger', 'creatives', 'phds', 'reimbursed', 'schwartz', 'schroeder', 'reimburses', 'columbian', 'reined', 'schmuck', 'complicates', 'complication', 'reinforcement', 'petri', 'rehabilitative', 'rareinsults', 'chimp', 'scotch', 'peru', '7k', 'scoring', 'scorching', 'pervs', 'creeper', 'ratajkowski', 'rastafarianism', 'scorched', 'scoops', 'abnormality', 'petitions', 'rei', 'chirping', '501', 'phosphate', 'reinforcing', 'chloroform', 'reinstating', '80k', 'crapping', 'chomp', 'piety', 'scanners', 'ramsay', 'columbia', 'scammy', 'pilates', 'chopper', 'rambled', '50mg', 'pickiness', 'picket', 'physicals', 'reinstall', '50kg', 'scarves', 'chokehold', '7yo', 'rancid', 'randoms', 'physiology', 'physiotherapist', 'physiotherapists', 'picker', 'personable', 'reaaally', 'rattling', 'comatose', 'scrapers', 'regularity', 'complements', '500mg', 'rd', 'perplex', 'creepypasta']\n"
     ]
    }
   ],
   "source": [
    "print(same_word_count)"
   ]
  },
  {
   "cell_type": "code",
   "execution_count": 102,
   "id": "dd44a157-7053-4404-a392-02b3dd61cfd8",
   "metadata": {},
   "outputs": [
    {
     "data": {
      "text/plain": [
       "subreddit_nsq\n",
       "0    136\n",
       "1    136\n",
       "Name: stomach, dtype: int64"
      ]
     },
     "execution_count": 102,
     "metadata": {},
     "output_type": "execute_result"
    }
   ],
   "source": [
    "word_comparisons['stomach']"
   ]
  },
  {
   "cell_type": "markdown",
   "id": "ad6ceba0-97b8-4edc-a5d0-40feb348fb04",
   "metadata": {},
   "source": [
    "* All words that are equal counts have values of 136 and less; ineffective when used as stop words"
   ]
  },
  {
   "cell_type": "markdown",
   "id": "7c209cb7-586e-49df-99d7-0cd0f8539d1e",
   "metadata": {},
   "source": [
    "##### Insights\n",
    "* Limitation of MNB; hard to locate where errors are because the distributions are relatively equal\n",
    "* Same word counts are low volume, may not make a difference with the model\n",
    "\n",
    "##### Next Steps\n",
    "* Use a different model locate where errors can be minimized"
   ]
  },
  {
   "cell_type": "markdown",
   "id": "6a154d2d-667a-446b-9997-e638f35c476b",
   "metadata": {},
   "source": [
    "### Final Model EDA"
   ]
  },
  {
   "cell_type": "markdown",
   "id": "e33beec1-36a8-4bb8-9d65-ed28844c4ac4",
   "metadata": {
    "jp-MarkdownHeadingCollapsed": true,
    "tags": []
   },
   "source": [
    "##### Imports for EDA"
   ]
  },
  {
   "cell_type": "code",
   "execution_count": 15,
   "id": "f4fa18f7-bf5c-42b1-ad29-660c6a3d5cb5",
   "metadata": {},
   "outputs": [],
   "source": [
    "subreddits = pd.read_csv('C:/Users/mmoli/GA/projects/project_3/data/subreddits_cleaned.csv')"
   ]
  },
  {
   "cell_type": "code",
   "execution_count": 16,
   "id": "4c4e6232-a36f-4423-8cf6-1ab92783d863",
   "metadata": {},
   "outputs": [],
   "source": [
    "# pulled from preprocessing; used for eda pre and post conctractions\n",
    "import re\n",
    "\n",
    "def decontracted(phrase):\n",
    "    # specific\n",
    "    phrase = re.sub(r\"won\\'t\", \"will not\", phrase)\n",
    "    phrase = re.sub(r\"can\\'t\", \"can not\", phrase)\n",
    "    phrase = re.sub(r\"it\\'s\", \"its\", phrase)\n",
    "    phrase = re.sub(r\"What\\'s\", \"What is\", phrase)\n",
    "\n",
    "    # general\n",
    "    phrase = re.sub(r\"n\\'t\", \" not\", phrase)\n",
    "    phrase = re.sub(r\"\\'re\", \" are\", phrase)\n",
    "    # phrase = re.sub(r\"\\'s\", \" is\", phrase)\n",
    "    phrase = re.sub(r\"\\'d\", \" would\", phrase)\n",
    "    phrase = re.sub(r\"\\'ll\", \" will\", phrase)\n",
    "    phrase = re.sub(r\"\\'t\", \" not\", phrase)\n",
    "    phrase = re.sub(r\"\\'ve\", \" have\", phrase)\n",
    "    phrase = re.sub(r\"\\'m\", \" am\", phrase)\n",
    "    return phrase\n",
    "\n",
    "# https://stackoverflow.com/questions/19790188/expanding-english-language-contractions-in-python"
   ]
  },
  {
   "cell_type": "code",
   "execution_count": 17,
   "id": "777e715f-dc58-42a5-8504-0a604e68b7cf",
   "metadata": {},
   "outputs": [],
   "source": [
    "# expand contracted words\n",
    "for col in ['text']:\n",
    "    subreddits['text'] = [decontracted(each) for each in subreddits[col]]"
   ]
  },
  {
   "cell_type": "code",
   "execution_count": 18,
   "id": "db56f47a-6a3a-4050-8de5-284b9977926b",
   "metadata": {
    "tags": []
   },
   "outputs": [],
   "source": [
    "def mytokenizing_stem(column):\n",
    "    words = ''\n",
    "    for elements in column:\n",
    "        words += elements\n",
    "    tokenizer = RegexpTokenizer(r'\\w+')\n",
    "    words_tokens = tokenizer.tokenize(words)\n",
    "    p_stemmer = PorterStemmer()\n",
    "    words_tokens_stem = [p_stemmer.stem(token) for token in words_tokens]\n",
    "    return words_tokens_stem"
   ]
  },
  {
   "cell_type": "markdown",
   "id": "2b675ef5-19cc-449d-b8c2-3c7b64df5fa3",
   "metadata": {
    "jp-MarkdownHeadingCollapsed": true,
    "tags": []
   },
   "source": [
    "##### Final Model (logreg) imports"
   ]
  },
  {
   "cell_type": "code",
   "execution_count": 19,
   "id": "e76aaec0-2e08-4a36-99f6-c55c7b8e89ca",
   "metadata": {},
   "outputs": [],
   "source": [
    "with open ('C:/Users/mmoli/GA/projects/project_3/data/pickles/logreg.pkl', mode='rb') as pickle_in:\n",
    "    logreg = pickle.load(pickle_in)"
   ]
  },
  {
   "cell_type": "code",
   "execution_count": 20,
   "id": "14ef0813-7646-4053-837a-dcb7b3bd07df",
   "metadata": {},
   "outputs": [],
   "source": [
    "tata = subreddits[subreddits['subreddit_nsq']==0]\n",
    "nsq = subreddits[subreddits['subreddit_nsq']==1]"
   ]
  },
  {
   "cell_type": "markdown",
   "id": "c4b4d1cc-ce93-46e1-b032-0ff1850b2dc2",
   "metadata": {
    "jp-MarkdownHeadingCollapsed": true,
    "tags": []
   },
   "source": [
    "#### TATA EDA"
   ]
  },
  {
   "cell_type": "code",
   "execution_count": 21,
   "id": "890b2c42-dbff-434b-8eb5-0ec33b14d8bf",
   "metadata": {},
   "outputs": [],
   "source": [
    "# set up EDA for groups\n",
    "X = tata['text']\n",
    "y = tata['subreddit_nsq']"
   ]
  },
  {
   "cell_type": "code",
   "execution_count": 93,
   "id": "0786bfd8-6f2f-4d23-abb5-52d34ede25a7",
   "metadata": {},
   "outputs": [
    {
     "name": "stderr",
     "output_type": "stream",
     "text": [
      "C:\\Users\\mmoli\\anaconda3\\lib\\site-packages\\sklearn\\feature_extraction\\text.py:489: UserWarning: The parameter 'token_pattern' will not be used since 'tokenizer' is not None'\n",
      "  warnings.warn(\"The parameter 'token_pattern' will not be used\"\n"
     ]
    }
   ],
   "source": [
    "# vectorize title\n",
    "cv = CountVectorizer(min_df=2, tokenizer=mytokenizing_stem)\n",
    "cv.fit(X)\n",
    "X_cv = cv.transform(X)"
   ]
  },
  {
   "cell_type": "code",
   "execution_count": 94,
   "id": "e25fdf3a-d1e4-4cce-bb91-913e37c1cc31",
   "metadata": {},
   "outputs": [],
   "source": [
    "# dataframe of vectorized title\n",
    "tata_df = pd.DataFrame(X_cv.todense(),\n",
    "                      columns=cv.get_feature_names())"
   ]
  },
  {
   "cell_type": "code",
   "execution_count": 11,
   "id": "829432cb-04c9-47b0-ac7e-638b0e5b6349",
   "metadata": {},
   "outputs": [],
   "source": [
    "tata_eda = pd.DataFrame(X_cv_df.sum().sort_values(ascending=False))"
   ]
  },
  {
   "cell_type": "code",
   "execution_count": 22,
   "id": "de05aed0-c78b-4bb4-810a-5aeec8d7d5f6",
   "metadata": {},
   "outputs": [
    {
     "data": {
      "image/png": "[encoded data removed]",
      "text/plain": [
       "<Figure size 432x288 with 1 Axes>"
      ]
     },
     "metadata": {
      "needs_background": "light"
     },
     "output_type": "display_data"
    }
   ],
   "source": [
    "tata_eda.head(25).plot(kind='barh')\n",
    "\n",
    "plt.title('Top 25 Words TATA')\n",
    "plt.xlim(0, 330_000);"
   ]
  },
  {
   "cell_type": "code",
   "execution_count": 13,
   "id": "1d8a9e7c-80cb-418e-805f-0c4c9ddad970",
   "metadata": {},
   "outputs": [
    {
     "data": {
      "text/plain": [
       "(19897, 1)"
      ]
     },
     "execution_count": 13,
     "metadata": {},
     "output_type": "execute_result"
    }
   ],
   "source": [
    "tata_eda.shape"
   ]
  },
  {
   "cell_type": "markdown",
   "id": "a6b8074f-c74f-4d5f-9f54-b463236a328b",
   "metadata": {
    "jp-MarkdownHeadingCollapsed": true,
    "tags": []
   },
   "source": [
    "#### NSQ EDA"
   ]
  },
  {
   "cell_type": "code",
   "execution_count": 14,
   "id": "911bbfa2-0604-4e24-b1e9-56a76990808e",
   "metadata": {},
   "outputs": [],
   "source": [
    "# set up EDA for groups\n",
    "X = nsq['text']\n",
    "y = nsq['subreddit_nsq']"
   ]
  },
  {
   "cell_type": "code",
   "execution_count": 15,
   "id": "eb0c28c4-c3f2-4d1a-8ee5-39860463f76c",
   "metadata": {},
   "outputs": [],
   "source": [
    "# vectorize title\n",
    "cv = CountVectorizer(min_df=2, tokenizer=mytokenizing_stem)\n",
    "cv.fit(X)\n",
    "X_cv = cv.transform(X)"
   ]
  },
  {
   "cell_type": "code",
   "execution_count": 78,
   "id": "da845daa-7c83-4c28-82c0-fc29670616bf",
   "metadata": {},
   "outputs": [],
   "source": [
    "# dataframe of vectorized title\n",
    "nsq_df = pd.DataFrame(X_cv.todense(),\n",
    "                      columns=cv.get_feature_names())"
   ]
  },
  {
   "cell_type": "code",
   "execution_count": 81,
   "id": "08bef15e-bba8-4427-990e-e567e1407c88",
   "metadata": {},
   "outputs": [],
   "source": [
    "nsq_df_prep = nsq_df.sum()"
   ]
  },
  {
   "cell_type": "code",
   "execution_count": null,
   "id": "62ae3a45-0404-45ba-b757-942e7f37e0c2",
   "metadata": {},
   "outputs": [],
   "source": [
    "plt.scatter(nsq_df_prep.index, nsq_df_prep)\n",
    "plt.title('NSQ Word Spread')\n",
    "plt.xticks(ticks=nsq_df_prep.index, labels=' ')\n",
    "plt.xlabel('Words')"
   ]
  },
  {
   "cell_type": "markdown",
   "id": "7159f79d-c81d-4c4b-a56d-0ae10cdd79b5",
   "metadata": {
    "jp-MarkdownHeadingCollapsed": true,
    "tags": []
   },
   "source": [
    "#### Comparisions"
   ]
  },
  {
   "cell_type": "code",
   "execution_count": 98,
   "id": "f327b2d4-a30a-49db-92bf-1b023e0b190c",
   "metadata": {},
   "outputs": [
    {
     "name": "stdout",
     "output_type": "stream",
     "text": [
      "15367\n",
      "15367\n",
      "5153\n",
      "4530\n"
     ]
    }
   ],
   "source": [
    "# how many words shared\n",
    "shared_1 = 0\n",
    "shared_2 = 0\n",
    "nsq_only = 0 \n",
    "tata_only = 0\n",
    "for token in nsq_df.columns:\n",
    "    if token in tata_df.columns:\n",
    "        shared_1 += 1\n",
    "    else:\n",
    "        nsq_only +=1 \n",
    "for token in tata_df.columns:\n",
    "    if token in nsq_df.columns:\n",
    "        shared_2 += 1\n",
    "    else:\n",
    "        tata_only +=1\n",
    "        \n",
    "print(shared_1)\n",
    "print(shared_2)\n",
    "print(nsq_only)\n",
    "print(tata_only)"
   ]
  },
  {
   "cell_type": "code",
   "execution_count": 127,
   "id": "8b9516db-a316-4b04-aebc-86afe7b03a13",
   "metadata": {},
   "outputs": [],
   "source": [
    "total = shared_1+nsq_only+tata_only"
   ]
  },
  {
   "cell_type": "code",
   "execution_count": 159,
   "id": "bba5b762-cc51-4542-92da-ad5c83d80ff1",
   "metadata": {},
   "outputs": [],
   "source": [
    "# dataframe for shared words and non-shared words\n",
    "words = pd.DataFrame(columns=['Shared Words', 'NSQ only', 'TATA only', ' '])\n",
    "\n",
    "words['Shared Words'] = [15367, round((shared_1/total)*100)]\n",
    "words['NSQ only'] = [5153, round((nsq_only/total)*100)]\n",
    "words['TATA only'] = [4530, round((tata_only/total)*100)]\n",
    "words[' '] = ['Word Count', 'Percentage']\n",
    "words.set_index(keys=' ', inplace=True)"
   ]
  },
  {
   "cell_type": "code",
   "execution_count": 160,
   "id": "d5c7112b-87dd-40aa-b33e-0c5c92634a9f",
   "metadata": {},
   "outputs": [
    {
     "data": {
      "text/html": [
       "<div>\n",
       "<style scoped>\n",
       "    .dataframe tbody tr th:only-of-type {\n",
       "        vertical-align: middle;\n",
       "    }\n",
       "\n",
       "    .dataframe tbody tr th {\n",
       "        vertical-align: top;\n",
       "    }\n",
       "\n",
       "    .dataframe thead th {\n",
       "        text-align: right;\n",
       "    }\n",
       "</style>\n",
       "<table border=\"1\" class=\"dataframe\">\n",
       "  <thead>\n",
       "    <tr style=\"text-align: right;\">\n",
       "      <th></th>\n",
       "      <th>Shared Words</th>\n",
       "      <th>NSQ only</th>\n",
       "      <th>TATA only</th>\n",
       "    </tr>\n",
       "    <tr>\n",
       "      <th></th>\n",
       "      <th></th>\n",
       "      <th></th>\n",
       "      <th></th>\n",
       "    </tr>\n",
       "  </thead>\n",
       "  <tbody>\n",
       "    <tr>\n",
       "      <th>Word Count</th>\n",
       "      <td>15367</td>\n",
       "      <td>5153</td>\n",
       "      <td>4530</td>\n",
       "    </tr>\n",
       "    <tr>\n",
       "      <th>Percentage</th>\n",
       "      <td>61</td>\n",
       "      <td>21</td>\n",
       "      <td>18</td>\n",
       "    </tr>\n",
       "  </tbody>\n",
       "</table>\n",
       "</div>"
      ],
      "text/plain": [
       "            Shared Words  NSQ only  TATA only\n",
       "                                             \n",
       "Word Count         15367      5153       4530\n",
       "Percentage            61        21         18"
      ]
     },
     "execution_count": 160,
     "metadata": {},
     "output_type": "execute_result"
    }
   ],
   "source": [
    "words"
   ]
  },
  {
   "cell_type": "code",
   "execution_count": 163,
   "id": "86d9a337-0db5-4756-b48c-d264c2657e24",
   "metadata": {},
   "outputs": [],
   "source": [
    "# how many words shared\n",
    "shared_words = 0\n",
    "shared_2 = 0\n",
    "nsq_only_words = [] \n",
    "tata_only_words = []\n",
    "for token in nsq_df.columns:\n",
    "    if token not in tata_df.columns:\n",
    "        nsq_only_words.append(token)\n",
    "for token in tata_df.columns:\n",
    "    if token not in nsq_df.columns:\n",
    "        tata_only_words.append(token)"
   ]
  },
  {
   "cell_type": "code",
   "execution_count": 166,
   "id": "54a16086-f06c-44d4-8f64-4a8486c2b8a0",
   "metadata": {},
   "outputs": [],
   "source": [
    "nsq_only_word_count = nsq_df[nsq_only_words]"
   ]
  },
  {
   "cell_type": "code",
   "execution_count": 181,
   "id": "a9e028fe-9a94-45c5-9619-0da47932815e",
   "metadata": {},
   "outputs": [
    {
     "data": {
      "text/html": [
       "<div>\n",
       "<style scoped>\n",
       "    .dataframe tbody tr th:only-of-type {\n",
       "        vertical-align: middle;\n",
       "    }\n",
       "\n",
       "    .dataframe tbody tr th {\n",
       "        vertical-align: top;\n",
       "    }\n",
       "\n",
       "    .dataframe thead th {\n",
       "        text-align: right;\n",
       "    }\n",
       "</style>\n",
       "<table border=\"1\" class=\"dataframe\">\n",
       "  <thead>\n",
       "    <tr style=\"text-align: right;\">\n",
       "      <th></th>\n",
       "      <th>Count</th>\n",
       "    </tr>\n",
       "  </thead>\n",
       "  <tbody>\n",
       "    <tr>\n",
       "      <th>utm_medium</th>\n",
       "      <td>104</td>\n",
       "    </tr>\n",
       "    <tr>\n",
       "      <th>utm_sourc</th>\n",
       "      <td>86</td>\n",
       "    </tr>\n",
       "    <tr>\n",
       "      <th>ibb</th>\n",
       "      <td>68</td>\n",
       "    </tr>\n",
       "    <tr>\n",
       "      <th>ved</th>\n",
       "      <td>37</td>\n",
       "    </tr>\n",
       "    <tr>\n",
       "      <th>ios_app</th>\n",
       "      <td>36</td>\n",
       "    </tr>\n",
       "    <tr>\n",
       "      <th>iossmf</th>\n",
       "      <td>36</td>\n",
       "    </tr>\n",
       "    <tr>\n",
       "      <th>utm_nam</th>\n",
       "      <td>36</td>\n",
       "    </tr>\n",
       "    <tr>\n",
       "      <th>2c</th>\n",
       "      <td>35</td>\n",
       "    </tr>\n",
       "    <tr>\n",
       "      <th>android_app</th>\n",
       "      <td>34</td>\n",
       "    </tr>\n",
       "    <tr>\n",
       "      <th>wp</th>\n",
       "      <td>34</td>\n",
       "    </tr>\n",
       "  </tbody>\n",
       "</table>\n",
       "</div>"
      ],
      "text/plain": [
       "             Count\n",
       "utm_medium     104\n",
       "utm_sourc       86\n",
       "ibb             68\n",
       "ved             37\n",
       "ios_app         36\n",
       "iossmf          36\n",
       "utm_nam         36\n",
       "2c              35\n",
       "android_app     34\n",
       "wp              34"
      ]
     },
     "execution_count": 181,
     "metadata": {},
     "output_type": "execute_result"
    }
   ],
   "source": [
    "# top 10 nsq only words\n",
    "nsq_only_df = pd.DataFrame(nsq_only_word_count.sum().sort_values(ascending=False).head(10))\n",
    "nsq_only_df.rename(columns={0: 'Count'}, inplace=True)\n",
    "nsq_only_df"
   ]
  },
  {
   "cell_type": "code",
   "execution_count": 167,
   "id": "b5036be2-34a7-41c7-92c3-cf278a8761ce",
   "metadata": {},
   "outputs": [],
   "source": [
    "tata_only_word_count = tata_df[tata_only_words]"
   ]
  },
  {
   "cell_type": "code",
   "execution_count": 182,
   "id": "7ec594c1-5cd8-425f-b060-f4d0fc73e1e2",
   "metadata": {},
   "outputs": [
    {
     "data": {
      "text/html": [
       "<div>\n",
       "<style scoped>\n",
       "    .dataframe tbody tr th:only-of-type {\n",
       "        vertical-align: middle;\n",
       "    }\n",
       "\n",
       "    .dataframe tbody tr th {\n",
       "        vertical-align: top;\n",
       "    }\n",
       "\n",
       "    .dataframe thead th {\n",
       "        text-align: right;\n",
       "    }\n",
       "</style>\n",
       "<table border=\"1\" class=\"dataframe\">\n",
       "  <thead>\n",
       "    <tr style=\"text-align: right;\">\n",
       "      <th></th>\n",
       "      <th>Count</th>\n",
       "    </tr>\n",
       "  </thead>\n",
       "  <tbody>\n",
       "    <tr>\n",
       "      <th>pedophilia</th>\n",
       "      <td>185</td>\n",
       "    </tr>\n",
       "    <tr>\n",
       "      <th>pedo</th>\n",
       "      <td>146</td>\n",
       "    </tr>\n",
       "    <tr>\n",
       "      <th>ivermectin</th>\n",
       "      <td>73</td>\n",
       "    </tr>\n",
       "    <tr>\n",
       "      <th>loli</th>\n",
       "      <td>66</td>\n",
       "    </tr>\n",
       "    <tr>\n",
       "      <th>uncircumcis</th>\n",
       "      <td>61</td>\n",
       "    </tr>\n",
       "    <tr>\n",
       "      <th>petito</th>\n",
       "      <td>49</td>\n",
       "    </tr>\n",
       "    <tr>\n",
       "      <th>mrna</th>\n",
       "      <td>44</td>\n",
       "    </tr>\n",
       "    <tr>\n",
       "      <th>fauci</th>\n",
       "      <td>42</td>\n",
       "    </tr>\n",
       "    <tr>\n",
       "      <th>euthanasia</th>\n",
       "      <td>41</td>\n",
       "    </tr>\n",
       "    <tr>\n",
       "      <th>castrat</th>\n",
       "      <td>38</td>\n",
       "    </tr>\n",
       "  </tbody>\n",
       "</table>\n",
       "</div>"
      ],
      "text/plain": [
       "             Count\n",
       "pedophilia     185\n",
       "pedo           146\n",
       "ivermectin      73\n",
       "loli            66\n",
       "uncircumcis     61\n",
       "petito          49\n",
       "mrna            44\n",
       "fauci           42\n",
       "euthanasia      41\n",
       "castrat         38"
      ]
     },
     "execution_count": 182,
     "metadata": {},
     "output_type": "execute_result"
    }
   ],
   "source": [
    "# top 10 tata only words\n",
    "tata_only_df = pd.DataFrame(tata_only_word_count.sum().sort_values(ascending=False).head(10))\n",
    "tata_only_df.rename(columns={0: 'Count'}, inplace=True)\n",
    "tata_only_df"
   ]
  },
  {
   "cell_type": "code",
   "execution_count": null,
   "id": "51d097fa-8353-45f5-8c7d-f5f08dd1cdf3",
   "metadata": {},
   "outputs": [],
   "source": [
    "plt.scatter(wtf['index'], wtf['0_y'])\n",
    "\n",
    "plt.scatter(wtf['index'], wtf['0_x'])"
   ]
  },
  {
   "cell_type": "code",
   "execution_count": 54,
   "id": "390d1b32-160f-4da0-9faf-7c0cca26dc6d",
   "metadata": {},
   "outputs": [],
   "source": [
    "test_2.reset_index(inplace=True)"
   ]
  },
  {
   "cell_type": "code",
   "execution_count": 56,
   "id": "6a9bf32b-5b90-4b42-a9fc-17e24193e1c4",
   "metadata": {},
   "outputs": [],
   "source": [
    "sample_2 = test_2[test_2[0]>10000]"
   ]
  },
  {
   "cell_type": "code",
   "execution_count": 50,
   "id": "647f91a8-fe8e-403f-a22d-a502bdaf795a",
   "metadata": {},
   "outputs": [],
   "source": [
    "sample = test[test[0]>10000]"
   ]
  },
  {
   "cell_type": "code",
   "execution_count": 42,
   "id": "ab88ff91-ad05-453f-80bc-61f27c995093",
   "metadata": {},
   "outputs": [],
   "source": [
    "test.reset_index(inplace=True)"
   ]
  },
  {
   "cell_type": "code",
   "execution_count": 52,
   "id": "87882088-ea4b-485e-810b-09a4006722f2",
   "metadata": {},
   "outputs": [
    {
     "data": {
      "text/plain": [
       "<matplotlib.collections.PathCollection at 0x219c14d5be0>"
      ]
     },
     "execution_count": 52,
     "metadata": {},
     "output_type": "execute_result"
    },
    {
     "data": {
      "image/png": "[encoded data removed]",
      "text/plain": [
       "<Figure size 432x288 with 1 Axes>"
      ]
     },
     "metadata": {
      "needs_background": "light"
     },
     "output_type": "display_data"
    }
   ],
   "source": [
    "plt.scatter(sample['index'], sample[0])"
   ]
  },
  {
   "cell_type": "code",
   "execution_count": 58,
   "id": "4f77e3d1-85c2-4f16-ace6-0480573c8bc0",
   "metadata": {},
   "outputs": [
    {
     "data": {
      "text/plain": [
       "<matplotlib.collections.PathCollection at 0x219c30aa730>"
      ]
     },
     "execution_count": 58,
     "metadata": {},
     "output_type": "execute_result"
    },
    {
     "data": {
      "image/png": "[encoded data removed]",
      "text/plain": [
       "<Figure size 432x288 with 1 Axes>"
      ]
     },
     "metadata": {
      "needs_background": "light"
     },
     "output_type": "display_data"
    }
   ],
   "source": [
    "plt.scatter(sample_2['index'], sample_2[0])"
   ]
  },
  {
   "cell_type": "code",
   "execution_count": 59,
   "id": "b13d34ac-4a63-41aa-8124-f53f065aac3a",
   "metadata": {},
   "outputs": [
    {
     "data": {
      "text/html": [
       "<div>\n",
       "<style scoped>\n",
       "    .dataframe tbody tr th:only-of-type {\n",
       "        vertical-align: middle;\n",
       "    }\n",
       "\n",
       "    .dataframe tbody tr th {\n",
       "        vertical-align: top;\n",
       "    }\n",
       "\n",
       "    .dataframe thead th {\n",
       "        text-align: right;\n",
       "    }\n",
       "</style>\n",
       "<table border=\"1\" class=\"dataframe\">\n",
       "  <thead>\n",
       "    <tr style=\"text-align: right;\">\n",
       "      <th></th>\n",
       "      <th>index</th>\n",
       "      <th>0</th>\n",
       "    </tr>\n",
       "  </thead>\n",
       "  <tbody>\n",
       "    <tr>\n",
       "      <th>0</th>\n",
       "      <td>i</td>\n",
       "      <td>318986</td>\n",
       "    </tr>\n",
       "    <tr>\n",
       "      <th>1</th>\n",
       "      <td>to</td>\n",
       "      <td>184891</td>\n",
       "    </tr>\n",
       "    <tr>\n",
       "      <th>2</th>\n",
       "      <td>and</td>\n",
       "      <td>165060</td>\n",
       "    </tr>\n",
       "    <tr>\n",
       "      <th>3</th>\n",
       "      <td>the</td>\n",
       "      <td>162647</td>\n",
       "    </tr>\n",
       "    <tr>\n",
       "      <th>4</th>\n",
       "      <td>a</td>\n",
       "      <td>150245</td>\n",
       "    </tr>\n",
       "    <tr>\n",
       "      <th>...</th>\n",
       "      <td>...</td>\n",
       "      <td>...</td>\n",
       "    </tr>\n",
       "    <tr>\n",
       "      <th>19892</th>\n",
       "      <td>dingl</td>\n",
       "      <td>2</td>\n",
       "    </tr>\n",
       "    <tr>\n",
       "      <th>19893</th>\n",
       "      <td>saturn</td>\n",
       "      <td>2</td>\n",
       "    </tr>\n",
       "    <tr>\n",
       "      <th>19894</th>\n",
       "      <td>satisfactorili</td>\n",
       "      <td>2</td>\n",
       "    </tr>\n",
       "    <tr>\n",
       "      <th>19895</th>\n",
       "      <td>directionless</td>\n",
       "      <td>2</td>\n",
       "    </tr>\n",
       "    <tr>\n",
       "      <th>19896</th>\n",
       "      <td>乁</td>\n",
       "      <td>2</td>\n",
       "    </tr>\n",
       "  </tbody>\n",
       "</table>\n",
       "<p>19897 rows × 2 columns</p>\n",
       "</div>"
      ],
      "text/plain": [
       "                index       0\n",
       "0                   i  318986\n",
       "1                  to  184891\n",
       "2                 and  165060\n",
       "3                 the  162647\n",
       "4                   a  150245\n",
       "...               ...     ...\n",
       "19892           dingl       2\n",
       "19893          saturn       2\n",
       "19894  satisfactorili       2\n",
       "19895   directionless       2\n",
       "19896               乁       2\n",
       "\n",
       "[19897 rows x 2 columns]"
      ]
     },
     "execution_count": 59,
     "metadata": {},
     "output_type": "execute_result"
    }
   ],
   "source": [
    "tata_eda"
   ]
  },
  {
   "cell_type": "code",
   "execution_count": 63,
   "id": "aa26f634-7fc4-49db-9765-fc98a92260d1",
   "metadata": {},
   "outputs": [],
   "source": [
    "omg =pd.merge(tata_eda, nsq_eda, on='index')"
   ]
  },
  {
   "cell_type": "code",
   "execution_count": 64,
   "id": "fcac5fc5-5446-47ad-93f0-fbfefa77103a",
   "metadata": {},
   "outputs": [
    {
     "data": {
      "text/html": [
       "<div>\n",
       "<style scoped>\n",
       "    .dataframe tbody tr th:only-of-type {\n",
       "        vertical-align: middle;\n",
       "    }\n",
       "\n",
       "    .dataframe tbody tr th {\n",
       "        vertical-align: top;\n",
       "    }\n",
       "\n",
       "    .dataframe thead th {\n",
       "        text-align: right;\n",
       "    }\n",
       "</style>\n",
       "<table border=\"1\" class=\"dataframe\">\n",
       "  <thead>\n",
       "    <tr style=\"text-align: right;\">\n",
       "      <th></th>\n",
       "      <th>index</th>\n",
       "      <th>0_x</th>\n",
       "      <th>0_y</th>\n",
       "    </tr>\n",
       "  </thead>\n",
       "  <tbody>\n",
       "    <tr>\n",
       "      <th>0</th>\n",
       "      <td>i</td>\n",
       "      <td>318986</td>\n",
       "      <td>202991</td>\n",
       "    </tr>\n",
       "    <tr>\n",
       "      <th>1</th>\n",
       "      <td>to</td>\n",
       "      <td>184891</td>\n",
       "      <td>131571</td>\n",
       "    </tr>\n",
       "    <tr>\n",
       "      <th>2</th>\n",
       "      <td>and</td>\n",
       "      <td>165060</td>\n",
       "      <td>111785</td>\n",
       "    </tr>\n",
       "    <tr>\n",
       "      <th>3</th>\n",
       "      <td>the</td>\n",
       "      <td>162647</td>\n",
       "      <td>139971</td>\n",
       "    </tr>\n",
       "    <tr>\n",
       "      <th>4</th>\n",
       "      <td>a</td>\n",
       "      <td>150245</td>\n",
       "      <td>120833</td>\n",
       "    </tr>\n",
       "    <tr>\n",
       "      <th>...</th>\n",
       "      <td>...</td>\n",
       "      <td>...</td>\n",
       "      <td>...</td>\n",
       "    </tr>\n",
       "    <tr>\n",
       "      <th>15362</th>\n",
       "      <td>didint</td>\n",
       "      <td>2</td>\n",
       "      <td>4</td>\n",
       "    </tr>\n",
       "    <tr>\n",
       "      <th>15363</th>\n",
       "      <td>directori</td>\n",
       "      <td>2</td>\n",
       "      <td>9</td>\n",
       "    </tr>\n",
       "    <tr>\n",
       "      <th>15364</th>\n",
       "      <td>dingl</td>\n",
       "      <td>2</td>\n",
       "      <td>5</td>\n",
       "    </tr>\n",
       "    <tr>\n",
       "      <th>15365</th>\n",
       "      <td>saturn</td>\n",
       "      <td>2</td>\n",
       "      <td>15</td>\n",
       "    </tr>\n",
       "    <tr>\n",
       "      <th>15366</th>\n",
       "      <td>directionless</td>\n",
       "      <td>2</td>\n",
       "      <td>3</td>\n",
       "    </tr>\n",
       "  </tbody>\n",
       "</table>\n",
       "<p>15367 rows × 3 columns</p>\n",
       "</div>"
      ],
      "text/plain": [
       "               index     0_x     0_y\n",
       "0                  i  318986  202991\n",
       "1                 to  184891  131571\n",
       "2                and  165060  111785\n",
       "3                the  162647  139971\n",
       "4                  a  150245  120833\n",
       "...              ...     ...     ...\n",
       "15362         didint       2       4\n",
       "15363      directori       2       9\n",
       "15364          dingl       2       5\n",
       "15365         saturn       2      15\n",
       "15366  directionless       2       3\n",
       "\n",
       "[15367 rows x 3 columns]"
      ]
     },
     "execution_count": 64,
     "metadata": {},
     "output_type": "execute_result"
    }
   ],
   "source": [
    "omg"
   ]
  },
  {
   "cell_type": "code",
   "execution_count": 66,
   "id": "ecb5dd5d-d103-4739-b6ed-c98c06b041fc",
   "metadata": {},
   "outputs": [],
   "source": [
    "wtf = omg[omg['0_y']<10000]"
   ]
  },
  {
   "cell_type": "code",
   "execution_count": 68,
   "id": "1a60026d-2990-4867-bc3b-750c740a10fd",
   "metadata": {},
   "outputs": [
    {
     "data": {
      "text/plain": [
       "<matplotlib.collections.PathCollection at 0x219df4b8ee0>"
      ]
     },
     "execution_count": 68,
     "metadata": {},
     "output_type": "execute_result"
    },
    {
     "name": "stderr",
     "output_type": "stream",
     "text": [
      "C:\\Users\\mmoli\\anaconda3\\lib\\site-packages\\matplotlib\\backends\\backend_agg.py:240: RuntimeWarning: Glyph 12484 missing from current font.\n",
      "  font.set_text(s, 0.0, flags=flags)\n",
      "C:\\Users\\mmoli\\anaconda3\\lib\\site-packages\\matplotlib\\backends\\backend_agg.py:203: RuntimeWarning: Glyph 12484 missing from current font.\n",
      "  font.set_text(s, 0, flags=flags)\n"
     ]
    },
    {
     "data": {
      "image/png": "[encoded data removed]",
      "text/plain": [
       "<Figure size 432x288 with 1 Axes>"
      ]
     },
     "metadata": {
      "needs_background": "light"
     },
     "output_type": "display_data"
    }
   ],
   "source": []
  },
  {
   "cell_type": "code",
   "execution_count": 70,
   "id": "ac5e0b80-9d58-4550-bc1a-7721fe6d4835",
   "metadata": {},
   "outputs": [],
   "source": [
    "fml = omg[omg['0_y']>=10000]"
   ]
  },
  {
   "cell_type": "code",
   "execution_count": 72,
   "id": "44224885-08bf-473a-9400-3a4c4e4c1cdd",
   "metadata": {},
   "outputs": [
    {
     "data": {
      "text/plain": [
       "<matplotlib.collections.PathCollection at 0x219ffcf2940>"
      ]
     },
     "execution_count": 72,
     "metadata": {},
     "output_type": "execute_result"
    },
    {
     "data": {
      "image/png": "[encoded data removed]",
      "text/plain": [
       "<Figure size 432x288 with 1 Axes>"
      ]
     },
     "metadata": {
      "needs_background": "light"
     },
     "output_type": "display_data"
    }
   ],
   "source": [
    "plt.scatter(fml['index'], fml['0_y'])\n",
    "plt.scatter(fml['index'], fml['0_x'])"
   ]
  },
  {
   "cell_type": "code",
   "execution_count": 31,
   "id": "2a6f3b06-230c-4abc-9756-0bf10d6063b2",
   "metadata": {},
   "outputs": [
    {
     "data": {
      "text/html": [
       "<div>\n",
       "<style scoped>\n",
       "    .dataframe tbody tr th:only-of-type {\n",
       "        vertical-align: middle;\n",
       "    }\n",
       "\n",
       "    .dataframe tbody tr th {\n",
       "        vertical-align: top;\n",
       "    }\n",
       "\n",
       "    .dataframe thead th {\n",
       "        text-align: right;\n",
       "    }\n",
       "</style>\n",
       "<table border=\"1\" class=\"dataframe\">\n",
       "  <thead>\n",
       "    <tr style=\"text-align: right;\">\n",
       "      <th></th>\n",
       "      <th>0</th>\n",
       "    </tr>\n",
       "  </thead>\n",
       "  <tbody>\n",
       "    <tr>\n",
       "      <th>i</th>\n",
       "      <td>318986</td>\n",
       "    </tr>\n",
       "    <tr>\n",
       "      <th>to</th>\n",
       "      <td>184891</td>\n",
       "    </tr>\n",
       "    <tr>\n",
       "      <th>and</th>\n",
       "      <td>165060</td>\n",
       "    </tr>\n",
       "    <tr>\n",
       "      <th>the</th>\n",
       "      <td>162647</td>\n",
       "    </tr>\n",
       "    <tr>\n",
       "      <th>a</th>\n",
       "      <td>150245</td>\n",
       "    </tr>\n",
       "    <tr>\n",
       "      <th>it</th>\n",
       "      <td>123878</td>\n",
       "    </tr>\n",
       "    <tr>\n",
       "      <th>of</th>\n",
       "      <td>94558</td>\n",
       "    </tr>\n",
       "    <tr>\n",
       "      <th>is</th>\n",
       "      <td>92049</td>\n",
       "    </tr>\n",
       "    <tr>\n",
       "      <th>not</th>\n",
       "      <td>84802</td>\n",
       "    </tr>\n",
       "    <tr>\n",
       "      <th>that</th>\n",
       "      <td>84163</td>\n",
       "    </tr>\n",
       "  </tbody>\n",
       "</table>\n",
       "</div>"
      ],
      "text/plain": [
       "           0\n",
       "i     318986\n",
       "to    184891\n",
       "and   165060\n",
       "the   162647\n",
       "a     150245\n",
       "it    123878\n",
       "of     94558\n",
       "is     92049\n",
       "not    84802\n",
       "that   84163"
      ]
     },
     "execution_count": 31,
     "metadata": {},
     "output_type": "execute_result"
    }
   ],
   "source": [
    "tata_eda.head(10)"
   ]
  },
  {
   "cell_type": "code",
   "execution_count": 27,
   "id": "9c2ebe4b-27a1-47ac-9d45-093ebcabbe53",
   "metadata": {},
   "outputs": [
    {
     "data": {
      "image/png": "[encoded data removed]",
      "text/plain": [
       "<Figure size 432x288 with 1 Axes>"
      ]
     },
     "metadata": {
      "needs_background": "light"
     },
     "output_type": "display_data"
    },
    {
     "data": {
      "image/png": "[encoded data removed]",
      "text/plain": [
       "<Figure size 432x288 with 1 Axes>"
      ]
     },
     "metadata": {
      "needs_background": "light"
     },
     "output_type": "display_data"
    }
   ],
   "source": [
    "nsq_eda.head(10).plot(kind='barh')\n",
    "plt.title('Top 25 words TATA')\n",
    "plt.xlim(0, 330_000);\n",
    "\n",
    "tata_eda.head(10).plot(kind='barh')\n",
    "\n",
    "plt.title('Top 25 words NSQ')\n",
    "plt.xlim(0, 330_000);"
   ]
  },
  {
   "cell_type": "markdown",
   "id": "193fe4ab-7721-4ab1-928e-b5dbcf0ae377",
   "metadata": {
    "jp-MarkdownHeadingCollapsed": true,
    "tags": []
   },
   "source": [
    "### Future EDA using non NLP methods"
   ]
  },
  {
   "cell_type": "code",
   "execution_count": 415,
   "id": "65e99870-a06d-4b2a-8e1d-1c30998f5687",
   "metadata": {
    "tags": []
   },
   "outputs": [
    {
     "data": {
      "text/html": [
       "<div>\n",
       "<style scoped>\n",
       "    .dataframe tbody tr th:only-of-type {\n",
       "        vertical-align: middle;\n",
       "    }\n",
       "\n",
       "    .dataframe tbody tr th {\n",
       "        vertical-align: top;\n",
       "    }\n",
       "\n",
       "    .dataframe thead th {\n",
       "        text-align: right;\n",
       "    }\n",
       "</style>\n",
       "<table border=\"1\" class=\"dataframe\">\n",
       "  <thead>\n",
       "    <tr style=\"text-align: right;\">\n",
       "      <th></th>\n",
       "      <th></th>\n",
       "      <th>title_word_count</th>\n",
       "      <th>title_length</th>\n",
       "      <th>selftext_present</th>\n",
       "    </tr>\n",
       "    <tr>\n",
       "      <th>subreddit</th>\n",
       "      <th></th>\n",
       "      <th></th>\n",
       "      <th></th>\n",
       "      <th></th>\n",
       "    </tr>\n",
       "  </thead>\n",
       "  <tbody>\n",
       "    <tr>\n",
       "      <th rowspan=\"3\" valign=\"top\">NoStupidQuestions</th>\n",
       "      <th>title_word_count</th>\n",
       "      <td>1.000000</td>\n",
       "      <td>0.975417</td>\n",
       "      <td>-0.236334</td>\n",
       "    </tr>\n",
       "    <tr>\n",
       "      <th>title_length</th>\n",
       "      <td>0.975417</td>\n",
       "      <td>1.000000</td>\n",
       "      <td>-0.234403</td>\n",
       "    </tr>\n",
       "    <tr>\n",
       "      <th>selftext_present</th>\n",
       "      <td>-0.236334</td>\n",
       "      <td>-0.234403</td>\n",
       "      <td>1.000000</td>\n",
       "    </tr>\n",
       "    <tr>\n",
       "      <th rowspan=\"3\" valign=\"top\">TooAfraidToAsk</th>\n",
       "      <th>title_word_count</th>\n",
       "      <td>1.000000</td>\n",
       "      <td>0.974368</td>\n",
       "      <td>-0.206268</td>\n",
       "    </tr>\n",
       "    <tr>\n",
       "      <th>title_length</th>\n",
       "      <td>0.974368</td>\n",
       "      <td>1.000000</td>\n",
       "      <td>-0.203985</td>\n",
       "    </tr>\n",
       "    <tr>\n",
       "      <th>selftext_present</th>\n",
       "      <td>-0.206268</td>\n",
       "      <td>-0.203985</td>\n",
       "      <td>1.000000</td>\n",
       "    </tr>\n",
       "  </tbody>\n",
       "</table>\n",
       "</div>"
      ],
      "text/plain": [
       "                                    title_word_count  title_length  \\\n",
       "subreddit                                                            \n",
       "NoStupidQuestions title_word_count          1.000000      0.975417   \n",
       "                  title_length              0.975417      1.000000   \n",
       "                  selftext_present         -0.236334     -0.234403   \n",
       "TooAfraidToAsk    title_word_count          1.000000      0.974368   \n",
       "                  title_length              0.974368      1.000000   \n",
       "                  selftext_present         -0.206268     -0.203985   \n",
       "\n",
       "                                    selftext_present  \n",
       "subreddit                                             \n",
       "NoStupidQuestions title_word_count         -0.236334  \n",
       "                  title_length             -0.234403  \n",
       "                  selftext_present          1.000000  \n",
       "TooAfraidToAsk    title_word_count         -0.206268  \n",
       "                  title_length             -0.203985  \n",
       "                  selftext_present          1.000000  "
      ]
     },
     "execution_count": 415,
     "metadata": {},
     "output_type": "execute_result"
    }
   ],
   "source": [
    "# title word count\n",
    "subs['title_word_count'] = subs['title'].map(str.split).map(len)\n",
    "\n",
    "# title length\n",
    "subs['title_length'] = subs['title'].map(len)\n",
    "\n",
    "# if self text present column\n",
    "subs['selftext_present'] = np.where(subs['selftext']=='', 0, 1)\n",
    "\n",
    "subs.groupby(by='subreddit').corr()[['title_word_count', 'title_length', 'selftext_present']]"
   ]
  },
  {
   "cell_type": "code",
   "execution_count": 285,
   "id": "d951a6a2-e291-4bd1-a8fd-de588a24b9e0",
   "metadata": {},
   "outputs": [],
   "source": [
    "X_train, X_test, y_train, y_test = train_test_split(X,\n",
    "                                                    y,\n",
    "                                                    test_size=0.33,\n",
    "                                                    stratify=y,\n",
    "                                                    random_state=42)"
   ]
  },
  {
   "cell_type": "code",
   "execution_count": 286,
   "id": "fe527c5e-f408-43d7-920a-18edffbba90f",
   "metadata": {},
   "outputs": [],
   "source": [
    "cv = CountVectorizer(min_df=2, stop_words='english')\n",
    "cv.fit(X_train)\n",
    "X_train = cv.transform(X_train)\n",
    "X_test = cv.transform(X_test)"
   ]
  },
  {
   "cell_type": "code",
   "execution_count": 287,
   "id": "e0749537-36db-474f-aaed-3c8c6accb9cd",
   "metadata": {},
   "outputs": [],
   "source": [
    "rfc = RandomForestClassifier()"
   ]
  },
  {
   "cell_type": "code",
   "execution_count": 290,
   "id": "3f1909ba-d45a-469c-8287-2c3c25e82de2",
   "metadata": {},
   "outputs": [
    {
     "name": "stdout",
     "output_type": "stream",
     "text": [
      "[0.63994944 0.6386855  0.64442314 0.64494617 0.63923637]\n",
      "0.641448122434405\n"
     ]
    }
   ],
   "source": [
    "# do not re-run, this took forever!!!!!!\n",
    "rfc_scores = cross_val_score(rfc, X_train, y_train)\n",
    "print(rfc_scores)\n",
    "print(rfc_scores.mean())"
   ]
  },
  {
   "cell_type": "code",
   "execution_count": 280,
   "id": "dcf9054d-2950-44bb-9425-29cbc4dea25a",
   "metadata": {},
   "outputs": [
    {
     "data": {
      "image/png": "[encoded data removed]",
      "text/plain": [
       "<Figure size 432x288 with 1 Axes>"
      ]
     },
     "metadata": {
      "needs_background": "light"
     },
     "output_type": "display_data"
    }
   ],
   "source": [
    "X_train_df.sum().sort_values(ascending=False).head(15).sort_values().plot(kind='barh');"
   ]
  },
  {
   "cell_type": "code",
   "execution_count": 270,
   "id": "519cd840-f7cb-4b2c-891d-fb96c3f127ee",
   "metadata": {},
   "outputs": [],
   "source": [
    "pipe = Pipeline([\n",
    "    ('cv', CountVectorizer(stop_words='english')),\n",
    "    ('mnb', MultinomialNB())\n",
    "])\n"
   ]
  },
  {
   "cell_type": "code",
   "execution_count": 272,
   "id": "349bec05-c990-46f7-8991-4f893810b9d8",
   "metadata": {},
   "outputs": [
    {
     "ename": "AttributeError",
     "evalue": "lower not found",
     "output_type": "error",
     "traceback": [
      "\u001b[1;31m---------------------------------------------------------------------------\u001b[0m",
      "\u001b[1;31mAttributeError\u001b[0m                            Traceback (most recent call last)",
      "\u001b[1;32m~\\AppData\\Local\\Temp/ipykernel_4764/914416102.py\u001b[0m in \u001b[0;36m<module>\u001b[1;34m\u001b[0m\n\u001b[1;32m----> 1\u001b[1;33m \u001b[0mpipe\u001b[0m\u001b[1;33m.\u001b[0m\u001b[0mfit\u001b[0m\u001b[1;33m(\u001b[0m\u001b[0mX_train\u001b[0m\u001b[1;33m,\u001b[0m \u001b[0my_train\u001b[0m\u001b[1;33m)\u001b[0m\u001b[1;33m\u001b[0m\u001b[1;33m\u001b[0m\u001b[0m\n\u001b[0m\u001b[0;32m      2\u001b[0m \u001b[0mpipe\u001b[0m\u001b[1;33m.\u001b[0m\u001b[0mscore\u001b[0m\u001b[1;33m(\u001b[0m\u001b[0mX_train\u001b[0m\u001b[1;33m,\u001b[0m \u001b[0my_train\u001b[0m\u001b[1;33m)\u001b[0m\u001b[1;33m,\u001b[0m \u001b[0mpipe\u001b[0m\u001b[1;33m.\u001b[0m\u001b[0mscore\u001b[0m\u001b[1;33m(\u001b[0m\u001b[0mX_test\u001b[0m\u001b[1;33m,\u001b[0m \u001b[0my_test\u001b[0m\u001b[1;33m)\u001b[0m\u001b[1;33m\u001b[0m\u001b[1;33m\u001b[0m\u001b[0m\n",
      "\u001b[1;32m~\\anaconda3\\lib\\site-packages\\sklearn\\pipeline.py\u001b[0m in \u001b[0;36mfit\u001b[1;34m(self, X, y, **fit_params)\u001b[0m\n\u001b[0;32m    339\u001b[0m         \"\"\"\n\u001b[0;32m    340\u001b[0m         \u001b[0mfit_params_steps\u001b[0m \u001b[1;33m=\u001b[0m \u001b[0mself\u001b[0m\u001b[1;33m.\u001b[0m\u001b[0m_check_fit_params\u001b[0m\u001b[1;33m(\u001b[0m\u001b[1;33m**\u001b[0m\u001b[0mfit_params\u001b[0m\u001b[1;33m)\u001b[0m\u001b[1;33m\u001b[0m\u001b[1;33m\u001b[0m\u001b[0m\n\u001b[1;32m--> 341\u001b[1;33m         \u001b[0mXt\u001b[0m \u001b[1;33m=\u001b[0m \u001b[0mself\u001b[0m\u001b[1;33m.\u001b[0m\u001b[0m_fit\u001b[0m\u001b[1;33m(\u001b[0m\u001b[0mX\u001b[0m\u001b[1;33m,\u001b[0m \u001b[0my\u001b[0m\u001b[1;33m,\u001b[0m \u001b[1;33m**\u001b[0m\u001b[0mfit_params_steps\u001b[0m\u001b[1;33m)\u001b[0m\u001b[1;33m\u001b[0m\u001b[1;33m\u001b[0m\u001b[0m\n\u001b[0m\u001b[0;32m    342\u001b[0m         with _print_elapsed_time('Pipeline',\n\u001b[0;32m    343\u001b[0m                                  self._log_message(len(self.steps) - 1)):\n",
      "\u001b[1;32m~\\anaconda3\\lib\\site-packages\\sklearn\\pipeline.py\u001b[0m in \u001b[0;36m_fit\u001b[1;34m(self, X, y, **fit_params_steps)\u001b[0m\n\u001b[0;32m    301\u001b[0m                 \u001b[0mcloned_transformer\u001b[0m \u001b[1;33m=\u001b[0m \u001b[0mclone\u001b[0m\u001b[1;33m(\u001b[0m\u001b[0mtransformer\u001b[0m\u001b[1;33m)\u001b[0m\u001b[1;33m\u001b[0m\u001b[1;33m\u001b[0m\u001b[0m\n\u001b[0;32m    302\u001b[0m             \u001b[1;31m# Fit or load from cache the current transformer\u001b[0m\u001b[1;33m\u001b[0m\u001b[1;33m\u001b[0m\u001b[0m\n\u001b[1;32m--> 303\u001b[1;33m             X, fitted_transformer = fit_transform_one_cached(\n\u001b[0m\u001b[0;32m    304\u001b[0m                 \u001b[0mcloned_transformer\u001b[0m\u001b[1;33m,\u001b[0m \u001b[0mX\u001b[0m\u001b[1;33m,\u001b[0m \u001b[0my\u001b[0m\u001b[1;33m,\u001b[0m \u001b[1;32mNone\u001b[0m\u001b[1;33m,\u001b[0m\u001b[1;33m\u001b[0m\u001b[1;33m\u001b[0m\u001b[0m\n\u001b[0;32m    305\u001b[0m                 \u001b[0mmessage_clsname\u001b[0m\u001b[1;33m=\u001b[0m\u001b[1;34m'Pipeline'\u001b[0m\u001b[1;33m,\u001b[0m\u001b[1;33m\u001b[0m\u001b[1;33m\u001b[0m\u001b[0m\n",
      "\u001b[1;32m~\\anaconda3\\lib\\site-packages\\joblib\\memory.py\u001b[0m in \u001b[0;36m__call__\u001b[1;34m(self, *args, **kwargs)\u001b[0m\n\u001b[0;32m    347\u001b[0m \u001b[1;33m\u001b[0m\u001b[0m\n\u001b[0;32m    348\u001b[0m     \u001b[1;32mdef\u001b[0m \u001b[0m__call__\u001b[0m\u001b[1;33m(\u001b[0m\u001b[0mself\u001b[0m\u001b[1;33m,\u001b[0m \u001b[1;33m*\u001b[0m\u001b[0margs\u001b[0m\u001b[1;33m,\u001b[0m \u001b[1;33m**\u001b[0m\u001b[0mkwargs\u001b[0m\u001b[1;33m)\u001b[0m\u001b[1;33m:\u001b[0m\u001b[1;33m\u001b[0m\u001b[1;33m\u001b[0m\u001b[0m\n\u001b[1;32m--> 349\u001b[1;33m         \u001b[1;32mreturn\u001b[0m \u001b[0mself\u001b[0m\u001b[1;33m.\u001b[0m\u001b[0mfunc\u001b[0m\u001b[1;33m(\u001b[0m\u001b[1;33m*\u001b[0m\u001b[0margs\u001b[0m\u001b[1;33m,\u001b[0m \u001b[1;33m**\u001b[0m\u001b[0mkwargs\u001b[0m\u001b[1;33m)\u001b[0m\u001b[1;33m\u001b[0m\u001b[1;33m\u001b[0m\u001b[0m\n\u001b[0m\u001b[0;32m    350\u001b[0m \u001b[1;33m\u001b[0m\u001b[0m\n\u001b[0;32m    351\u001b[0m     \u001b[1;32mdef\u001b[0m \u001b[0mcall_and_shelve\u001b[0m\u001b[1;33m(\u001b[0m\u001b[0mself\u001b[0m\u001b[1;33m,\u001b[0m \u001b[1;33m*\u001b[0m\u001b[0margs\u001b[0m\u001b[1;33m,\u001b[0m \u001b[1;33m**\u001b[0m\u001b[0mkwargs\u001b[0m\u001b[1;33m)\u001b[0m\u001b[1;33m:\u001b[0m\u001b[1;33m\u001b[0m\u001b[1;33m\u001b[0m\u001b[0m\n",
      "\u001b[1;32m~\\anaconda3\\lib\\site-packages\\sklearn\\pipeline.py\u001b[0m in \u001b[0;36m_fit_transform_one\u001b[1;34m(transformer, X, y, weight, message_clsname, message, **fit_params)\u001b[0m\n\u001b[0;32m    752\u001b[0m     \u001b[1;32mwith\u001b[0m \u001b[0m_print_elapsed_time\u001b[0m\u001b[1;33m(\u001b[0m\u001b[0mmessage_clsname\u001b[0m\u001b[1;33m,\u001b[0m \u001b[0mmessage\u001b[0m\u001b[1;33m)\u001b[0m\u001b[1;33m:\u001b[0m\u001b[1;33m\u001b[0m\u001b[1;33m\u001b[0m\u001b[0m\n\u001b[0;32m    753\u001b[0m         \u001b[1;32mif\u001b[0m \u001b[0mhasattr\u001b[0m\u001b[1;33m(\u001b[0m\u001b[0mtransformer\u001b[0m\u001b[1;33m,\u001b[0m \u001b[1;34m'fit_transform'\u001b[0m\u001b[1;33m)\u001b[0m\u001b[1;33m:\u001b[0m\u001b[1;33m\u001b[0m\u001b[1;33m\u001b[0m\u001b[0m\n\u001b[1;32m--> 754\u001b[1;33m             \u001b[0mres\u001b[0m \u001b[1;33m=\u001b[0m \u001b[0mtransformer\u001b[0m\u001b[1;33m.\u001b[0m\u001b[0mfit_transform\u001b[0m\u001b[1;33m(\u001b[0m\u001b[0mX\u001b[0m\u001b[1;33m,\u001b[0m \u001b[0my\u001b[0m\u001b[1;33m,\u001b[0m \u001b[1;33m**\u001b[0m\u001b[0mfit_params\u001b[0m\u001b[1;33m)\u001b[0m\u001b[1;33m\u001b[0m\u001b[1;33m\u001b[0m\u001b[0m\n\u001b[0m\u001b[0;32m    755\u001b[0m         \u001b[1;32melse\u001b[0m\u001b[1;33m:\u001b[0m\u001b[1;33m\u001b[0m\u001b[1;33m\u001b[0m\u001b[0m\n\u001b[0;32m    756\u001b[0m             \u001b[0mres\u001b[0m \u001b[1;33m=\u001b[0m \u001b[0mtransformer\u001b[0m\u001b[1;33m.\u001b[0m\u001b[0mfit\u001b[0m\u001b[1;33m(\u001b[0m\u001b[0mX\u001b[0m\u001b[1;33m,\u001b[0m \u001b[0my\u001b[0m\u001b[1;33m,\u001b[0m \u001b[1;33m**\u001b[0m\u001b[0mfit_params\u001b[0m\u001b[1;33m)\u001b[0m\u001b[1;33m.\u001b[0m\u001b[0mtransform\u001b[0m\u001b[1;33m(\u001b[0m\u001b[0mX\u001b[0m\u001b[1;33m)\u001b[0m\u001b[1;33m\u001b[0m\u001b[1;33m\u001b[0m\u001b[0m\n",
      "\u001b[1;32m~\\anaconda3\\lib\\site-packages\\sklearn\\feature_extraction\\text.py\u001b[0m in \u001b[0;36mfit_transform\u001b[1;34m(self, raw_documents, y)\u001b[0m\n\u001b[0;32m   1200\u001b[0m         \u001b[0mmax_features\u001b[0m \u001b[1;33m=\u001b[0m \u001b[0mself\u001b[0m\u001b[1;33m.\u001b[0m\u001b[0mmax_features\u001b[0m\u001b[1;33m\u001b[0m\u001b[1;33m\u001b[0m\u001b[0m\n\u001b[0;32m   1201\u001b[0m \u001b[1;33m\u001b[0m\u001b[0m\n\u001b[1;32m-> 1202\u001b[1;33m         vocabulary, X = self._count_vocab(raw_documents,\n\u001b[0m\u001b[0;32m   1203\u001b[0m                                           self.fixed_vocabulary_)\n\u001b[0;32m   1204\u001b[0m \u001b[1;33m\u001b[0m\u001b[0m\n",
      "\u001b[1;32m~\\anaconda3\\lib\\site-packages\\sklearn\\feature_extraction\\text.py\u001b[0m in \u001b[0;36m_count_vocab\u001b[1;34m(self, raw_documents, fixed_vocab)\u001b[0m\n\u001b[0;32m   1112\u001b[0m         \u001b[1;32mfor\u001b[0m \u001b[0mdoc\u001b[0m \u001b[1;32min\u001b[0m \u001b[0mraw_documents\u001b[0m\u001b[1;33m:\u001b[0m\u001b[1;33m\u001b[0m\u001b[1;33m\u001b[0m\u001b[0m\n\u001b[0;32m   1113\u001b[0m             \u001b[0mfeature_counter\u001b[0m \u001b[1;33m=\u001b[0m \u001b[1;33m{\u001b[0m\u001b[1;33m}\u001b[0m\u001b[1;33m\u001b[0m\u001b[1;33m\u001b[0m\u001b[0m\n\u001b[1;32m-> 1114\u001b[1;33m             \u001b[1;32mfor\u001b[0m \u001b[0mfeature\u001b[0m \u001b[1;32min\u001b[0m \u001b[0manalyze\u001b[0m\u001b[1;33m(\u001b[0m\u001b[0mdoc\u001b[0m\u001b[1;33m)\u001b[0m\u001b[1;33m:\u001b[0m\u001b[1;33m\u001b[0m\u001b[1;33m\u001b[0m\u001b[0m\n\u001b[0m\u001b[0;32m   1115\u001b[0m                 \u001b[1;32mtry\u001b[0m\u001b[1;33m:\u001b[0m\u001b[1;33m\u001b[0m\u001b[1;33m\u001b[0m\u001b[0m\n\u001b[0;32m   1116\u001b[0m                     \u001b[0mfeature_idx\u001b[0m \u001b[1;33m=\u001b[0m \u001b[0mvocabulary\u001b[0m\u001b[1;33m[\u001b[0m\u001b[0mfeature\u001b[0m\u001b[1;33m]\u001b[0m\u001b[1;33m\u001b[0m\u001b[1;33m\u001b[0m\u001b[0m\n",
      "\u001b[1;32m~\\anaconda3\\lib\\site-packages\\sklearn\\feature_extraction\\text.py\u001b[0m in \u001b[0;36m_analyze\u001b[1;34m(doc, analyzer, tokenizer, ngrams, preprocessor, decoder, stop_words)\u001b[0m\n\u001b[0;32m    102\u001b[0m     \u001b[1;32melse\u001b[0m\u001b[1;33m:\u001b[0m\u001b[1;33m\u001b[0m\u001b[1;33m\u001b[0m\u001b[0m\n\u001b[0;32m    103\u001b[0m         \u001b[1;32mif\u001b[0m \u001b[0mpreprocessor\u001b[0m \u001b[1;32mis\u001b[0m \u001b[1;32mnot\u001b[0m \u001b[1;32mNone\u001b[0m\u001b[1;33m:\u001b[0m\u001b[1;33m\u001b[0m\u001b[1;33m\u001b[0m\u001b[0m\n\u001b[1;32m--> 104\u001b[1;33m             \u001b[0mdoc\u001b[0m \u001b[1;33m=\u001b[0m \u001b[0mpreprocessor\u001b[0m\u001b[1;33m(\u001b[0m\u001b[0mdoc\u001b[0m\u001b[1;33m)\u001b[0m\u001b[1;33m\u001b[0m\u001b[1;33m\u001b[0m\u001b[0m\n\u001b[0m\u001b[0;32m    105\u001b[0m         \u001b[1;32mif\u001b[0m \u001b[0mtokenizer\u001b[0m \u001b[1;32mis\u001b[0m \u001b[1;32mnot\u001b[0m \u001b[1;32mNone\u001b[0m\u001b[1;33m:\u001b[0m\u001b[1;33m\u001b[0m\u001b[1;33m\u001b[0m\u001b[0m\n\u001b[0;32m    106\u001b[0m             \u001b[0mdoc\u001b[0m \u001b[1;33m=\u001b[0m \u001b[0mtokenizer\u001b[0m\u001b[1;33m(\u001b[0m\u001b[0mdoc\u001b[0m\u001b[1;33m)\u001b[0m\u001b[1;33m\u001b[0m\u001b[1;33m\u001b[0m\u001b[0m\n",
      "\u001b[1;32m~\\anaconda3\\lib\\site-packages\\sklearn\\feature_extraction\\text.py\u001b[0m in \u001b[0;36m_preprocess\u001b[1;34m(doc, accent_function, lower)\u001b[0m\n\u001b[0;32m     67\u001b[0m     \"\"\"\n\u001b[0;32m     68\u001b[0m     \u001b[1;32mif\u001b[0m \u001b[0mlower\u001b[0m\u001b[1;33m:\u001b[0m\u001b[1;33m\u001b[0m\u001b[1;33m\u001b[0m\u001b[0m\n\u001b[1;32m---> 69\u001b[1;33m         \u001b[0mdoc\u001b[0m \u001b[1;33m=\u001b[0m \u001b[0mdoc\u001b[0m\u001b[1;33m.\u001b[0m\u001b[0mlower\u001b[0m\u001b[1;33m(\u001b[0m\u001b[1;33m)\u001b[0m\u001b[1;33m\u001b[0m\u001b[1;33m\u001b[0m\u001b[0m\n\u001b[0m\u001b[0;32m     70\u001b[0m     \u001b[1;32mif\u001b[0m \u001b[0maccent_function\u001b[0m \u001b[1;32mis\u001b[0m \u001b[1;32mnot\u001b[0m \u001b[1;32mNone\u001b[0m\u001b[1;33m:\u001b[0m\u001b[1;33m\u001b[0m\u001b[1;33m\u001b[0m\u001b[0m\n\u001b[0;32m     71\u001b[0m         \u001b[0mdoc\u001b[0m \u001b[1;33m=\u001b[0m \u001b[0maccent_function\u001b[0m\u001b[1;33m(\u001b[0m\u001b[0mdoc\u001b[0m\u001b[1;33m)\u001b[0m\u001b[1;33m\u001b[0m\u001b[1;33m\u001b[0m\u001b[0m\n",
      "\u001b[1;32m~\\anaconda3\\lib\\site-packages\\scipy\\sparse\\base.py\u001b[0m in \u001b[0;36m__getattr__\u001b[1;34m(self, attr)\u001b[0m\n\u001b[0;32m    685\u001b[0m             \u001b[1;32mreturn\u001b[0m \u001b[0mself\u001b[0m\u001b[1;33m.\u001b[0m\u001b[0mgetnnz\u001b[0m\u001b[1;33m(\u001b[0m\u001b[1;33m)\u001b[0m\u001b[1;33m\u001b[0m\u001b[1;33m\u001b[0m\u001b[0m\n\u001b[0;32m    686\u001b[0m         \u001b[1;32melse\u001b[0m\u001b[1;33m:\u001b[0m\u001b[1;33m\u001b[0m\u001b[1;33m\u001b[0m\u001b[0m\n\u001b[1;32m--> 687\u001b[1;33m             \u001b[1;32mraise\u001b[0m \u001b[0mAttributeError\u001b[0m\u001b[1;33m(\u001b[0m\u001b[0mattr\u001b[0m \u001b[1;33m+\u001b[0m \u001b[1;34m\" not found\"\u001b[0m\u001b[1;33m)\u001b[0m\u001b[1;33m\u001b[0m\u001b[1;33m\u001b[0m\u001b[0m\n\u001b[0m\u001b[0;32m    688\u001b[0m \u001b[1;33m\u001b[0m\u001b[0m\n\u001b[0;32m    689\u001b[0m     \u001b[1;32mdef\u001b[0m \u001b[0mtranspose\u001b[0m\u001b[1;33m(\u001b[0m\u001b[0mself\u001b[0m\u001b[1;33m,\u001b[0m \u001b[0maxes\u001b[0m\u001b[1;33m=\u001b[0m\u001b[1;32mNone\u001b[0m\u001b[1;33m,\u001b[0m \u001b[0mcopy\u001b[0m\u001b[1;33m=\u001b[0m\u001b[1;32mFalse\u001b[0m\u001b[1;33m)\u001b[0m\u001b[1;33m:\u001b[0m\u001b[1;33m\u001b[0m\u001b[1;33m\u001b[0m\u001b[0m\n",
      "\u001b[1;31mAttributeError\u001b[0m: lower not found"
     ]
    }
   ],
   "source": [
    "pipe.fit(X_train, y_train)\n",
    "pipe.score(X_train, y_train), pipe.score(X_test, y_test)"
   ]
  }
 ],
 "metadata": {
  "kernelspec": {
   "display_name": "Python 3 (ipykernel)",
   "language": "python",
   "name": "python3"
  },
  "language_info": {
   "codemirror_mode": {
    "name": "ipython",
    "version": 3
   },
   "file_extension": ".py",
   "mimetype": "text/x-python",
   "name": "python",
   "nbconvert_exporter": "python",
   "pygments_lexer": "ipython3",
   "version": "3.9.7"
  }
 },
 "nbformat": 4,
 "nbformat_minor": 5
}
