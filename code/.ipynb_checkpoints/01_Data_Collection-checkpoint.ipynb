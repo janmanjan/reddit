{
 "cells": [
  {
   "cell_type": "markdown",
   "id": "89a7515f-63aa-46e9-9df2-21d05583f1e0",
   "metadata": {
    "tags": []
   },
   "source": [
    "### Imports"
   ]
  },
  {
   "cell_type": "code",
   "execution_count": 1,
   "id": "c91d3f2f-b61e-48ee-8878-e348230496cb",
   "metadata": {},
   "outputs": [],
   "source": [
    "import numpy as np\n",
    "import pandas as pd\n",
    "\n",
    "import requests\n",
    "import time "
   ]
  },
  {
   "cell_type": "markdown",
   "id": "8b8a6102-2abb-4858-a1dc-348dbd7d77fc",
   "metadata": {},
   "source": [
    "### Data Collection"
   ]
  },
  {
   "cell_type": "code",
   "execution_count": 2,
   "id": "68592bf8-58cc-4080-8873-07a46134cc64",
   "metadata": {},
   "outputs": [],
   "source": [
    "# function for web scrapping reddit api\n",
    "def get_posts(subreddit, before):\n",
    "    df = pd.DataFrame(columns = ['subreddit', 'title', 'selftext', 'created_utc'])\n",
    "    for i in range(1000):\n",
    "        url = 'https://api.pushshift.io/reddit/search/submission/'\n",
    "\n",
    "        params = {\n",
    "            'subreddit' : subreddit,\n",
    "            'size' : 100,\n",
    "            'metadata' : 'true',\n",
    "            'before' : before,\n",
    "        }\n",
    "\n",
    "        res = requests.get(url, params)\n",
    "\n",
    "        posts = res.json()['data']\n",
    "\n",
    "        df = df.append(pd.DataFrame(posts)[['subreddit', 'title', 'selftext', 'created_utc']], ignore_index=True)\n",
    "        \n",
    "        before = df['created_utc'].iloc[-1]\n",
    "        \n",
    "        time.sleep(np.random.choice(3))\n",
    "        \n",
    "    return df\n",
    "\n",
    "# reference to classmate Sara"
   ]
  },
  {
   "cell_type": "code",
   "execution_count": null,
   "id": "abd065be-e324-4020-90cf-345c567404f3",
   "metadata": {},
   "outputs": [],
   "source": [
    "# grabbing no stupid questions subreddit\n",
    "nsq = get_posts('NoStupidQuestions', 1642276536)\n",
    "\n",
    "# grabbing too afraid to ask subreddit\n",
    "tata = get_posts('TooAfraidToAsk', 1642276410)"
   ]
  },
  {
   "cell_type": "code",
   "execution_count": null,
   "id": "a3862504-0e19-462e-8c06-dffee0ea78ae",
   "metadata": {
    "tags": []
   },
   "outputs": [],
   "source": [
    "nsq.shape"
   ]
  },
  {
   "cell_type": "code",
   "execution_count": null,
   "id": "a207bbf3-fe9d-4588-8481-53c295b29182",
   "metadata": {},
   "outputs": [],
   "source": [
    "tata.shape"
   ]
  },
  {
   "cell_type": "code",
   "execution_count": null,
   "id": "9fb57ced-9cd3-4503-95d2-c05eafe1df61",
   "metadata": {},
   "outputs": [],
   "source": [
    "# combine subreddits\n",
    "subreddits = pd.concat([nsq, tata], axis =0)"
   ]
  },
  {
   "cell_type": "code",
   "execution_count": 9,
   "id": "206320a8-ade5-47ad-9ee9-4ceee8e46975",
   "metadata": {},
   "outputs": [
    {
     "data": {
      "text/html": [
       "<div>\n",
       "<style scoped>\n",
       "    .dataframe tbody tr th:only-of-type {\n",
       "        vertical-align: middle;\n",
       "    }\n",
       "\n",
       "    .dataframe tbody tr th {\n",
       "        vertical-align: top;\n",
       "    }\n",
       "\n",
       "    .dataframe thead th {\n",
       "        text-align: right;\n",
       "    }\n",
       "</style>\n",
       "<table border=\"1\" class=\"dataframe\">\n",
       "  <thead>\n",
       "    <tr style=\"text-align: right;\">\n",
       "      <th></th>\n",
       "      <th>subreddit</th>\n",
       "      <th>title</th>\n",
       "      <th>selftext</th>\n",
       "      <th>created_utc</th>\n",
       "    </tr>\n",
       "  </thead>\n",
       "  <tbody>\n",
       "    <tr>\n",
       "      <th>0</th>\n",
       "      <td>NoStupidQuestions</td>\n",
       "      <td>What is the peak number density of spiders, wi...</td>\n",
       "      <td></td>\n",
       "      <td>1641836873</td>\n",
       "    </tr>\n",
       "    <tr>\n",
       "      <th>1</th>\n",
       "      <td>NoStupidQuestions</td>\n",
       "      <td>Can a white lady find it funny when she sees a...</td>\n",
       "      <td></td>\n",
       "      <td>1641836746</td>\n",
       "    </tr>\n",
       "    <tr>\n",
       "      <th>2</th>\n",
       "      <td>NoStupidQuestions</td>\n",
       "      <td>Where do STI's originate from?</td>\n",
       "      <td>If no one is born with them, and they are tran...</td>\n",
       "      <td>1641836722</td>\n",
       "    </tr>\n",
       "    <tr>\n",
       "      <th>3</th>\n",
       "      <td>NoStupidQuestions</td>\n",
       "      <td>What makes something an NFT?</td>\n",
       "      <td>[removed]</td>\n",
       "      <td>1641836669</td>\n",
       "    </tr>\n",
       "    <tr>\n",
       "      <th>4</th>\n",
       "      <td>NoStupidQuestions</td>\n",
       "      <td>Does a baby in the womb share the same blood t...</td>\n",
       "      <td>A baby is a combination of cells grown in thei...</td>\n",
       "      <td>1641836631</td>\n",
       "    </tr>\n",
       "  </tbody>\n",
       "</table>\n",
       "</div>"
      ],
      "text/plain": [
       "           subreddit                                              title  \\\n",
       "0  NoStupidQuestions  What is the peak number density of spiders, wi...   \n",
       "1  NoStupidQuestions  Can a white lady find it funny when she sees a...   \n",
       "2  NoStupidQuestions                     Where do STI's originate from?   \n",
       "3  NoStupidQuestions                       What makes something an NFT?   \n",
       "4  NoStupidQuestions  Does a baby in the womb share the same blood t...   \n",
       "\n",
       "                                            selftext created_utc  \n",
       "0                                                     1641836873  \n",
       "1                                                     1641836746  \n",
       "2  If no one is born with them, and they are tran...  1641836722  \n",
       "3                                          [removed]  1641836669  \n",
       "4  A baby is a combination of cells grown in thei...  1641836631  "
      ]
     },
     "execution_count": 9,
     "metadata": {},
     "output_type": "execute_result"
    }
   ],
   "source": [
    "subreddits.head()"
   ]
  },
  {
   "cell_type": "code",
   "execution_count": 14,
   "id": "ff6f6cd7-00c5-41a5-9130-d6c50ed0ea62",
   "metadata": {},
   "outputs": [],
   "source": [
    "# saving raw data\n",
    "subreddits.to_csv('C:/Users/mmoli/GA/projects/project_3/data/subbreddits_raw.csv', index=False)"
   ]
  }
 ],
 "metadata": {
  "kernelspec": {
   "display_name": "Python 3 (ipykernel)",
   "language": "python",
   "name": "python3"
  },
  "language_info": {
   "codemirror_mode": {
    "name": "ipython",
    "version": 3
   },
   "file_extension": ".py",
   "mimetype": "text/x-python",
   "name": "python",
   "nbconvert_exporter": "python",
   "pygments_lexer": "ipython3",
   "version": "3.9.7"
  }
 },
 "nbformat": 4,
 "nbformat_minor": 5
}
